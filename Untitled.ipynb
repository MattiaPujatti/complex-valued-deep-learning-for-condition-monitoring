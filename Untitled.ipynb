{
 "cells": [
  {
   "cell_type": "code",
   "execution_count": 1,
   "id": "64afb935",
   "metadata": {},
   "outputs": [],
   "source": [
    "import jax.numpy as jnp\n",
    "import numpy as np\n",
    "import haiku as hk\n",
    "import jax\n",
    "from haiku._src.utils import get_channel_index"
   ]
  },
  {
   "cell_type": "code",
   "execution_count": 143,
   "id": "09880196",
   "metadata": {},
   "outputs": [
    {
     "data": {
      "text/plain": [
       "(64, 3, 200, 100)"
      ]
     },
     "execution_count": 143,
     "metadata": {},
     "output_type": "execute_result"
    }
   ],
   "source": [
    "inputs_channel_first.shape"
   ]
  },
  {
   "cell_type": "code",
   "execution_count": 147,
   "id": "bba6aaf5",
   "metadata": {},
   "outputs": [
    {
     "data": {
      "text/plain": [
       "[1, 3, 1, 1]"
      ]
     },
     "execution_count": 147,
     "metadata": {},
     "output_type": "execute_result"
    }
   ],
   "source": [
    "channel_index = 1\n",
    "[1 if i!=channel_index else inputs_channel_first.shape[channel_index] for i in range(inputs_channel_first.ndim)]"
   ]
  },
  {
   "cell_type": "code",
   "execution_count": 210,
   "id": "84f8525c",
   "metadata": {
    "collapsed": true
   },
   "outputs": [
    {
     "ename": "ValueError",
     "evalue": "Unable to extract channel information from 'CNHW'. Valid data formats are spatial (e.g.`NCHW`), sequential (e.g. `BTHWD`), `channels_first` and `channels_last`).",
     "output_type": "error",
     "traceback": [
      "\u001b[0;31m---------------------------------------------------------------------------\u001b[0m",
      "\u001b[0;31mValueError\u001b[0m                                Traceback (most recent call last)",
      "\u001b[0;32m/tmp/ipykernel_589385/387812472.py\u001b[0m in \u001b[0;36m<module>\u001b[0;34m\u001b[0m\n\u001b[0;32m----> 1\u001b[0;31m \u001b[0mget_channel_index\u001b[0m\u001b[0;34m(\u001b[0m\u001b[0;34m'CNHW'\u001b[0m\u001b[0;34m)\u001b[0m\u001b[0;34m\u001b[0m\u001b[0;34m\u001b[0m\u001b[0m\n\u001b[0m",
      "\u001b[0;32m~/anaconda3/envs/jax_env/lib/python3.9/site-packages/haiku/_src/utils.py\u001b[0m in \u001b[0;36mget_channel_index\u001b[0;34m(data_format)\u001b[0m\n\u001b[1;32m    160\u001b[0m   \u001b[0;32mif\u001b[0m \u001b[0m_SEQUENTIAL\u001b[0m\u001b[0;34m.\u001b[0m\u001b[0mmatch\u001b[0m\u001b[0;34m(\u001b[0m\u001b[0mdata_format\u001b[0m\u001b[0;34m)\u001b[0m\u001b[0;34m:\u001b[0m\u001b[0;34m\u001b[0m\u001b[0;34m\u001b[0m\u001b[0m\n\u001b[1;32m    161\u001b[0m     \u001b[0;32mreturn\u001b[0m \u001b[0;34m-\u001b[0m\u001b[0;36m1\u001b[0m\u001b[0;34m\u001b[0m\u001b[0;34m\u001b[0m\u001b[0m\n\u001b[0;32m--> 162\u001b[0;31m   raise ValueError(\n\u001b[0m\u001b[1;32m    163\u001b[0m       \u001b[0;34m\"Unable to extract channel information from '{}'. Valid data formats are \"\u001b[0m\u001b[0;34m\u001b[0m\u001b[0;34m\u001b[0m\u001b[0m\n\u001b[1;32m    164\u001b[0m       \u001b[0;34m\"spatial (e.g.`NCHW`), sequential (e.g. `BTHWD`), `channels_first` and \"\u001b[0m\u001b[0;34m\u001b[0m\u001b[0;34m\u001b[0m\u001b[0m\n",
      "\u001b[0;31mValueError\u001b[0m: Unable to extract channel information from 'CNHW'. Valid data formats are spatial (e.g.`NCHW`), sequential (e.g. `BTHWD`), `channels_first` and `channels_last`)."
     ]
    }
   ],
   "source": [
    "get_channel_index('CNHW')"
   ]
  },
  {
   "cell_type": "code",
   "execution_count": 224,
   "id": "1c2a7816",
   "metadata": {},
   "outputs": [],
   "source": [
    "def testing_batchnorm(inputs, data_format='NCHW'):\n",
    "    \n",
    "    channel_index = get_channel_index(data_format)\n",
    "    if channel_index == 1: channel_first = True\n",
    "    if channel_index < 0:\n",
    "        channel_index += inputs.ndim\n",
    "    axis = [i for i in range(inputs.ndim) if i != channel_index]\n",
    "\n",
    "    inputs = jnp.array([inputs.real, inputs.imag])\n",
    "    channel_index += 1\n",
    "    axis = [i+1 for i in axis] \n",
    "    print('channel_index: ', channel_index)\n",
    "    print('axis: ', axis)\n",
    "    print('input_shape: ', inputs.shape)\n",
    "    \n",
    "    mean = jnp.mean(inputs, axis, keepdims=True)\n",
    "    print('Mean: ', mean)\n",
    "    \n",
    "    centered_inputs = inputs - mean\n",
    "    \n",
    "    variances = (centered_inputs * centered_inputs).mean(axis) + 1e-5\n",
    "    Var_Rez = variances[0]\n",
    "    Var_Imz = variances[1]\n",
    "    print('V_rr: ', Var_Rez)\n",
    "    print('V_ii: ', Var_Imz)\n",
    "    \n",
    "    Cov_ReIm = Cov_ImRe = (centered_inputs[0] * centered_inputs[1]).mean([a-1 for a in axis])\n",
    "    print('V_ri = V_ir: ', Cov_ReIm.shape)\n",
    "    \n",
    "    covariance_matrix = jnp.array( [[Var_Rez, Cov_ReIm], [Cov_ImRe, Var_Imz]] )\n",
    "    print('Covariance matrix: ', covariance_matrix.reshape(2,2,-1).shape)\n",
    "\n",
    "    print('\\n')\n",
    "    sqrt_det = jnp.sqrt(Var_Rez * Var_Imz - Cov_ReIm * Cov_ImRe)\n",
    "    sqrt_tr  = jnp.sqrt(Var_Rez + Var_Imz + 2*sqrt_det)\n",
    "    print(sqrt_det, sqrt_tr)\n",
    "    \n",
    "    denom = sqrt_det * jnp.sqrt(Var_Rez + 2 * sqrt_det + Var_Imz)\n",
    "    print('denom: ', denom)\n",
    "    #print('my denom: ', 1 / jnp.sqrt(sqrt_tr / sqrt_det))\n",
    "    \n",
    "    inverse_root_covmat = jnp.array([[Var_Imz + sqrt_det, - Cov_ReIm], \n",
    "                                     [- Cov_ImRe, Var_Rez + sqrt_det]]).reshape(2,2,-1)\n",
    "    inverse_root_covmat /= denom\n",
    "    print(inverse_root_covmat.shape, centered_inputs.shape)\n",
    "    if channel_first:\n",
    "        einstein_formula = 'ijk,jlk...->ilk...'\n",
    "    else:\n",
    "        einstein_formula = 'ij...,j...->i...'\n",
    "    normalized_input = jnp.einsum(einstein_formula, inverse_root_covmat, centered_inputs)\n",
    "    \n",
    "    print([1 if i in axis else inputs.shape[i] for i in range(inputs.ndim)])\n",
    "    \n",
    "    return normalized_input"
   ]
  },
  {
   "cell_type": "code",
   "execution_count": 176,
   "id": "3cbfeb3b",
   "metadata": {},
   "outputs": [],
   "source": [
    "inputs_nc = jax.random.normal(jax.random.PRNGKey(0), (64,200), jnp.csingle)"
   ]
  },
  {
   "cell_type": "code",
   "execution_count": 203,
   "id": "c7276b47",
   "metadata": {},
   "outputs": [],
   "source": [
    "inputs_channel_first = jax.random.normal(jax.random.PRNGKey(0), (64,3,200,100), jnp.csingle) * (24-0.6j) -3"
   ]
  },
  {
   "cell_type": "code",
   "execution_count": 164,
   "id": "90ec0b85",
   "metadata": {},
   "outputs": [],
   "source": [
    "inputs_real = jax.random.uniform(jax.random.PRNGKey(1), (64,200,100,3))\n",
    "inputs_imag = jax.random.uniform(jax.random.PRNGKey(0), (64,200,100,3))\n",
    "inputs_channel_last = jax.lax.complex(inputs_real, inputs_imag)"
   ]
  },
  {
   "cell_type": "code",
   "execution_count": 225,
   "id": "e61b9d1a",
   "metadata": {},
   "outputs": [
    {
     "name": "stdout",
     "output_type": "stream",
     "text": [
      "channel_index:  2\n",
      "axis:  [1, 3, 4]\n",
      "input_shape:  (2, 64, 3, 200, 100)\n",
      "Mean:  [[[[[-2.9938722 ]]\n",
      "\n",
      "   [[-3.015481  ]]\n",
      "\n",
      "   [[-3.0342317 ]]]]\n",
      "\n",
      "\n",
      "\n",
      " [[[[-0.01056103]]\n",
      "\n",
      "   [[ 0.01909198]]\n",
      "\n",
      "   [[-0.00530588]]]]]\n",
      "V_rr:  [288.5507  288.13956 287.8861 ]\n",
      "V_ii:  [287.93304 288.0765  288.1567 ]\n",
      "V_ri = V_ir:  (3,)\n",
      "Covariance matrix:  (2, 2, 3)\n",
      "\n",
      "\n",
      "[288.24164 288.10785 288.0212 ] [33.955368 33.947487 33.94238 ]\n",
      "denom:  [9787.351 9780.537 9776.125]\n",
      "(2, 2, 3) (2, 64, 3, 200, 100)\n",
      "[2, 1, 3, 1, 1]\n"
     ]
    }
   ],
   "source": [
    "normalized_input = testing_batchnorm(inputs_channel_first, data_format='NCHW')"
   ]
  },
  {
   "cell_type": "code",
   "execution_count": 220,
   "id": "b1aa6078",
   "metadata": {},
   "outputs": [
    {
     "name": "stdout",
     "output_type": "stream",
     "text": [
      "[[[ 2.8855069e+02  2.8813956e+02  2.8788611e+02]\n",
      "  [ 1.8422553e-01 -3.0165416e-01 -3.0266324e-01]]\n",
      "\n",
      " [[ 1.8422553e-01 -3.0165416e-01 -3.0266324e-01]\n",
      "  [ 2.8793304e+02  2.8807651e+02  2.8815671e+02]]]\n"
     ]
    }
   ],
   "source": [
    "print(normalized_input)\n",
    "a, b, c, d = normalized_input.reshape(4,-1)"
   ]
  },
  {
   "cell_type": "code",
   "execution_count": 222,
   "id": "8ba7a2ee",
   "metadata": {},
   "outputs": [
    {
     "data": {
      "text/plain": [
       "DeviceArray([[2.8855069e+02, 1.8422553e-01],\n",
       "             [1.8422553e-01, 2.8793304e+02]], dtype=float32)"
      ]
     },
     "execution_count": 222,
     "metadata": {},
     "output_type": "execute_result"
    }
   ],
   "source": [
    "normalized_input[:,:,0]"
   ]
  },
  {
   "cell_type": "code",
   "execution_count": 223,
   "id": "ca8b0405",
   "metadata": {},
   "outputs": [
    {
     "name": "stdout",
     "output_type": "stream",
     "text": [
      "[288.5507  288.13956 287.8861 ] [ 0.18422553 -0.30165416 -0.30266324] [ 0.18422553 -0.30165416 -0.30266324] [287.93304 288.0765  288.1567 ]\n"
     ]
    }
   ],
   "source": [
    "print(a,b,c,d)"
   ]
  },
  {
   "cell_type": "code",
   "execution_count": 205,
   "id": "5a2606a3",
   "metadata": {},
   "outputs": [
    {
     "data": {
      "text/plain": [
       "(2, 64, 3, 200, 100)"
      ]
     },
     "execution_count": 205,
     "metadata": {},
     "output_type": "execute_result"
    }
   ],
   "source": [
    "normalized_input.shape"
   ]
  },
  {
   "cell_type": "code",
   "execution_count": 207,
   "id": "c75665de",
   "metadata": {},
   "outputs": [
    {
     "name": "stdout",
     "output_type": "stream",
     "text": [
      "[0.9999999 1.0000006 1.0000006]\n",
      "[1.0000011 0.9999999 1.0000005]\n",
      "[-2.8327107e-09  1.8060190e-09  2.9355292e-09]\n",
      "[-2.8327107e-09  1.8060190e-09  2.9355292e-09]\n"
     ]
    }
   ],
   "source": [
    "axis = [0,2,3]\n",
    "b = jax.lax.complex(normalized_input[0], normalized_input[1])\n",
    "Vrr = jnp.var(b.real, axis)\n",
    "print(Vrr)\n",
    "Vii = jnp.var(b.imag, axis)\n",
    "print(Vii)\n",
    "Vri = jnp.mean(b.real*b.imag, axis) - jnp.mean(b.real, axis)*jnp.mean(b.imag, axis)\n",
    "print(Vri)\n",
    "Vir = jnp.mean(b.imag*b.real, axis) - jnp.mean(b.imag, axis)*jnp.mean(b.real, axis)\n",
    "print(Vir)"
   ]
  },
  {
   "cell_type": "code",
   "execution_count": null,
   "id": "63b07659",
   "metadata": {},
   "outputs": [],
   "source": []
  },
  {
   "cell_type": "code",
   "execution_count": null,
   "id": "cd54ebe9",
   "metadata": {},
   "outputs": [],
   "source": []
  },
  {
   "cell_type": "code",
   "execution_count": 71,
   "id": "83b17861",
   "metadata": {},
   "outputs": [],
   "source": [
    "\n",
    "\n",
    "inverse_root_covmat = jnp.sqrt(sqrt_tr / sqrt_det) * jnp.array([[Var_Imz + sqrt_det, - Cov_ReIm], \n",
    "                                                        [- Cov_ImRe, Var_Rez + sqrt_det]]).reshape(2,2,-1)"
   ]
  },
  {
   "cell_type": "code",
   "execution_count": 74,
   "id": "e87b99bf",
   "metadata": {},
   "outputs": [
    {
     "data": {
      "text/plain": [
       "DeviceArray([312149.4 , 311786.7 , 311552.75], dtype=float32)"
      ]
     },
     "execution_count": 74,
     "metadata": {},
     "output_type": "execute_result"
    }
   ],
   "source": [
    "jnp.var(reconstructed_input, [0,2,3])"
   ]
  },
  {
   "cell_type": "code",
   "execution_count": null,
   "id": "7746ae71",
   "metadata": {},
   "outputs": [],
   "source": []
  },
  {
   "cell_type": "code",
   "execution_count": null,
   "id": "d25a699e",
   "metadata": {},
   "outputs": [],
   "source": []
  },
  {
   "cell_type": "code",
   "execution_count": null,
   "id": "df69b8de",
   "metadata": {},
   "outputs": [],
   "source": [
    "(centered_inputs * centered_inputs).mean(axis, keepdims=True).shape"
   ]
  },
  {
   "cell_type": "code",
   "execution_count": null,
   "id": "bb1da4f7",
   "metadata": {},
   "outputs": [],
   "source": [
    "Var_Rez = jnp.var(jnp.expand_dims(inputs[0], 0), axis)\n",
    "print(Var_Rez.shape)\n",
    "Var_Imz = jnp.var(jnp.expand_dims(inputs[1], 0), axis)\n",
    "print(Var_Imz.shape)"
   ]
  },
  {
   "cell_type": "code",
   "execution_count": null,
   "id": "5e5d469d",
   "metadata": {},
   "outputs": [],
   "source": [
    "Cov_ReIm = jnp.mean(jnp.expand_dims(inputs[0]*inputs[1], 0), axis) - (mean[0]*mean[1]).reshape((Var_Rez.shape))\n",
    "print(Cov_ReIm.shape)\n",
    "Cov_ReIm"
   ]
  },
  {
   "cell_type": "code",
   "execution_count": null,
   "id": "e2a15e5b",
   "metadata": {},
   "outputs": [],
   "source": [
    "covariance_matrix = jnp.array( [[Var_Rez[0], Cov_ReIm[0]], [Cov_ReIm[0], Var_Imz[0]]] )\n",
    "print(covariance_matrix.shape)\n",
    "covariance_matrix[:,:,1]"
   ]
  },
  {
   "cell_type": "code",
   "execution_count": null,
   "id": "08d642eb",
   "metadata": {},
   "outputs": [],
   "source": [
    "eps = jax.lax.convert_element_type(1e-3, covariance_matrix.dtype)\n",
    "regularized_covmat = covariance_matrix + jnp.broadcast_to(jnp.identity(2)[...,None], covariance_matrix.shape)*eps"
   ]
  },
  {
   "cell_type": "code",
   "execution_count": null,
   "id": "e0b1d500",
   "metadata": {},
   "outputs": [],
   "source": [
    "regularized_covmat"
   ]
  },
  {
   "cell_type": "code",
   "execution_count": null,
   "id": "2b5b118c",
   "metadata": {},
   "outputs": [],
   "source": [
    "np.linalg.cholesky(regularized_covmat.T)"
   ]
  },
  {
   "cell_type": "code",
   "execution_count": null,
   "id": "c575acf4",
   "metadata": {},
   "outputs": [],
   "source": [
    "jnp.sqrt(regularized_covmat.T)"
   ]
  },
  {
   "cell_type": "code",
   "execution_count": null,
   "id": "d59d7fa2",
   "metadata": {},
   "outputs": [],
   "source": [
    "inverse_convmat = jnp.linalg.inv(jnp.sqrt(regularized_covmat.T))\n",
    "print(inverse_convmat.shape)"
   ]
  },
  {
   "cell_type": "code",
   "execution_count": null,
   "id": "3a7f606d",
   "metadata": {},
   "outputs": [],
   "source": [
    "inverse_convmat = jnp.sqrt(jnp.linalg.inv(regularized_covmat.T))\n",
    "print(inverse_convmat.shape)"
   ]
  },
  {
   "cell_type": "code",
   "execution_count": null,
   "id": "966d56d8",
   "metadata": {},
   "outputs": [],
   "source": [
    "inputs.shape"
   ]
  },
  {
   "cell_type": "code",
   "execution_count": null,
   "id": "8d04431e",
   "metadata": {},
   "outputs": [],
   "source": [
    "inverse_convmat"
   ]
  },
  {
   "cell_type": "code",
   "execution_count": null,
   "id": "25e01730",
   "metadata": {},
   "outputs": [],
   "source": [
    "normalized_input = jnp.einsum('ijk,kli...->jli...', inverse_convmat, inputs)\n",
    "print(normalized_input.shape)"
   ]
  },
  {
   "cell_type": "code",
   "execution_count": null,
   "id": "bd98c548",
   "metadata": {},
   "outputs": [],
   "source": [
    "normalized_input"
   ]
  },
  {
   "cell_type": "code",
   "execution_count": 59,
   "id": "f981d314",
   "metadata": {},
   "outputs": [
    {
     "name": "stdout",
     "output_type": "stream",
     "text": [
      "(64, 3, 200, 100)\n"
     ]
    }
   ],
   "source": [
    "b = jax.lax.complex(normalized_input[0], normalized_input[1])\n",
    "print(b.shape)"
   ]
  },
  {
   "cell_type": "code",
   "execution_count": 60,
   "id": "1618b7df",
   "metadata": {},
   "outputs": [
    {
     "data": {
      "text/plain": [
       "DeviceArray([-1.6033649e-08+6.5779687e-08j,  9.0599057e-09+5.9366226e-08j,\n",
       "             -1.2063980e-08-1.0442734e-08j], dtype=complex64)"
      ]
     },
     "execution_count": 60,
     "metadata": {},
     "output_type": "execute_result"
    }
   ],
   "source": [
    "jnp.mean(b, [0,2,3])"
   ]
  },
  {
   "cell_type": "code",
   "execution_count": 61,
   "id": "f5ba3589",
   "metadata": {},
   "outputs": [
    {
     "data": {
      "text/plain": [
       "DeviceArray([2.0000024-1.4729266e-11j, 2.0000036+2.4532746e-11j,\n",
       "             2.0000024+5.2360902e-12j], dtype=complex64)"
      ]
     },
     "execution_count": 61,
     "metadata": {},
     "output_type": "execute_result"
    }
   ],
   "source": [
    "jnp.mean((b - jnp.mean(b, [0,2,3], keepdims=True)) * jnp.conjugate(b - jnp.mean(b, [0,2,3], keepdims=True)), [0,2,3])"
   ]
  },
  {
   "cell_type": "code",
   "execution_count": 62,
   "id": "ec113def",
   "metadata": {},
   "outputs": [
    {
     "data": {
      "text/plain": [
       "DeviceArray([2.0442009e-07+5.47170620e-09j, 9.3636510e-07-1.39236445e-08j,\n",
       "             1.3365745e-07-6.77108769e-09j], dtype=complex64)"
      ]
     },
     "execution_count": 62,
     "metadata": {},
     "output_type": "execute_result"
    }
   ],
   "source": [
    "jnp.mean((b - jnp.mean(b, [0,2,3], keepdims=True)) * (b - jnp.mean(b, [0,2,3], keepdims=True)), [0,2,3])"
   ]
  },
  {
   "cell_type": "code",
   "execution_count": 63,
   "id": "10a66d92",
   "metadata": {},
   "outputs": [
    {
     "name": "stdout",
     "output_type": "stream",
     "text": [
      "[0.9999997 1.0000012 0.9999997]\n",
      "[0.99999934 1.0000004  0.9999991 ]\n",
      "[ 8.8810997e-10 -9.2536256e-10  1.0728834e-09]\n",
      "[ 8.8810997e-10 -9.2536256e-10  1.0728834e-09]\n"
     ]
    }
   ],
   "source": []
  },
  {
   "cell_type": "code",
   "execution_count": null,
   "id": "8d07ea4c",
   "metadata": {},
   "outputs": [],
   "source": []
  }
 ],
 "metadata": {
  "kernelspec": {
   "display_name": "Python 3 (ipykernel)",
   "language": "python",
   "name": "python3"
  },
  "language_info": {
   "codemirror_mode": {
    "name": "ipython",
    "version": 3
   },
   "file_extension": ".py",
   "mimetype": "text/x-python",
   "name": "python",
   "nbconvert_exporter": "python",
   "pygments_lexer": "ipython3",
   "version": "3.9.7"
  }
 },
 "nbformat": 4,
 "nbformat_minor": 5
}
