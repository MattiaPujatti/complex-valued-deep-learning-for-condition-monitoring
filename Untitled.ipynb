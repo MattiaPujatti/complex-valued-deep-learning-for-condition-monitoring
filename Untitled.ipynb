{
 "cells": [
  {
   "cell_type": "code",
   "execution_count": null,
   "id": "7e667e90",
   "metadata": {},
   "outputs": [],
   "source": [
    "import haiku as hk\n",
    "import matplotlib.pyplot as plt\n",
    "import numpy as np\n",
    "from importlib import reload"
   ]
  },
  {
   "cell_type": "code",
   "execution_count": null,
   "id": "a9459c91",
   "metadata": {},
   "outputs": [],
   "source": [
    "import torch \n",
    "import torchvision\n",
    "from torchvision import transforms\n",
    "import torchaudio\n",
    "from pathlib import Path\n",
    "from torch.utils.data import Dataset, DataLoader\n",
    "from tqdm.notebook import tqdm"
   ]
  },
  {
   "cell_type": "code",
   "execution_count": null,
   "id": "43f73795",
   "metadata": {},
   "outputs": [],
   "source": [
    "class PhaseMNIST(Dataset):\n",
    "    \n",
    "    def __init__(self, path, transform=None):\n",
    "        \n",
    "        with open(path + 'data.npy', 'rb') as f:\n",
    "            self.data = np.load(f)\n",
    "            \n",
    "        with open(path + 'labels.npy', 'rb') as f:\n",
    "            self.labels = np.load(f)\n",
    "        \n",
    "        self.length = len(self.labels)\n",
    "        self.transform = transform\n",
    "        \n",
    "    def __len__(self):\n",
    "        return self.length\n",
    "    \n",
    "    def __getitem__(self, index):\n",
    "        \n",
    "        sample = (self.data[index], self.labels[index])\n",
    "        \n",
    "        if self.transform is not None:\n",
    "            sample = self.transform(sample)\n",
    "        \n",
    "        return sample"
   ]
  },
  {
   "cell_type": "code",
   "execution_count": null,
   "id": "49ee11b6",
   "metadata": {},
   "outputs": [],
   "source": [
    "class ToTensor_onehot(object):\n",
    "    \"\"\"Convert sample to Tensors and one-hot encode the labels.\"\"\"\n",
    "    def __init__(self, n_classes=2):\n",
    "        self.n_classes = n_classes\n",
    "\n",
    "    def __call__(self, sample):\n",
    "        x, y = sample\n",
    "        # One-hot encoding\n",
    "        y = np.eye(self.n_classes)[y]\n",
    "        return ( torch.from_numpy(x), torch.tensor([y]) )\n",
    "    \n",
    "class Squeeze(object):\n",
    "    \"\"\"Remove the extra dimensions of the tensors.\"\"\"\n",
    "    def __init__(self, squeeze_x=True, squeeze_y=True):\n",
    "        self.squeeze_x = squeeze_x\n",
    "        self.squeeze_y = squeeze_y\n",
    "    \n",
    "    def __call__(self, sample):\n",
    "        x, y = sample\n",
    "        if self.squeeze_x:\n",
    "            x = torch.squeeze(x)\n",
    "        if self.squeeze_y:\n",
    "            y = torch.squeeze(y)\n",
    "        return ( x, y )"
   ]
  },
  {
   "cell_type": "code",
   "execution_count": null,
   "id": "d835e7c7",
   "metadata": {},
   "outputs": [],
   "source": [
    "def build_dataloaders(data_dir, composed_transform, drop_length=0, batch_size=32):\n",
    "    \n",
    "    full_dataset = PhaseMNIST(path=data_dir, transform=composed_transform)\n",
    "    \n",
    "    train_len = int(0.5 * (len(full_dataset)-drop_length))\n",
    "    test_len = len(full_dataset) - train_len - drop_length\n",
    "    train_ds, test_ds, _ = torch.utils.data.random_split(full_dataset, [train_len, test_len, drop_length])\n",
    "    \n",
    "    train_dataloader = DataLoader(train_ds, batch_size=batch_size, shuffle=True)\n",
    "\n",
    "    test_dataloader = DataLoader(test_ds, batch_size=batch_size, shuffle=True)\n",
    "    \n",
    "    return train_dataloader, test_dataloader"
   ]
  },
  {
   "cell_type": "code",
   "execution_count": null,
   "id": "b5a1fb5e",
   "metadata": {},
   "outputs": [],
   "source": []
  },
  {
   "cell_type": "code",
   "execution_count": null,
   "id": "64afb935",
   "metadata": {},
   "outputs": [],
   "source": []
  },
  {
   "cell_type": "code",
   "execution_count": null,
   "id": "c7276b47",
   "metadata": {},
   "outputs": [],
   "source": []
  },
  {
   "cell_type": "code",
   "execution_count": null,
   "id": "65a1b7c1",
   "metadata": {},
   "outputs": [],
   "source": []
  },
  {
   "cell_type": "code",
   "execution_count": null,
   "id": "95b86768",
   "metadata": {},
   "outputs": [],
   "source": []
  }
 ],
 "metadata": {
  "kernelspec": {
   "display_name": "Python 3 (ipykernel)",
   "language": "python",
   "name": "python3"
  },
  "language_info": {
   "codemirror_mode": {
    "name": "ipython",
    "version": 3
   },
   "file_extension": ".py",
   "mimetype": "text/x-python",
   "name": "python",
   "nbconvert_exporter": "python",
   "pygments_lexer": "ipython3",
   "version": "3.9.7"
  }
 },
 "nbformat": 4,
 "nbformat_minor": 5
}
