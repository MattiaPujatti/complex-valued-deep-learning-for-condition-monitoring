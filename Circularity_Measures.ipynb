{
 "cells": [
  {
   "cell_type": "markdown",
   "id": "5e412240",
   "metadata": {},
   "source": [
    "# Circularity Measures"
   ]
  },
  {
   "cell_type": "code",
   "execution_count": 1,
   "id": "a31002e1",
   "metadata": {},
   "outputs": [],
   "source": [
    "import numpy as np\n",
    "import pandas as pd\n",
    "import seaborn as sns\n",
    "import matplotlib.pyplot as plt\n",
    "from torch.utils.data import Dataset, DataLoader\n",
    "from tqdm.notebook import tqdm\n",
    "import pickle\n",
    "import torch\n",
    "import jax\n",
    "import jax.numpy as jnp\n",
    "import haiku as hk\n",
    "from torch.utils.data import Dataset, DataLoader\n",
    "sns.set_theme()\n",
    "%matplotlib inline"
   ]
  },
  {
   "cell_type": "code",
   "execution_count": 114,
   "id": "f879ca15",
   "metadata": {},
   "outputs": [],
   "source": [
    "import matplotlib as mpl\n",
    "mpl.rcParams['font.size'] = 20\n",
    "mpl.rcParams['text.usetex'] = True\n",
    "mpl.rcParams['text.latex.preamble'] = r'\\usepackage{{amsmath}}'"
   ]
  },
  {
   "cell_type": "code",
   "execution_count": 2,
   "id": "25098dd9",
   "metadata": {},
   "outputs": [],
   "source": [
    "# Enable double precision data with JAX\n",
    "# this only works on startup!\n",
    "from jax.config import config\n",
    "config.update(\"jax_enable_x64\", True)"
   ]
  },
  {
   "cell_type": "code",
   "execution_count": 3,
   "id": "6d2ed90c",
   "metadata": {},
   "outputs": [
    {
     "name": "stderr",
     "output_type": "stream",
     "text": [
      "WARNING:absl:No GPU/TPU found, falling back to CPU. (Set TF_CPP_MIN_LOG_LEVEL=0 and rerun for more info.)\n"
     ]
    }
   ],
   "source": [
    "from complex_nn.layers import Cmplx_Linear, Dropout\n",
    "from complex_nn.activations import cardioid\n",
    "from complex_nn.optimizers import cmplx_adam\n",
    "from complex_nn.Classifier_wrapper import Haiku_Classifier\n",
    "from complex_nn.utils import small_training_summary"
   ]
  },
  {
   "cell_type": "markdown",
   "id": "ed296881",
   "metadata": {},
   "source": [
    "## Circularity in complex analysis"
   ]
  },
  {
   "cell_type": "markdown",
   "id": "adf0d5e3",
   "metadata": {},
   "source": [
    "An important characteristic of a complex random variable is the so-called `circularity` property, or\n",
    "lack of it."
   ]
  },
  {
   "cell_type": "markdown",
   "id": "d63f03a6",
   "metadata": {},
   "source": [
    "Circular random variables have, in fact, vanishing pseudo-variance, index that its real and imaginary parts are statistically uncorrelated. Under this perspective, a [recent work](https://arxiv.org/abs/2009.08340v2) have shown\n",
    "that the circularity property of a dataset can significantly impact on the different performances, obtained using a complex-valued model with respect to its real counterpart. At least in principle, in fact, complex-valued networks seems to benefit more of dataset presenting inherent correlations. <br>\n",
    "Let us denote the vector $u=[X,Y]^T$ as the real vector built by stacking the real and imaginary parts of a complex random variable $Z = X + iY$. The probability density function of $Z$ can be identified with the pdf of $u$. The variance of $Z$ is defined by:\n",
    "\n",
    "$$\n",
    "\\sigma^2_Z = E[|Z - E[Z]|^2] = E[|Z|^2] - |E[Z]|^2 = \\sigma_X^2 + \\sigma_Y^2\n",
    "$$\n",
    "\n",
    "where $\\sigma^2_X$ and $\\sigma^2_Y$ are respectively the variances of $X$ and $Y$."
   ]
  },
  {
   "cell_type": "markdown",
   "id": "058cca25",
   "metadata": {},
   "source": [
    "Also, we denote the $2x2$ real covariance matrix of $u$ by:\n",
    "\n",
    "$$\n",
    "\\Sigma\\triangleq E\\left[\\left(\\begin{matrix} x\\\\ y\\end{matrix}\\right)\\left(\\begin{matrix} x & y\\end{matrix}\\right)\\right] = \\left(\\begin{matrix}\\sigma_x^2 & \\sigma_{xy}\\\\ \\sigma_{xy} & \\sigma_y^2  \\end{matrix}\\right)\n",
    "$$"
   ]
  },
  {
   "cell_type": "markdown",
   "id": "62cb5a83",
   "metadata": {},
   "source": [
    "However, these parameters does not bring any information about the `covariance` of $Z$:\n",
    "\n",
    "$$\n",
    "\\sigma_{XY} \\triangleq E[\\left(X-E[X]\\right)\\left(Y-E[Y]\\right)]\n",
    "$$\n",
    "\n",
    "for which we need to rely on another statistical quantity defined for complex random variables, i.e. the `pseudo-variance`:\n",
    "\n",
    "$$\n",
    "\\tau_Z\\triangleq E[\\left(Z-E[Z]\\right)^2] = \\sigma^2_{X} - \\sigma^2_Y + 2i\\sigma_{XY}\n",
    "$$"
   ]
  },
  {
   "cell_type": "markdown",
   "id": "fed2dc51",
   "metadata": {},
   "source": [
    "Unlike the variance of $Z$, which is always real and positive, the pseudo-variance is in general complex. <br>\n",
    "We define the `circular quotient` $\\rho_Z$ as:\n",
    "\n",
    "$$\n",
    "\\rho_Z = \\frac{\\tau_Z}{\\sigma^2_Z}\n",
    "$$\n",
    "\n",
    "Additionally, we can define also a `correlation coefficient` among real and imaginary parts of $Z$:\n",
    "\n",
    "$$\n",
    "\\rho = \\frac{\\sigma_{XY}}{\\sigma_X\\sigma_Y} \n",
    "$$"
   ]
  },
  {
   "cell_type": "markdown",
   "id": "8b261356",
   "metadata": {},
   "source": [
    "In some papers, the circular quotient is defined as a covariance measure between $Z$ and $\\bar{Z}$, so among a random variable and its complex conjugate, rather than considering real and imaginary parts. We believe that those formulations in the end are equivalent from a practical point of view and so they can be used interchangeably. <br>\n",
    "Another interesting fact is that $\\rho_Z$ possess an intuitive geometrical interpretation since the modulus and phase of its principal square-root are equal to the eccentricity and angle of orientation of the ellipse defined by the covariance matrix of the real and imaginary parts of $Z$."
   ]
  },
  {
   "cell_type": "markdown",
   "id": "9f6731ed",
   "metadata": {},
   "source": [
    "## Classification of circular features"
   ]
  },
  {
   "cell_type": "markdown",
   "id": "83d4c499",
   "metadata": {},
   "source": [
    "The idea behind this analysis is to understand how much complex-valued models can effectively benefit of data with good circularity properties. For this reason we will generate two distinct complex datasets, one with high correlations among real and imaginary components, and one with poor correlations."
   ]
  },
  {
   "cell_type": "markdown",
   "id": "85cb463b",
   "metadata": {},
   "source": [
    "An easy way to generate data with determined circularity is to rely on the `complex normal distribution`, that characterizes complex random variables whose real and imaginary parts are jointly normal. Differently from its real-valued counterpart, such distribution depends on three parameters:\n",
    "* the _location_ $\\mu$;\n",
    "* the _covariance matrix_ $\\Gamma$;\n",
    "* the _location matrix_ $C$.\n",
    "\n",
    "The `standard complex normal` is the univariate distribution with $\\mu=0$, $\\Gamma=1$ and $C=0$."
   ]
  },
  {
   "cell_type": "markdown",
   "id": "feec80ad",
   "metadata": {},
   "source": [
    "A complex random vector $Z$ is called circularly symmetric if for every $\\varphi\\in[-\\pi,\\pi)$ the distribution of $e^{i\\varphi}Z$ is the same of the distribution of $Z$. The PDF then satisfies $f(z)=cg(|z|^2)$ for some non-negative function $g$ and normalizing constant $c$. Hence, the regions of constant contours are circles in the complex plane. Central normal complex random vectors that are circularly symmetric are of particular interest because they are fully specified by the covariance matrix $\\Gamma$."
   ]
  },
  {
   "cell_type": "markdown",
   "id": "d73ae9d7",
   "metadata": {},
   "source": [
    "We can generate circular random complex data simply exploiting the `multivariate_random_normal` distribution, supported by numpy. We just need to generate 2-dimensional data, for the real and imaginary part respectively. Tuning the corresponding covariance matrix we can then regulate the two main sources of non-circularity:\n",
    "* $\\sigma_x \\neq \\sigma_y$\n",
    "* $\\sigma_{xy} \\neq 0$"
   ]
  },
  {
   "cell_type": "markdown",
   "id": "f573a236",
   "metadata": {},
   "source": [
    "If a random variable $z=x+iy$ has zero-mean, it is circular complex normal if $\\sim N_2(0,\\sigma^2)$, i.e. $x$ and $y$ are iid real variables with variance $\\sigma^2$. Thus, $\\sigma_z^2=2\\sigma^2$ and the pdf becomes:\n",
    "$$\n",
    "f(x,y|\\sigma^2) = f(z|\\sigma_z^2) = \\frac{1}{\\pi\\sigma^2}exp({-|z|^2 /\\sigma_z^2})\n",
    "$$"
   ]
  },
  {
   "cell_type": "code",
   "execution_count": 115,
   "id": "8ba89daf",
   "metadata": {},
   "outputs": [
    {
     "data": {
      "image/png": "[encoded data removed]",
      "text/plain": [
       "<Figure size 360x360 with 1 Axes>"
      ]
     },
     "metadata": {},
     "output_type": "display_data"
    }
   ],
   "source": [
    "from scipy.stats import multivariate_normal\n",
    "\n",
    "# Plot an example of circular distribution\n",
    "xx, yy = np.meshgrid(np.linspace(-3., 3., 500), np.linspace(-3., 3., 500))\n",
    "pos = np.array([xx.flatten(), yy.flatten()]).T\n",
    "\n",
    "mu_x = 0.\n",
    "mu_y = 0.\n",
    "covmat = np.eye(2)\n",
    "std_cmpl_norm = multivariate_normal([mu_x, mu_y], covmat)\n",
    "\n",
    "fig = plt.figure(figsize=((5,5)))\n",
    "ax = fig.add_subplot(111)\n",
    "cf = ax.contourf(xx, yy, std_cmpl_norm.pdf(pos).reshape((500,500)), cmap='copper', alpha=0.8)\n",
    "#plt.colorbar(cf)\n",
    "\n",
    "ax.set_title('Standard Complex Normal Distribution', fontsize=18)\n",
    "ax.set_xticks([])\n",
    "ax.set_yticks([])\n",
    "ax.set_xlabel(r'$\\Re(z)$', fontsize=17)\n",
    "ax.set_ylabel(r'$\\Im(z)$', fontsize=17);"
   ]
  },
  {
   "cell_type": "code",
   "execution_count": 99,
   "id": "735c0ac1",
   "metadata": {},
   "outputs": [],
   "source": [
    "#fig.savefig(\"std_cmplx_norm_distrib.pdf\", bbox_inches='tight')"
   ]
  },
  {
   "cell_type": "code",
   "execution_count": 4,
   "id": "a607c8d9",
   "metadata": {},
   "outputs": [],
   "source": [
    "def generate_cmplx_distribution(cov_mat, shape):\n",
    "    \"\"\"Generate an array of complex-valued random numbers distributed according to a zero-centered\n",
    "    multivariate normal distribution, given in input the corresponding covariance matrix.\"\"\"    \n",
    "    return np.random.multivariate_normal(np.zeros(2), cov_mat, size=shape).view(np.complex128).squeeze()"
   ]
  },
  {
   "cell_type": "markdown",
   "id": "bd16e984",
   "metadata": {},
   "source": [
    "Before going on, let's define a function that compute the empirical circularity and correlations coefficients. First it quantify how much our data are effectively correlated; second, it acts as a control instruction to check the correctnees of the sample generated."
   ]
  },
  {
   "cell_type": "code",
   "execution_count": 6,
   "id": "eb505b4e",
   "metadata": {},
   "outputs": [],
   "source": [
    "def get_circularity_coeff(dataset, verbose=False):\n",
    "    \n",
    "    cov_mat = 0.\n",
    "    \n",
    "    # Compute the covariance matrix among real and imaginary parts\n",
    "    # of the whole dataset\n",
    "    \n",
    "    for i in tqdm(range(len(dataset)), leave=False):\n",
    "        cov_mat += np.cov(dataset[i][0].real.flatten(), dataset[i][0].imag.flatten()) \n",
    "        \n",
    "    # The covariance matrix will have the following structure:  [[Sx**2, Sxy], [Sxy, Sy**2]]\n",
    "    cov_mat = cov_mat / len(dataset)\n",
    "\n",
    "    # Compute the variance of Z:   Sz**2 = E[ |Z - E[Z]|**2 ] = Sx**2 + Sy**2\n",
    "    Sx2 = cov_mat[0,0]\n",
    "    Sy2 = cov_mat[1,1]\n",
    "    Sz2 = cov_mat.trace() \n",
    "    \n",
    "    # Get the covariance:   Sxy = E[(X-E[X])(Y-E[Y])]\n",
    "    Sxy = cov_mat[0,1]\n",
    "    \n",
    "    # Compute the pseudo-variance:   Tz = E[ (Z-E[Z])**2 ] = Sx**2 - Sy**2 + 2iSxy\n",
    "    Tz = Sx2 - Sy2 + 2.j*Sxy\n",
    "    \n",
    "    # Compute the circularity quotient:  rhoZ = Tz / Sz**2\n",
    "    rhoZ = Tz / Sz2\n",
    "    \n",
    "    # Compute the correlation coefficient:  rho = Sxy / SxSy\n",
    "    rho = Sxy / (np.sqrt(Sx2)*np.sqrt(Sy2))\n",
    "    \n",
    "    if verbose:\n",
    "        return cov_mat, Sz2, Tz, rhoZ, rho\n",
    "    else:\n",
    "        return rhoZ, rho"
   ]
  },
  {
   "cell_type": "markdown",
   "id": "3284c5a5",
   "metadata": {},
   "source": [
    "Define also a Pytorch Dataset object to store such data and allow the training."
   ]
  },
  {
   "cell_type": "code",
   "execution_count": 7,
   "id": "4383f51b",
   "metadata": {},
   "outputs": [],
   "source": [
    "class NpyDataset(Dataset):\n",
    "    \n",
    "    def __init__(self, data, label):\n",
    "        \n",
    "        self.x = data\n",
    "        self.y = np.full(len(data), label)\n",
    "        \n",
    "    def __len__(self):\n",
    "        return len(self.x)\n",
    "    \n",
    "    def __getitem__(self, idx):\n",
    "        x = torch.tensor(self.x[idx].flatten())\n",
    "        one_hot_y = torch.tensor(np.eye(2)[self.y[idx]])\n",
    "        \n",
    "        return (x, one_hot_y)"
   ]
  },
  {
   "cell_type": "markdown",
   "id": "9825d7fe",
   "metadata": {},
   "source": [
    "Let's start generating two simple __circular__ distributions. <br>\n",
    "Conditions: $\\sigma_x = \\sigma_y$ and $\\sigma_{xy}=0$."
   ]
  },
  {
   "cell_type": "code",
   "execution_count": 8,
   "id": "119a5b07",
   "metadata": {
    "scrolled": true
   },
   "outputs": [
    {
     "data": {
      "application/vnd.jupyter.widget-view+json": {
       "model_id": "",
       "version_major": 2,
       "version_minor": 0
      },
      "text/plain": [
       "  0%|          | 0/5000 [00:00<?, ?it/s]"
      ]
     },
     "metadata": {},
     "output_type": "display_data"
    },
    {
     "name": "stdout",
     "output_type": "stream",
     "text": [
      "Circularity coefficient: 0.0020-0.0008j\n",
      "Correlation coefficient: -0.0008\n"
     ]
    },
    {
     "data": {
      "application/vnd.jupyter.widget-view+json": {
       "model_id": "",
       "version_major": 2,
       "version_minor": 0
      },
      "text/plain": [
       "  0%|          | 0/5000 [00:00<?, ?it/s]"
      ]
     },
     "metadata": {},
     "output_type": "display_data"
    },
    {
     "name": "stdout",
     "output_type": "stream",
     "text": [
      "Circularity coefficient: -0.0020+0.0001j\n",
      "Correlation coefficient: 0.0001\n"
     ]
    }
   ],
   "source": [
    "circ1 = NpyDataset(generate_cmplx_distribution(cov_mat=np.array([[1.0, 0.],[0., 1.0]]), shape=(5000,128)), label=0)\n",
    "circ1_rhoz, circ1_rho = get_circularity_coeff(circ1)\n",
    "print('Circularity coefficient: {:.4f}'.format(circ1_rhoz))\n",
    "print('Correlation coefficient: {:.4f}'.format(circ1_rho))\n",
    "\n",
    "circ2 = NpyDataset(generate_cmplx_distribution(cov_mat=np.array([[3.0, 0.],[0., 3.0]]), shape=(5000,128)), label=1)\n",
    "circ2_rhoz, circ2_rho = get_circularity_coeff(circ2)\n",
    "print('Circularity coefficient: {:.4f}'.format(circ2_rhoz))\n",
    "print('Correlation coefficient: {:.4f}'.format(circ2_rho))"
   ]
  },
  {
   "cell_type": "markdown",
   "id": "40765cf7",
   "metadata": {},
   "source": [
    "More specifically, we will try to distinguish a perfectly circular standard normal distribution, with the identity as covariance matrix, from another one, with different parameters."
   ]
  },
  {
   "cell_type": "markdown",
   "id": "d4bdfcb7",
   "metadata": {},
   "source": [
    "Plot an example of such samples."
   ]
  },
  {
   "cell_type": "code",
   "execution_count": 116,
   "id": "b4f92184",
   "metadata": {},
   "outputs": [
    {
     "data": {
      "image/png": "[encoded data removed]",
      "text/plain": [
       "<Figure size 576x360 with 1 Axes>"
      ]
     },
     "metadata": {
      "needs_background": "light"
     },
     "output_type": "display_data"
    }
   ],
   "source": [
    "sample1 = generate_cmplx_distribution(cov_mat=np.array([[1.0, 0.],[0., 1.0]]), shape=(1000,))\n",
    "sample2 = generate_cmplx_distribution(cov_mat=np.array([[3.0, 0.],[0., 3.0]]), shape=(1000,))\n",
    "\n",
    "fig, ax = plt.subplots(1,1,figsize=(8,5))\n",
    "sns.scatterplot(x=sample1.real, y=sample1.imag, ax=ax, label=r'$\\sigma = 1.$')\n",
    "sns.scatterplot(x=sample2.real, y=sample2.imag, ax=ax, label=r'$\\sigma = 3.$')\n",
    "\n",
    "ax.set_title(r'Circular complex distributions $(\\sigma_{xy}=0)$', fontsize=20)\n",
    "ax.set_xlabel(r'$\\Re(z)$', fontsize=18)\n",
    "ax.set_ylabel(r'$\\Im(z)$', fontsize=18)\n",
    "ax.legend(title='Variances:', fontsize=13);"
   ]
  },
  {
   "cell_type": "markdown",
   "id": "f7a4a5ec",
   "metadata": {},
   "source": [
    "To summarize: we have generated, for each distribution, 5000 samples, each of them constituted by 128 complex values normally distributed according to some pre-determined parameters. Now its time to reorganize them for the training process."
   ]
  },
  {
   "cell_type": "markdown",
   "id": "aed8e9f9",
   "metadata": {},
   "source": [
    "_It is important to note that the distinction between the classes is entirely contained in the relationship between the real and imaginary parts. This means that removing, for example, the imaginary part of the dataset will result in both classes being statistically identical, and therefore, making the classification impossible._"
   ]
  },
  {
   "cell_type": "code",
   "execution_count": 10,
   "id": "2268c3ef",
   "metadata": {},
   "outputs": [],
   "source": [
    "full_ds = torch.utils.data.ConcatDataset([circ1, circ2])\n",
    "train_ds, test_ds = torch.utils.data.random_split(full_ds, [8000, 2000])\n",
    "train_dl = DataLoader(train_ds, batch_size=320, shuffle=True)\n",
    "test_dl = DataLoader(test_ds, batch_size=320, shuffle=False)"
   ]
  },
  {
   "cell_type": "markdown",
   "id": "3460cc31",
   "metadata": {},
   "source": [
    "It's time to train our network. Let's first define a complex-valued model."
   ]
  },
  {
   "cell_type": "code",
   "execution_count": 11,
   "id": "3764c0f4",
   "metadata": {},
   "outputs": [],
   "source": [
    "class CVNN(hk.Module):\n",
    "\n",
    "    def __init__(self):\n",
    "\n",
    "        super().__init__()\n",
    "        self.fc1 = Cmplx_Linear(64)\n",
    "        self.fc2 = Cmplx_Linear(16)\n",
    "        self.fc3 = Cmplx_Linear(2)\n",
    "\n",
    "        self.dropout = Dropout(0.2)\n",
    "        self.act = cardioid\n",
    "\n",
    "    def __call__(self, z, is_training):\n",
    "        \n",
    "        z = self.act(self.fc1(z))\n",
    "        z = self.dropout(z, is_training)\n",
    "        z = self.act(self.fc2(z))\n",
    "        z = self.fc3(z)\n",
    "        \n",
    "        return z"
   ]
  },
  {
   "cell_type": "code",
   "execution_count": 12,
   "id": "1a2b08a0",
   "metadata": {},
   "outputs": [
    {
     "data": {
      "application/vnd.jupyter.widget-view+json": {
       "model_id": "",
       "version_major": 2,
       "version_minor": 0
      },
      "text/plain": [
       "Training for several epochs:   0%|          | 0/50 [00:00<?, ?it/s]"
      ]
     },
     "metadata": {},
     "output_type": "display_data"
    },
    {
     "data": {
      "application/vnd.jupyter.widget-view+json": {
       "model_id": "",
       "version_major": 2,
       "version_minor": 0
      },
      "text/plain": [
       "Looping over the minibatches:   0%|          | 0/25 [00:00<?, ?it/s]"
      ]
     },
     "metadata": {},
     "output_type": "display_data"
    },
    {
     "data": {
      "application/vnd.jupyter.widget-view+json": {
       "model_id": "",
       "version_major": 2,
       "version_minor": 0
      },
      "text/plain": [
       "Computing the validation metrics:   0%|          | 0/7 [00:00<?, ?it/s]"
      ]
     },
     "metadata": {},
     "output_type": "display_data"
    },
    {
     "data": {
      "application/vnd.jupyter.widget-view+json": {
       "model_id": "",
       "version_major": 2,
       "version_minor": 0
      },
      "text/plain": [
       "Looping over the minibatches:   0%|          | 0/25 [00:00<?, ?it/s]"
      ]
     },
     "metadata": {},
     "output_type": "display_data"
    },
    {
     "data": {
      "application/vnd.jupyter.widget-view+json": {
       "model_id": "",
       "version_major": 2,
       "version_minor": 0
      },
      "text/plain": [
       "Computing the validation metrics:   0%|          | 0/7 [00:00<?, ?it/s]"
      ]
     },
     "metadata": {},
     "output_type": "display_data"
    },
    {
     "data": {
      "application/vnd.jupyter.widget-view+json": {
       "model_id": "",
       "version_major": 2,
       "version_minor": 0
      },
      "text/plain": [
       "Looping over the minibatches:   0%|          | 0/25 [00:00<?, ?it/s]"
      ]
     },
     "metadata": {},
     "output_type": "display_data"
    },
    {
     "data": {
      "application/vnd.jupyter.widget-view+json": {
       "model_id": "",
       "version_major": 2,
       "version_minor": 0
      },
      "text/plain": [
       "Computing the validation metrics:   0%|          | 0/7 [00:00<?, ?it/s]"
      ]
     },
     "metadata": {},
     "output_type": "display_data"
    },
    {
     "data": {
      "application/vnd.jupyter.widget-view+json": {
       "model_id": "",
       "version_major": 2,
       "version_minor": 0
      },
      "text/plain": [
       "Looping over the minibatches:   0%|          | 0/25 [00:00<?, ?it/s]"
      ]
     },
     "metadata": {},
     "output_type": "display_data"
    },
    {
     "data": {
      "application/vnd.jupyter.widget-view+json": {
       "model_id": "",
       "version_major": 2,
       "version_minor": 0
      },
      "text/plain": [
       "Computing the validation metrics:   0%|          | 0/7 [00:00<?, ?it/s]"
      ]
     },
     "metadata": {},
     "output_type": "display_data"
    },
    {
     "data": {
      "application/vnd.jupyter.widget-view+json": {
       "model_id": "",
       "version_major": 2,
       "version_minor": 0
      },
      "text/plain": [
       "Looping over the minibatches:   0%|          | 0/25 [00:00<?, ?it/s]"
      ]
     },
     "metadata": {},
     "output_type": "display_data"
    },
    {
     "data": {
      "application/vnd.jupyter.widget-view+json": {
       "model_id": "",
       "version_major": 2,
       "version_minor": 0
      },
      "text/plain": [
       "Computing the validation metrics:   0%|          | 0/7 [00:00<?, ?it/s]"
      ]
     },
     "metadata": {},
     "output_type": "display_data"
    },
    {
     "data": {
      "application/vnd.jupyter.widget-view+json": {
       "model_id": "",
       "version_major": 2,
       "version_minor": 0
      },
      "text/plain": [
       "Looping over the minibatches:   0%|          | 0/25 [00:00<?, ?it/s]"
      ]
     },
     "metadata": {},
     "output_type": "display_data"
    },
    {
     "data": {
      "application/vnd.jupyter.widget-view+json": {
       "model_id": "",
       "version_major": 2,
       "version_minor": 0
      },
      "text/plain": [
       "Computing the validation metrics:   0%|          | 0/7 [00:00<?, ?it/s]"
      ]
     },
     "metadata": {},
     "output_type": "display_data"
    },
    {
     "data": {
      "application/vnd.jupyter.widget-view+json": {
       "model_id": "",
       "version_major": 2,
       "version_minor": 0
      },
      "text/plain": [
       "Looping over the minibatches:   0%|          | 0/25 [00:00<?, ?it/s]"
      ]
     },
     "metadata": {},
     "output_type": "display_data"
    },
    {
     "data": {
      "application/vnd.jupyter.widget-view+json": {
       "model_id": "",
       "version_major": 2,
       "version_minor": 0
      },
      "text/plain": [
       "Computing the validation metrics:   0%|          | 0/7 [00:00<?, ?it/s]"
      ]
     },
     "metadata": {},
     "output_type": "display_data"
    },
    {
     "data": {
      "application/vnd.jupyter.widget-view+json": {
       "model_id": "",
       "version_major": 2,
       "version_minor": 0
      },
      "text/plain": [
       "Looping over the minibatches:   0%|          | 0/25 [00:00<?, ?it/s]"
      ]
     },
     "metadata": {},
     "output_type": "display_data"
    },
    {
     "data": {
      "application/vnd.jupyter.widget-view+json": {
       "model_id": "",
       "version_major": 2,
       "version_minor": 0
      },
      "text/plain": [
       "Computing the validation metrics:   0%|          | 0/7 [00:00<?, ?it/s]"
      ]
     },
     "metadata": {},
     "output_type": "display_data"
    },
    {
     "data": {
      "application/vnd.jupyter.widget-view+json": {
       "model_id": "",
       "version_major": 2,
       "version_minor": 0
      },
      "text/plain": [
       "Looping over the minibatches:   0%|          | 0/25 [00:00<?, ?it/s]"
      ]
     },
     "metadata": {},
     "output_type": "display_data"
    },
    {
     "data": {
      "application/vnd.jupyter.widget-view+json": {
       "model_id": "",
       "version_major": 2,
       "version_minor": 0
      },
      "text/plain": [
       "Computing the validation metrics:   0%|          | 0/7 [00:00<?, ?it/s]"
      ]
     },
     "metadata": {},
     "output_type": "display_data"
    },
    {
     "data": {
      "application/vnd.jupyter.widget-view+json": {
       "model_id": "",
       "version_major": 2,
       "version_minor": 0
      },
      "text/plain": [
       "Looping over the minibatches:   0%|          | 0/25 [00:00<?, ?it/s]"
      ]
     },
     "metadata": {},
     "output_type": "display_data"
    },
    {
     "data": {
      "application/vnd.jupyter.widget-view+json": {
       "model_id": "",
       "version_major": 2,
       "version_minor": 0
      },
      "text/plain": [
       "Computing the validation metrics:   0%|          | 0/7 [00:00<?, ?it/s]"
      ]
     },
     "metadata": {},
     "output_type": "display_data"
    },
    {
     "data": {
      "application/vnd.jupyter.widget-view+json": {
       "model_id": "",
       "version_major": 2,
       "version_minor": 0
      },
      "text/plain": [
       "Looping over the minibatches:   0%|          | 0/25 [00:00<?, ?it/s]"
      ]
     },
     "metadata": {},
     "output_type": "display_data"
    },
    {
     "data": {
      "application/vnd.jupyter.widget-view+json": {
       "model_id": "",
       "version_major": 2,
       "version_minor": 0
      },
      "text/plain": [
       "Computing the validation metrics:   0%|          | 0/7 [00:00<?, ?it/s]"
      ]
     },
     "metadata": {},
     "output_type": "display_data"
    },
    {
     "data": {
      "application/vnd.jupyter.widget-view+json": {
       "model_id": "",
       "version_major": 2,
       "version_minor": 0
      },
      "text/plain": [
       "Looping over the minibatches:   0%|          | 0/25 [00:00<?, ?it/s]"
      ]
     },
     "metadata": {},
     "output_type": "display_data"
    },
    {
     "data": {
      "application/vnd.jupyter.widget-view+json": {
       "model_id": "",
       "version_major": 2,
       "version_minor": 0
      },
      "text/plain": [
       "Computing the validation metrics:   0%|          | 0/7 [00:00<?, ?it/s]"
      ]
     },
     "metadata": {},
     "output_type": "display_data"
    },
    {
     "data": {
      "application/vnd.jupyter.widget-view+json": {
       "model_id": "",
       "version_major": 2,
       "version_minor": 0
      },
      "text/plain": [
       "Looping over the minibatches:   0%|          | 0/25 [00:00<?, ?it/s]"
      ]
     },
     "metadata": {},
     "output_type": "display_data"
    },
    {
     "data": {
      "application/vnd.jupyter.widget-view+json": {
       "model_id": "",
       "version_major": 2,
       "version_minor": 0
      },
      "text/plain": [
       "Computing the validation metrics:   0%|          | 0/7 [00:00<?, ?it/s]"
      ]
     },
     "metadata": {},
     "output_type": "display_data"
    },
    {
     "data": {
      "application/vnd.jupyter.widget-view+json": {
       "model_id": "",
       "version_major": 2,
       "version_minor": 0
      },
      "text/plain": [
       "Looping over the minibatches:   0%|          | 0/25 [00:00<?, ?it/s]"
      ]
     },
     "metadata": {},
     "output_type": "display_data"
    },
    {
     "data": {
      "application/vnd.jupyter.widget-view+json": {
       "model_id": "",
       "version_major": 2,
       "version_minor": 0
      },
      "text/plain": [
       "Computing the validation metrics:   0%|          | 0/7 [00:00<?, ?it/s]"
      ]
     },
     "metadata": {},
     "output_type": "display_data"
    },
    {
     "data": {
      "application/vnd.jupyter.widget-view+json": {
       "model_id": "",
       "version_major": 2,
       "version_minor": 0
      },
      "text/plain": [
       "Looping over the minibatches:   0%|          | 0/25 [00:00<?, ?it/s]"
      ]
     },
     "metadata": {},
     "output_type": "display_data"
    },
    {
     "data": {
      "application/vnd.jupyter.widget-view+json": {
       "model_id": "",
       "version_major": 2,
       "version_minor": 0
      },
      "text/plain": [
       "Computing the validation metrics:   0%|          | 0/7 [00:00<?, ?it/s]"
      ]
     },
     "metadata": {},
     "output_type": "display_data"
    },
    {
     "data": {
      "application/vnd.jupyter.widget-view+json": {
       "model_id": "",
       "version_major": 2,
       "version_minor": 0
      },
      "text/plain": [
       "Looping over the minibatches:   0%|          | 0/25 [00:00<?, ?it/s]"
      ]
     },
     "metadata": {},
     "output_type": "display_data"
    },
    {
     "data": {
      "application/vnd.jupyter.widget-view+json": {
       "model_id": "",
       "version_major": 2,
       "version_minor": 0
      },
      "text/plain": [
       "Computing the validation metrics:   0%|          | 0/7 [00:00<?, ?it/s]"
      ]
     },
     "metadata": {},
     "output_type": "display_data"
    },
    {
     "data": {
      "application/vnd.jupyter.widget-view+json": {
       "model_id": "",
       "version_major": 2,
       "version_minor": 0
      },
      "text/plain": [
       "Looping over the minibatches:   0%|          | 0/25 [00:00<?, ?it/s]"
      ]
     },
     "metadata": {},
     "output_type": "display_data"
    },
    {
     "data": {
      "application/vnd.jupyter.widget-view+json": {
       "model_id": "",
       "version_major": 2,
       "version_minor": 0
      },
      "text/plain": [
       "Computing the validation metrics:   0%|          | 0/7 [00:00<?, ?it/s]"
      ]
     },
     "metadata": {},
     "output_type": "display_data"
    },
    {
     "data": {
      "application/vnd.jupyter.widget-view+json": {
       "model_id": "",
       "version_major": 2,
       "version_minor": 0
      },
      "text/plain": [
       "Looping over the minibatches:   0%|          | 0/25 [00:00<?, ?it/s]"
      ]
     },
     "metadata": {},
     "output_type": "display_data"
    },
    {
     "data": {
      "application/vnd.jupyter.widget-view+json": {
       "model_id": "",
       "version_major": 2,
       "version_minor": 0
      },
      "text/plain": [
       "Computing the validation metrics:   0%|          | 0/7 [00:00<?, ?it/s]"
      ]
     },
     "metadata": {},
     "output_type": "display_data"
    },
    {
     "data": {
      "application/vnd.jupyter.widget-view+json": {
       "model_id": "",
       "version_major": 2,
       "version_minor": 0
      },
      "text/plain": [
       "Looping over the minibatches:   0%|          | 0/25 [00:00<?, ?it/s]"
      ]
     },
     "metadata": {},
     "output_type": "display_data"
    },
    {
     "data": {
      "application/vnd.jupyter.widget-view+json": {
       "model_id": "",
       "version_major": 2,
       "version_minor": 0
      },
      "text/plain": [
       "Computing the validation metrics:   0%|          | 0/7 [00:00<?, ?it/s]"
      ]
     },
     "metadata": {},
     "output_type": "display_data"
    },
    {
     "data": {
      "application/vnd.jupyter.widget-view+json": {
       "model_id": "",
       "version_major": 2,
       "version_minor": 0
      },
      "text/plain": [
       "Looping over the minibatches:   0%|          | 0/25 [00:00<?, ?it/s]"
      ]
     },
     "metadata": {},
     "output_type": "display_data"
    },
    {
     "data": {
      "application/vnd.jupyter.widget-view+json": {
       "model_id": "",
       "version_major": 2,
       "version_minor": 0
      },
      "text/plain": [
       "Computing the validation metrics:   0%|          | 0/7 [00:00<?, ?it/s]"
      ]
     },
     "metadata": {},
     "output_type": "display_data"
    },
    {
     "data": {
      "application/vnd.jupyter.widget-view+json": {
       "model_id": "",
       "version_major": 2,
       "version_minor": 0
      },
      "text/plain": [
       "Looping over the minibatches:   0%|          | 0/25 [00:00<?, ?it/s]"
      ]
     },
     "metadata": {},
     "output_type": "display_data"
    },
    {
     "data": {
      "application/vnd.jupyter.widget-view+json": {
       "model_id": "",
       "version_major": 2,
       "version_minor": 0
      },
      "text/plain": [
       "Computing the validation metrics:   0%|          | 0/7 [00:00<?, ?it/s]"
      ]
     },
     "metadata": {},
     "output_type": "display_data"
    },
    {
     "data": {
      "application/vnd.jupyter.widget-view+json": {
       "model_id": "",
       "version_major": 2,
       "version_minor": 0
      },
      "text/plain": [
       "Looping over the minibatches:   0%|          | 0/25 [00:00<?, ?it/s]"
      ]
     },
     "metadata": {},
     "output_type": "display_data"
    },
    {
     "data": {
      "application/vnd.jupyter.widget-view+json": {
       "model_id": "",
       "version_major": 2,
       "version_minor": 0
      },
      "text/plain": [
       "Computing the validation metrics:   0%|          | 0/7 [00:00<?, ?it/s]"
      ]
     },
     "metadata": {},
     "output_type": "display_data"
    },
    {
     "data": {
      "application/vnd.jupyter.widget-view+json": {
       "model_id": "",
       "version_major": 2,
       "version_minor": 0
      },
      "text/plain": [
       "Looping over the minibatches:   0%|          | 0/25 [00:00<?, ?it/s]"
      ]
     },
     "metadata": {},
     "output_type": "display_data"
    },
    {
     "data": {
      "application/vnd.jupyter.widget-view+json": {
       "model_id": "",
       "version_major": 2,
       "version_minor": 0
      },
      "text/plain": [
       "Computing the validation metrics:   0%|          | 0/7 [00:00<?, ?it/s]"
      ]
     },
     "metadata": {},
     "output_type": "display_data"
    },
    {
     "data": {
      "application/vnd.jupyter.widget-view+json": {
       "model_id": "",
       "version_major": 2,
       "version_minor": 0
      },
      "text/plain": [
       "Looping over the minibatches:   0%|          | 0/25 [00:00<?, ?it/s]"
      ]
     },
     "metadata": {},
     "output_type": "display_data"
    },
    {
     "data": {
      "application/vnd.jupyter.widget-view+json": {
       "model_id": "",
       "version_major": 2,
       "version_minor": 0
      },
      "text/plain": [
       "Computing the validation metrics:   0%|          | 0/7 [00:00<?, ?it/s]"
      ]
     },
     "metadata": {},
     "output_type": "display_data"
    },
    {
     "data": {
      "application/vnd.jupyter.widget-view+json": {
       "model_id": "",
       "version_major": 2,
       "version_minor": 0
      },
      "text/plain": [
       "Looping over the minibatches:   0%|          | 0/25 [00:00<?, ?it/s]"
      ]
     },
     "metadata": {},
     "output_type": "display_data"
    },
    {
     "data": {
      "application/vnd.jupyter.widget-view+json": {
       "model_id": "",
       "version_major": 2,
       "version_minor": 0
      },
      "text/plain": [
       "Computing the validation metrics:   0%|          | 0/7 [00:00<?, ?it/s]"
      ]
     },
     "metadata": {},
     "output_type": "display_data"
    },
    {
     "data": {
      "application/vnd.jupyter.widget-view+json": {
       "model_id": "",
       "version_major": 2,
       "version_minor": 0
      },
      "text/plain": [
       "Looping over the minibatches:   0%|          | 0/25 [00:00<?, ?it/s]"
      ]
     },
     "metadata": {},
     "output_type": "display_data"
    },
    {
     "data": {
      "application/vnd.jupyter.widget-view+json": {
       "model_id": "",
       "version_major": 2,
       "version_minor": 0
      },
      "text/plain": [
       "Computing the validation metrics:   0%|          | 0/7 [00:00<?, ?it/s]"
      ]
     },
     "metadata": {},
     "output_type": "display_data"
    },
    {
     "data": {
      "application/vnd.jupyter.widget-view+json": {
       "model_id": "",
       "version_major": 2,
       "version_minor": 0
      },
      "text/plain": [
       "Looping over the minibatches:   0%|          | 0/25 [00:00<?, ?it/s]"
      ]
     },
     "metadata": {},
     "output_type": "display_data"
    },
    {
     "data": {
      "application/vnd.jupyter.widget-view+json": {
       "model_id": "",
       "version_major": 2,
       "version_minor": 0
      },
      "text/plain": [
       "Computing the validation metrics:   0%|          | 0/7 [00:00<?, ?it/s]"
      ]
     },
     "metadata": {},
     "output_type": "display_data"
    },
    {
     "data": {
      "application/vnd.jupyter.widget-view+json": {
       "model_id": "",
       "version_major": 2,
       "version_minor": 0
      },
      "text/plain": [
       "Looping over the minibatches:   0%|          | 0/25 [00:00<?, ?it/s]"
      ]
     },
     "metadata": {},
     "output_type": "display_data"
    },
    {
     "data": {
      "application/vnd.jupyter.widget-view+json": {
       "model_id": "",
       "version_major": 2,
       "version_minor": 0
      },
      "text/plain": [
       "Computing the validation metrics:   0%|          | 0/7 [00:00<?, ?it/s]"
      ]
     },
     "metadata": {},
     "output_type": "display_data"
    },
    {
     "data": {
      "application/vnd.jupyter.widget-view+json": {
       "model_id": "",
       "version_major": 2,
       "version_minor": 0
      },
      "text/plain": [
       "Looping over the minibatches:   0%|          | 0/25 [00:00<?, ?it/s]"
      ]
     },
     "metadata": {},
     "output_type": "display_data"
    },
    {
     "data": {
      "application/vnd.jupyter.widget-view+json": {
       "model_id": "",
       "version_major": 2,
       "version_minor": 0
      },
      "text/plain": [
       "Computing the validation metrics:   0%|          | 0/7 [00:00<?, ?it/s]"
      ]
     },
     "metadata": {},
     "output_type": "display_data"
    },
    {
     "data": {
      "application/vnd.jupyter.widget-view+json": {
       "model_id": "",
       "version_major": 2,
       "version_minor": 0
      },
      "text/plain": [
       "Looping over the minibatches:   0%|          | 0/25 [00:00<?, ?it/s]"
      ]
     },
     "metadata": {},
     "output_type": "display_data"
    },
    {
     "data": {
      "application/vnd.jupyter.widget-view+json": {
       "model_id": "",
       "version_major": 2,
       "version_minor": 0
      },
      "text/plain": [
       "Computing the validation metrics:   0%|          | 0/7 [00:00<?, ?it/s]"
      ]
     },
     "metadata": {},
     "output_type": "display_data"
    },
    {
     "data": {
      "application/vnd.jupyter.widget-view+json": {
       "model_id": "",
       "version_major": 2,
       "version_minor": 0
      },
      "text/plain": [
       "Looping over the minibatches:   0%|          | 0/25 [00:00<?, ?it/s]"
      ]
     },
     "metadata": {},
     "output_type": "display_data"
    },
    {
     "data": {
      "application/vnd.jupyter.widget-view+json": {
       "model_id": "",
       "version_major": 2,
       "version_minor": 0
      },
      "text/plain": [
       "Computing the validation metrics:   0%|          | 0/7 [00:00<?, ?it/s]"
      ]
     },
     "metadata": {},
     "output_type": "display_data"
    },
    {
     "data": {
      "application/vnd.jupyter.widget-view+json": {
       "model_id": "",
       "version_major": 2,
       "version_minor": 0
      },
      "text/plain": [
       "Looping over the minibatches:   0%|          | 0/25 [00:00<?, ?it/s]"
      ]
     },
     "metadata": {},
     "output_type": "display_data"
    },
    {
     "data": {
      "application/vnd.jupyter.widget-view+json": {
       "model_id": "",
       "version_major": 2,
       "version_minor": 0
      },
      "text/plain": [
       "Computing the validation metrics:   0%|          | 0/7 [00:00<?, ?it/s]"
      ]
     },
     "metadata": {},
     "output_type": "display_data"
    },
    {
     "data": {
      "application/vnd.jupyter.widget-view+json": {
       "model_id": "",
       "version_major": 2,
       "version_minor": 0
      },
      "text/plain": [
       "Looping over the minibatches:   0%|          | 0/25 [00:00<?, ?it/s]"
      ]
     },
     "metadata": {},
     "output_type": "display_data"
    },
    {
     "data": {
      "application/vnd.jupyter.widget-view+json": {
       "model_id": "",
       "version_major": 2,
       "version_minor": 0
      },
      "text/plain": [
       "Computing the validation metrics:   0%|          | 0/7 [00:00<?, ?it/s]"
      ]
     },
     "metadata": {},
     "output_type": "display_data"
    },
    {
     "data": {
      "application/vnd.jupyter.widget-view+json": {
       "model_id": "",
       "version_major": 2,
       "version_minor": 0
      },
      "text/plain": [
       "Looping over the minibatches:   0%|          | 0/25 [00:00<?, ?it/s]"
      ]
     },
     "metadata": {},
     "output_type": "display_data"
    },
    {
     "data": {
      "application/vnd.jupyter.widget-view+json": {
       "model_id": "",
       "version_major": 2,
       "version_minor": 0
      },
      "text/plain": [
       "Computing the validation metrics:   0%|          | 0/7 [00:00<?, ?it/s]"
      ]
     },
     "metadata": {},
     "output_type": "display_data"
    },
    {
     "data": {
      "application/vnd.jupyter.widget-view+json": {
       "model_id": "",
       "version_major": 2,
       "version_minor": 0
      },
      "text/plain": [
       "Looping over the minibatches:   0%|          | 0/25 [00:00<?, ?it/s]"
      ]
     },
     "metadata": {},
     "output_type": "display_data"
    },
    {
     "data": {
      "application/vnd.jupyter.widget-view+json": {
       "model_id": "",
       "version_major": 2,
       "version_minor": 0
      },
      "text/plain": [
       "Computing the validation metrics:   0%|          | 0/7 [00:00<?, ?it/s]"
      ]
     },
     "metadata": {},
     "output_type": "display_data"
    },
    {
     "data": {
      "application/vnd.jupyter.widget-view+json": {
       "model_id": "",
       "version_major": 2,
       "version_minor": 0
      },
      "text/plain": [
       "Looping over the minibatches:   0%|          | 0/25 [00:00<?, ?it/s]"
      ]
     },
     "metadata": {},
     "output_type": "display_data"
    },
    {
     "data": {
      "application/vnd.jupyter.widget-view+json": {
       "model_id": "",
       "version_major": 2,
       "version_minor": 0
      },
      "text/plain": [
       "Computing the validation metrics:   0%|          | 0/7 [00:00<?, ?it/s]"
      ]
     },
     "metadata": {},
     "output_type": "display_data"
    },
    {
     "data": {
      "application/vnd.jupyter.widget-view+json": {
       "model_id": "",
       "version_major": 2,
       "version_minor": 0
      },
      "text/plain": [
       "Looping over the minibatches:   0%|          | 0/25 [00:00<?, ?it/s]"
      ]
     },
     "metadata": {},
     "output_type": "display_data"
    },
    {
     "data": {
      "application/vnd.jupyter.widget-view+json": {
       "model_id": "",
       "version_major": 2,
       "version_minor": 0
      },
      "text/plain": [
       "Computing the validation metrics:   0%|          | 0/7 [00:00<?, ?it/s]"
      ]
     },
     "metadata": {},
     "output_type": "display_data"
    },
    {
     "data": {
      "application/vnd.jupyter.widget-view+json": {
       "model_id": "",
       "version_major": 2,
       "version_minor": 0
      },
      "text/plain": [
       "Looping over the minibatches:   0%|          | 0/25 [00:00<?, ?it/s]"
      ]
     },
     "metadata": {},
     "output_type": "display_data"
    },
    {
     "data": {
      "application/vnd.jupyter.widget-view+json": {
       "model_id": "",
       "version_major": 2,
       "version_minor": 0
      },
      "text/plain": [
       "Computing the validation metrics:   0%|          | 0/7 [00:00<?, ?it/s]"
      ]
     },
     "metadata": {},
     "output_type": "display_data"
    },
    {
     "data": {
      "application/vnd.jupyter.widget-view+json": {
       "model_id": "",
       "version_major": 2,
       "version_minor": 0
      },
      "text/plain": [
       "Looping over the minibatches:   0%|          | 0/25 [00:00<?, ?it/s]"
      ]
     },
     "metadata": {},
     "output_type": "display_data"
    },
    {
     "data": {
      "application/vnd.jupyter.widget-view+json": {
       "model_id": "",
       "version_major": 2,
       "version_minor": 0
      },
      "text/plain": [
       "Computing the validation metrics:   0%|          | 0/7 [00:00<?, ?it/s]"
      ]
     },
     "metadata": {},
     "output_type": "display_data"
    },
    {
     "data": {
      "application/vnd.jupyter.widget-view+json": {
       "model_id": "",
       "version_major": 2,
       "version_minor": 0
      },
      "text/plain": [
       "Looping over the minibatches:   0%|          | 0/25 [00:00<?, ?it/s]"
      ]
     },
     "metadata": {},
     "output_type": "display_data"
    },
    {
     "data": {
      "application/vnd.jupyter.widget-view+json": {
       "model_id": "",
       "version_major": 2,
       "version_minor": 0
      },
      "text/plain": [
       "Computing the validation metrics:   0%|          | 0/7 [00:00<?, ?it/s]"
      ]
     },
     "metadata": {},
     "output_type": "display_data"
    },
    {
     "data": {
      "application/vnd.jupyter.widget-view+json": {
       "model_id": "",
       "version_major": 2,
       "version_minor": 0
      },
      "text/plain": [
       "Looping over the minibatches:   0%|          | 0/25 [00:00<?, ?it/s]"
      ]
     },
     "metadata": {},
     "output_type": "display_data"
    },
    {
     "data": {
      "application/vnd.jupyter.widget-view+json": {
       "model_id": "",
       "version_major": 2,
       "version_minor": 0
      },
      "text/plain": [
       "Computing the validation metrics:   0%|          | 0/7 [00:00<?, ?it/s]"
      ]
     },
     "metadata": {},
     "output_type": "display_data"
    },
    {
     "data": {
      "application/vnd.jupyter.widget-view+json": {
       "model_id": "",
       "version_major": 2,
       "version_minor": 0
      },
      "text/plain": [
       "Looping over the minibatches:   0%|          | 0/25 [00:00<?, ?it/s]"
      ]
     },
     "metadata": {},
     "output_type": "display_data"
    },
    {
     "data": {
      "application/vnd.jupyter.widget-view+json": {
       "model_id": "",
       "version_major": 2,
       "version_minor": 0
      },
      "text/plain": [
       "Computing the validation metrics:   0%|          | 0/7 [00:00<?, ?it/s]"
      ]
     },
     "metadata": {},
     "output_type": "display_data"
    },
    {
     "data": {
      "application/vnd.jupyter.widget-view+json": {
       "model_id": "",
       "version_major": 2,
       "version_minor": 0
      },
      "text/plain": [
       "Looping over the minibatches:   0%|          | 0/25 [00:00<?, ?it/s]"
      ]
     },
     "metadata": {},
     "output_type": "display_data"
    },
    {
     "data": {
      "application/vnd.jupyter.widget-view+json": {
       "model_id": "",
       "version_major": 2,
       "version_minor": 0
      },
      "text/plain": [
       "Computing the validation metrics:   0%|          | 0/7 [00:00<?, ?it/s]"
      ]
     },
     "metadata": {},
     "output_type": "display_data"
    },
    {
     "data": {
      "application/vnd.jupyter.widget-view+json": {
       "model_id": "",
       "version_major": 2,
       "version_minor": 0
      },
      "text/plain": [
       "Looping over the minibatches:   0%|          | 0/25 [00:00<?, ?it/s]"
      ]
     },
     "metadata": {},
     "output_type": "display_data"
    },
    {
     "data": {
      "application/vnd.jupyter.widget-view+json": {
       "model_id": "",
       "version_major": 2,
       "version_minor": 0
      },
      "text/plain": [
       "Computing the validation metrics:   0%|          | 0/7 [00:00<?, ?it/s]"
      ]
     },
     "metadata": {},
     "output_type": "display_data"
    },
    {
     "data": {
      "application/vnd.jupyter.widget-view+json": {
       "model_id": "",
       "version_major": 2,
       "version_minor": 0
      },
      "text/plain": [
       "Looping over the minibatches:   0%|          | 0/25 [00:00<?, ?it/s]"
      ]
     },
     "metadata": {},
     "output_type": "display_data"
    },
    {
     "data": {
      "application/vnd.jupyter.widget-view+json": {
       "model_id": "",
       "version_major": 2,
       "version_minor": 0
      },
      "text/plain": [
       "Computing the validation metrics:   0%|          | 0/7 [00:00<?, ?it/s]"
      ]
     },
     "metadata": {},
     "output_type": "display_data"
    },
    {
     "data": {
      "application/vnd.jupyter.widget-view+json": {
       "model_id": "",
       "version_major": 2,
       "version_minor": 0
      },
      "text/plain": [
       "Looping over the minibatches:   0%|          | 0/25 [00:00<?, ?it/s]"
      ]
     },
     "metadata": {},
     "output_type": "display_data"
    },
    {
     "data": {
      "application/vnd.jupyter.widget-view+json": {
       "model_id": "",
       "version_major": 2,
       "version_minor": 0
      },
      "text/plain": [
       "Computing the validation metrics:   0%|          | 0/7 [00:00<?, ?it/s]"
      ]
     },
     "metadata": {},
     "output_type": "display_data"
    },
    {
     "data": {
      "application/vnd.jupyter.widget-view+json": {
       "model_id": "",
       "version_major": 2,
       "version_minor": 0
      },
      "text/plain": [
       "Looping over the minibatches:   0%|          | 0/25 [00:00<?, ?it/s]"
      ]
     },
     "metadata": {},
     "output_type": "display_data"
    },
    {
     "data": {
      "application/vnd.jupyter.widget-view+json": {
       "model_id": "",
       "version_major": 2,
       "version_minor": 0
      },
      "text/plain": [
       "Computing the validation metrics:   0%|          | 0/7 [00:00<?, ?it/s]"
      ]
     },
     "metadata": {},
     "output_type": "display_data"
    },
    {
     "data": {
      "application/vnd.jupyter.widget-view+json": {
       "model_id": "",
       "version_major": 2,
       "version_minor": 0
      },
      "text/plain": [
       "Looping over the minibatches:   0%|          | 0/25 [00:00<?, ?it/s]"
      ]
     },
     "metadata": {},
     "output_type": "display_data"
    },
    {
     "data": {
      "application/vnd.jupyter.widget-view+json": {
       "model_id": "",
       "version_major": 2,
       "version_minor": 0
      },
      "text/plain": [
       "Computing the validation metrics:   0%|          | 0/7 [00:00<?, ?it/s]"
      ]
     },
     "metadata": {},
     "output_type": "display_data"
    },
    {
     "data": {
      "application/vnd.jupyter.widget-view+json": {
       "model_id": "",
       "version_major": 2,
       "version_minor": 0
      },
      "text/plain": [
       "Looping over the minibatches:   0%|          | 0/25 [00:00<?, ?it/s]"
      ]
     },
     "metadata": {},
     "output_type": "display_data"
    },
    {
     "data": {
      "application/vnd.jupyter.widget-view+json": {
       "model_id": "",
       "version_major": 2,
       "version_minor": 0
      },
      "text/plain": [
       "Computing the validation metrics:   0%|          | 0/7 [00:00<?, ?it/s]"
      ]
     },
     "metadata": {},
     "output_type": "display_data"
    },
    {
     "data": {
      "application/vnd.jupyter.widget-view+json": {
       "model_id": "",
       "version_major": 2,
       "version_minor": 0
      },
      "text/plain": [
       "Looping over the minibatches:   0%|          | 0/25 [00:00<?, ?it/s]"
      ]
     },
     "metadata": {},
     "output_type": "display_data"
    },
    {
     "data": {
      "application/vnd.jupyter.widget-view+json": {
       "model_id": "",
       "version_major": 2,
       "version_minor": 0
      },
      "text/plain": [
       "Computing the validation metrics:   0%|          | 0/7 [00:00<?, ?it/s]"
      ]
     },
     "metadata": {},
     "output_type": "display_data"
    }
   ],
   "source": [
    "complex_hc = Haiku_Classifier()\n",
    "_ = complex_hc.train(n_epochs = 50,\n",
    "                     model = CVNN, \n",
    "                     optimizer = cmplx_adam(step_size=1e-2),\n",
    "                     train_dataloader = train_dl,\n",
    "                     test_dataloader = test_dl,\n",
    "                     verbose = False)"
   ]
  },
  {
   "cell_type": "markdown",
   "id": "524fef0c",
   "metadata": {},
   "source": [
    "We want to compare the performances of an equivalent real-valued network with two independent channels."
   ]
  },
  {
   "cell_type": "code",
   "execution_count": 14,
   "id": "65f2a204",
   "metadata": {},
   "outputs": [],
   "source": [
    "class NN2CH(hk.Module):\n",
    "\n",
    "    def __init__(self):\n",
    "\n",
    "        super().__init__()\n",
    "        self.real_fc1 = hk.Linear(64)\n",
    "        self.real_fc2 = hk.Linear(16)\n",
    "        \n",
    "        self.imag_fc1 = hk.Linear(64)\n",
    "        self.imag_fc2 = hk.Linear(16)\n",
    "        \n",
    "        self.out = hk.Linear(2)\n",
    "        \n",
    "        self.dropout = Dropout(0.2)\n",
    "        self.act = jax.nn.relu\n",
    "\n",
    "    def __call__(self, z, is_training):\n",
    "        \n",
    "        x = z.real\n",
    "        y = z.imag\n",
    "\n",
    "        x = self.act(self.real_fc1(x))\n",
    "        x = self.dropout(x, is_training)\n",
    "        x = self.act(self.real_fc2(x))\n",
    "        \n",
    "        y = self.act(self.imag_fc1(y))\n",
    "        y = self.dropout(y, is_training)\n",
    "        y = self.act(self.imag_fc2(y))\n",
    "        \n",
    "        xy = jnp.concatenate([x,y], axis=-1)\n",
    "        out = self.out(xy)\n",
    "\n",
    "        return out"
   ]
  },
  {
   "cell_type": "code",
   "execution_count": 15,
   "id": "bcbc9d65",
   "metadata": {},
   "outputs": [
    {
     "data": {
      "application/vnd.jupyter.widget-view+json": {
       "model_id": "",
       "version_major": 2,
       "version_minor": 0
      },
      "text/plain": [
       "Training for several epochs:   0%|          | 0/50 [00:00<?, ?it/s]"
      ]
     },
     "metadata": {},
     "output_type": "display_data"
    },
    {
     "data": {
      "application/vnd.jupyter.widget-view+json": {
       "model_id": "",
       "version_major": 2,
       "version_minor": 0
      },
      "text/plain": [
       "Looping over the minibatches:   0%|          | 0/25 [00:00<?, ?it/s]"
      ]
     },
     "metadata": {},
     "output_type": "display_data"
    },
    {
     "data": {
      "application/vnd.jupyter.widget-view+json": {
       "model_id": "",
       "version_major": 2,
       "version_minor": 0
      },
      "text/plain": [
       "Computing the validation metrics:   0%|          | 0/7 [00:00<?, ?it/s]"
      ]
     },
     "metadata": {},
     "output_type": "display_data"
    },
    {
     "data": {
      "application/vnd.jupyter.widget-view+json": {
       "model_id": "",
       "version_major": 2,
       "version_minor": 0
      },
      "text/plain": [
       "Looping over the minibatches:   0%|          | 0/25 [00:00<?, ?it/s]"
      ]
     },
     "metadata": {},
     "output_type": "display_data"
    },
    {
     "data": {
      "application/vnd.jupyter.widget-view+json": {
       "model_id": "",
       "version_major": 2,
       "version_minor": 0
      },
      "text/plain": [
       "Computing the validation metrics:   0%|          | 0/7 [00:00<?, ?it/s]"
      ]
     },
     "metadata": {},
     "output_type": "display_data"
    },
    {
     "data": {
      "application/vnd.jupyter.widget-view+json": {
       "model_id": "",
       "version_major": 2,
       "version_minor": 0
      },
      "text/plain": [
       "Looping over the minibatches:   0%|          | 0/25 [00:00<?, ?it/s]"
      ]
     },
     "metadata": {},
     "output_type": "display_data"
    },
    {
     "data": {
      "application/vnd.jupyter.widget-view+json": {
       "model_id": "",
       "version_major": 2,
       "version_minor": 0
      },
      "text/plain": [
       "Computing the validation metrics:   0%|          | 0/7 [00:00<?, ?it/s]"
      ]
     },
     "metadata": {},
     "output_type": "display_data"
    },
    {
     "data": {
      "application/vnd.jupyter.widget-view+json": {
       "model_id": "",
       "version_major": 2,
       "version_minor": 0
      },
      "text/plain": [
       "Looping over the minibatches:   0%|          | 0/25 [00:00<?, ?it/s]"
      ]
     },
     "metadata": {},
     "output_type": "display_data"
    },
    {
     "data": {
      "application/vnd.jupyter.widget-view+json": {
       "model_id": "",
       "version_major": 2,
       "version_minor": 0
      },
      "text/plain": [
       "Computing the validation metrics:   0%|          | 0/7 [00:00<?, ?it/s]"
      ]
     },
     "metadata": {},
     "output_type": "display_data"
    },
    {
     "data": {
      "application/vnd.jupyter.widget-view+json": {
       "model_id": "",
       "version_major": 2,
       "version_minor": 0
      },
      "text/plain": [
       "Looping over the minibatches:   0%|          | 0/25 [00:00<?, ?it/s]"
      ]
     },
     "metadata": {},
     "output_type": "display_data"
    },
    {
     "data": {
      "application/vnd.jupyter.widget-view+json": {
       "model_id": "",
       "version_major": 2,
       "version_minor": 0
      },
      "text/plain": [
       "Computing the validation metrics:   0%|          | 0/7 [00:00<?, ?it/s]"
      ]
     },
     "metadata": {},
     "output_type": "display_data"
    },
    {
     "data": {
      "application/vnd.jupyter.widget-view+json": {
       "model_id": "",
       "version_major": 2,
       "version_minor": 0
      },
      "text/plain": [
       "Looping over the minibatches:   0%|          | 0/25 [00:00<?, ?it/s]"
      ]
     },
     "metadata": {},
     "output_type": "display_data"
    },
    {
     "data": {
      "application/vnd.jupyter.widget-view+json": {
       "model_id": "",
       "version_major": 2,
       "version_minor": 0
      },
      "text/plain": [
       "Computing the validation metrics:   0%|          | 0/7 [00:00<?, ?it/s]"
      ]
     },
     "metadata": {},
     "output_type": "display_data"
    },
    {
     "data": {
      "application/vnd.jupyter.widget-view+json": {
       "model_id": "",
       "version_major": 2,
       "version_minor": 0
      },
      "text/plain": [
       "Looping over the minibatches:   0%|          | 0/25 [00:00<?, ?it/s]"
      ]
     },
     "metadata": {},
     "output_type": "display_data"
    },
    {
     "data": {
      "application/vnd.jupyter.widget-view+json": {
       "model_id": "",
       "version_major": 2,
       "version_minor": 0
      },
      "text/plain": [
       "Computing the validation metrics:   0%|          | 0/7 [00:00<?, ?it/s]"
      ]
     },
     "metadata": {},
     "output_type": "display_data"
    },
    {
     "data": {
      "application/vnd.jupyter.widget-view+json": {
       "model_id": "",
       "version_major": 2,
       "version_minor": 0
      },
      "text/plain": [
       "Looping over the minibatches:   0%|          | 0/25 [00:00<?, ?it/s]"
      ]
     },
     "metadata": {},
     "output_type": "display_data"
    },
    {
     "data": {
      "application/vnd.jupyter.widget-view+json": {
       "model_id": "",
       "version_major": 2,
       "version_minor": 0
      },
      "text/plain": [
       "Computing the validation metrics:   0%|          | 0/7 [00:00<?, ?it/s]"
      ]
     },
     "metadata": {},
     "output_type": "display_data"
    },
    {
     "data": {
      "application/vnd.jupyter.widget-view+json": {
       "model_id": "",
       "version_major": 2,
       "version_minor": 0
      },
      "text/plain": [
       "Looping over the minibatches:   0%|          | 0/25 [00:00<?, ?it/s]"
      ]
     },
     "metadata": {},
     "output_type": "display_data"
    },
    {
     "data": {
      "application/vnd.jupyter.widget-view+json": {
       "model_id": "",
       "version_major": 2,
       "version_minor": 0
      },
      "text/plain": [
       "Computing the validation metrics:   0%|          | 0/7 [00:00<?, ?it/s]"
      ]
     },
     "metadata": {},
     "output_type": "display_data"
    },
    {
     "data": {
      "application/vnd.jupyter.widget-view+json": {
       "model_id": "",
       "version_major": 2,
       "version_minor": 0
      },
      "text/plain": [
       "Looping over the minibatches:   0%|          | 0/25 [00:00<?, ?it/s]"
      ]
     },
     "metadata": {},
     "output_type": "display_data"
    },
    {
     "data": {
      "application/vnd.jupyter.widget-view+json": {
       "model_id": "",
       "version_major": 2,
       "version_minor": 0
      },
      "text/plain": [
       "Computing the validation metrics:   0%|          | 0/7 [00:00<?, ?it/s]"
      ]
     },
     "metadata": {},
     "output_type": "display_data"
    },
    {
     "data": {
      "application/vnd.jupyter.widget-view+json": {
       "model_id": "",
       "version_major": 2,
       "version_minor": 0
      },
      "text/plain": [
       "Looping over the minibatches:   0%|          | 0/25 [00:00<?, ?it/s]"
      ]
     },
     "metadata": {},
     "output_type": "display_data"
    },
    {
     "data": {
      "application/vnd.jupyter.widget-view+json": {
       "model_id": "",
       "version_major": 2,
       "version_minor": 0
      },
      "text/plain": [
       "Computing the validation metrics:   0%|          | 0/7 [00:00<?, ?it/s]"
      ]
     },
     "metadata": {},
     "output_type": "display_data"
    },
    {
     "data": {
      "application/vnd.jupyter.widget-view+json": {
       "model_id": "",
       "version_major": 2,
       "version_minor": 0
      },
      "text/plain": [
       "Looping over the minibatches:   0%|          | 0/25 [00:00<?, ?it/s]"
      ]
     },
     "metadata": {},
     "output_type": "display_data"
    },
    {
     "data": {
      "application/vnd.jupyter.widget-view+json": {
       "model_id": "",
       "version_major": 2,
       "version_minor": 0
      },
      "text/plain": [
       "Computing the validation metrics:   0%|          | 0/7 [00:00<?, ?it/s]"
      ]
     },
     "metadata": {},
     "output_type": "display_data"
    },
    {
     "data": {
      "application/vnd.jupyter.widget-view+json": {
       "model_id": "",
       "version_major": 2,
       "version_minor": 0
      },
      "text/plain": [
       "Looping over the minibatches:   0%|          | 0/25 [00:00<?, ?it/s]"
      ]
     },
     "metadata": {},
     "output_type": "display_data"
    },
    {
     "data": {
      "application/vnd.jupyter.widget-view+json": {
       "model_id": "",
       "version_major": 2,
       "version_minor": 0
      },
      "text/plain": [
       "Computing the validation metrics:   0%|          | 0/7 [00:00<?, ?it/s]"
      ]
     },
     "metadata": {},
     "output_type": "display_data"
    },
    {
     "data": {
      "application/vnd.jupyter.widget-view+json": {
       "model_id": "",
       "version_major": 2,
       "version_minor": 0
      },
      "text/plain": [
       "Looping over the minibatches:   0%|          | 0/25 [00:00<?, ?it/s]"
      ]
     },
     "metadata": {},
     "output_type": "display_data"
    },
    {
     "data": {
      "application/vnd.jupyter.widget-view+json": {
       "model_id": "",
       "version_major": 2,
       "version_minor": 0
      },
      "text/plain": [
       "Computing the validation metrics:   0%|          | 0/7 [00:00<?, ?it/s]"
      ]
     },
     "metadata": {},
     "output_type": "display_data"
    },
    {
     "data": {
      "application/vnd.jupyter.widget-view+json": {
       "model_id": "",
       "version_major": 2,
       "version_minor": 0
      },
      "text/plain": [
       "Looping over the minibatches:   0%|          | 0/25 [00:00<?, ?it/s]"
      ]
     },
     "metadata": {},
     "output_type": "display_data"
    },
    {
     "data": {
      "application/vnd.jupyter.widget-view+json": {
       "model_id": "",
       "version_major": 2,
       "version_minor": 0
      },
      "text/plain": [
       "Computing the validation metrics:   0%|          | 0/7 [00:00<?, ?it/s]"
      ]
     },
     "metadata": {},
     "output_type": "display_data"
    },
    {
     "data": {
      "application/vnd.jupyter.widget-view+json": {
       "model_id": "",
       "version_major": 2,
       "version_minor": 0
      },
      "text/plain": [
       "Looping over the minibatches:   0%|          | 0/25 [00:00<?, ?it/s]"
      ]
     },
     "metadata": {},
     "output_type": "display_data"
    },
    {
     "data": {
      "application/vnd.jupyter.widget-view+json": {
       "model_id": "",
       "version_major": 2,
       "version_minor": 0
      },
      "text/plain": [
       "Computing the validation metrics:   0%|          | 0/7 [00:00<?, ?it/s]"
      ]
     },
     "metadata": {},
     "output_type": "display_data"
    },
    {
     "data": {
      "application/vnd.jupyter.widget-view+json": {
       "model_id": "",
       "version_major": 2,
       "version_minor": 0
      },
      "text/plain": [
       "Looping over the minibatches:   0%|          | 0/25 [00:00<?, ?it/s]"
      ]
     },
     "metadata": {},
     "output_type": "display_data"
    },
    {
     "data": {
      "application/vnd.jupyter.widget-view+json": {
       "model_id": "",
       "version_major": 2,
       "version_minor": 0
      },
      "text/plain": [
       "Computing the validation metrics:   0%|          | 0/7 [00:00<?, ?it/s]"
      ]
     },
     "metadata": {},
     "output_type": "display_data"
    },
    {
     "data": {
      "application/vnd.jupyter.widget-view+json": {
       "model_id": "",
       "version_major": 2,
       "version_minor": 0
      },
      "text/plain": [
       "Looping over the minibatches:   0%|          | 0/25 [00:00<?, ?it/s]"
      ]
     },
     "metadata": {},
     "output_type": "display_data"
    },
    {
     "data": {
      "application/vnd.jupyter.widget-view+json": {
       "model_id": "",
       "version_major": 2,
       "version_minor": 0
      },
      "text/plain": [
       "Computing the validation metrics:   0%|          | 0/7 [00:00<?, ?it/s]"
      ]
     },
     "metadata": {},
     "output_type": "display_data"
    },
    {
     "data": {
      "application/vnd.jupyter.widget-view+json": {
       "model_id": "",
       "version_major": 2,
       "version_minor": 0
      },
      "text/plain": [
       "Looping over the minibatches:   0%|          | 0/25 [00:00<?, ?it/s]"
      ]
     },
     "metadata": {},
     "output_type": "display_data"
    },
    {
     "data": {
      "application/vnd.jupyter.widget-view+json": {
       "model_id": "",
       "version_major": 2,
       "version_minor": 0
      },
      "text/plain": [
       "Computing the validation metrics:   0%|          | 0/7 [00:00<?, ?it/s]"
      ]
     },
     "metadata": {},
     "output_type": "display_data"
    },
    {
     "data": {
      "application/vnd.jupyter.widget-view+json": {
       "model_id": "",
       "version_major": 2,
       "version_minor": 0
      },
      "text/plain": [
       "Looping over the minibatches:   0%|          | 0/25 [00:00<?, ?it/s]"
      ]
     },
     "metadata": {},
     "output_type": "display_data"
    },
    {
     "data": {
      "application/vnd.jupyter.widget-view+json": {
       "model_id": "",
       "version_major": 2,
       "version_minor": 0
      },
      "text/plain": [
       "Computing the validation metrics:   0%|          | 0/7 [00:00<?, ?it/s]"
      ]
     },
     "metadata": {},
     "output_type": "display_data"
    },
    {
     "data": {
      "application/vnd.jupyter.widget-view+json": {
       "model_id": "",
       "version_major": 2,
       "version_minor": 0
      },
      "text/plain": [
       "Looping over the minibatches:   0%|          | 0/25 [00:00<?, ?it/s]"
      ]
     },
     "metadata": {},
     "output_type": "display_data"
    },
    {
     "data": {
      "application/vnd.jupyter.widget-view+json": {
       "model_id": "",
       "version_major": 2,
       "version_minor": 0
      },
      "text/plain": [
       "Computing the validation metrics:   0%|          | 0/7 [00:00<?, ?it/s]"
      ]
     },
     "metadata": {},
     "output_type": "display_data"
    },
    {
     "data": {
      "application/vnd.jupyter.widget-view+json": {
       "model_id": "",
       "version_major": 2,
       "version_minor": 0
      },
      "text/plain": [
       "Looping over the minibatches:   0%|          | 0/25 [00:00<?, ?it/s]"
      ]
     },
     "metadata": {},
     "output_type": "display_data"
    },
    {
     "data": {
      "application/vnd.jupyter.widget-view+json": {
       "model_id": "",
       "version_major": 2,
       "version_minor": 0
      },
      "text/plain": [
       "Computing the validation metrics:   0%|          | 0/7 [00:00<?, ?it/s]"
      ]
     },
     "metadata": {},
     "output_type": "display_data"
    },
    {
     "data": {
      "application/vnd.jupyter.widget-view+json": {
       "model_id": "",
       "version_major": 2,
       "version_minor": 0
      },
      "text/plain": [
       "Looping over the minibatches:   0%|          | 0/25 [00:00<?, ?it/s]"
      ]
     },
     "metadata": {},
     "output_type": "display_data"
    },
    {
     "data": {
      "application/vnd.jupyter.widget-view+json": {
       "model_id": "",
       "version_major": 2,
       "version_minor": 0
      },
      "text/plain": [
       "Computing the validation metrics:   0%|          | 0/7 [00:00<?, ?it/s]"
      ]
     },
     "metadata": {},
     "output_type": "display_data"
    },
    {
     "data": {
      "application/vnd.jupyter.widget-view+json": {
       "model_id": "",
       "version_major": 2,
       "version_minor": 0
      },
      "text/plain": [
       "Looping over the minibatches:   0%|          | 0/25 [00:00<?, ?it/s]"
      ]
     },
     "metadata": {},
     "output_type": "display_data"
    },
    {
     "data": {
      "application/vnd.jupyter.widget-view+json": {
       "model_id": "",
       "version_major": 2,
       "version_minor": 0
      },
      "text/plain": [
       "Computing the validation metrics:   0%|          | 0/7 [00:00<?, ?it/s]"
      ]
     },
     "metadata": {},
     "output_type": "display_data"
    },
    {
     "data": {
      "application/vnd.jupyter.widget-view+json": {
       "model_id": "",
       "version_major": 2,
       "version_minor": 0
      },
      "text/plain": [
       "Looping over the minibatches:   0%|          | 0/25 [00:00<?, ?it/s]"
      ]
     },
     "metadata": {},
     "output_type": "display_data"
    },
    {
     "data": {
      "application/vnd.jupyter.widget-view+json": {
       "model_id": "",
       "version_major": 2,
       "version_minor": 0
      },
      "text/plain": [
       "Computing the validation metrics:   0%|          | 0/7 [00:00<?, ?it/s]"
      ]
     },
     "metadata": {},
     "output_type": "display_data"
    },
    {
     "data": {
      "application/vnd.jupyter.widget-view+json": {
       "model_id": "",
       "version_major": 2,
       "version_minor": 0
      },
      "text/plain": [
       "Looping over the minibatches:   0%|          | 0/25 [00:00<?, ?it/s]"
      ]
     },
     "metadata": {},
     "output_type": "display_data"
    },
    {
     "data": {
      "application/vnd.jupyter.widget-view+json": {
       "model_id": "",
       "version_major": 2,
       "version_minor": 0
      },
      "text/plain": [
       "Computing the validation metrics:   0%|          | 0/7 [00:00<?, ?it/s]"
      ]
     },
     "metadata": {},
     "output_type": "display_data"
    },
    {
     "data": {
      "application/vnd.jupyter.widget-view+json": {
       "model_id": "",
       "version_major": 2,
       "version_minor": 0
      },
      "text/plain": [
       "Looping over the minibatches:   0%|          | 0/25 [00:00<?, ?it/s]"
      ]
     },
     "metadata": {},
     "output_type": "display_data"
    },
    {
     "data": {
      "application/vnd.jupyter.widget-view+json": {
       "model_id": "",
       "version_major": 2,
       "version_minor": 0
      },
      "text/plain": [
       "Computing the validation metrics:   0%|          | 0/7 [00:00<?, ?it/s]"
      ]
     },
     "metadata": {},
     "output_type": "display_data"
    },
    {
     "data": {
      "application/vnd.jupyter.widget-view+json": {
       "model_id": "",
       "version_major": 2,
       "version_minor": 0
      },
      "text/plain": [
       "Looping over the minibatches:   0%|          | 0/25 [00:00<?, ?it/s]"
      ]
     },
     "metadata": {},
     "output_type": "display_data"
    },
    {
     "data": {
      "application/vnd.jupyter.widget-view+json": {
       "model_id": "",
       "version_major": 2,
       "version_minor": 0
      },
      "text/plain": [
       "Computing the validation metrics:   0%|          | 0/7 [00:00<?, ?it/s]"
      ]
     },
     "metadata": {},
     "output_type": "display_data"
    },
    {
     "data": {
      "application/vnd.jupyter.widget-view+json": {
       "model_id": "",
       "version_major": 2,
       "version_minor": 0
      },
      "text/plain": [
       "Looping over the minibatches:   0%|          | 0/25 [00:00<?, ?it/s]"
      ]
     },
     "metadata": {},
     "output_type": "display_data"
    },
    {
     "data": {
      "application/vnd.jupyter.widget-view+json": {
       "model_id": "",
       "version_major": 2,
       "version_minor": 0
      },
      "text/plain": [
       "Computing the validation metrics:   0%|          | 0/7 [00:00<?, ?it/s]"
      ]
     },
     "metadata": {},
     "output_type": "display_data"
    },
    {
     "data": {
      "application/vnd.jupyter.widget-view+json": {
       "model_id": "",
       "version_major": 2,
       "version_minor": 0
      },
      "text/plain": [
       "Looping over the minibatches:   0%|          | 0/25 [00:00<?, ?it/s]"
      ]
     },
     "metadata": {},
     "output_type": "display_data"
    },
    {
     "data": {
      "application/vnd.jupyter.widget-view+json": {
       "model_id": "",
       "version_major": 2,
       "version_minor": 0
      },
      "text/plain": [
       "Computing the validation metrics:   0%|          | 0/7 [00:00<?, ?it/s]"
      ]
     },
     "metadata": {},
     "output_type": "display_data"
    },
    {
     "data": {
      "application/vnd.jupyter.widget-view+json": {
       "model_id": "",
       "version_major": 2,
       "version_minor": 0
      },
      "text/plain": [
       "Looping over the minibatches:   0%|          | 0/25 [00:00<?, ?it/s]"
      ]
     },
     "metadata": {},
     "output_type": "display_data"
    },
    {
     "data": {
      "application/vnd.jupyter.widget-view+json": {
       "model_id": "",
       "version_major": 2,
       "version_minor": 0
      },
      "text/plain": [
       "Computing the validation metrics:   0%|          | 0/7 [00:00<?, ?it/s]"
      ]
     },
     "metadata": {},
     "output_type": "display_data"
    },
    {
     "data": {
      "application/vnd.jupyter.widget-view+json": {
       "model_id": "",
       "version_major": 2,
       "version_minor": 0
      },
      "text/plain": [
       "Looping over the minibatches:   0%|          | 0/25 [00:00<?, ?it/s]"
      ]
     },
     "metadata": {},
     "output_type": "display_data"
    },
    {
     "data": {
      "application/vnd.jupyter.widget-view+json": {
       "model_id": "",
       "version_major": 2,
       "version_minor": 0
      },
      "text/plain": [
       "Computing the validation metrics:   0%|          | 0/7 [00:00<?, ?it/s]"
      ]
     },
     "metadata": {},
     "output_type": "display_data"
    },
    {
     "data": {
      "application/vnd.jupyter.widget-view+json": {
       "model_id": "",
       "version_major": 2,
       "version_minor": 0
      },
      "text/plain": [
       "Looping over the minibatches:   0%|          | 0/25 [00:00<?, ?it/s]"
      ]
     },
     "metadata": {},
     "output_type": "display_data"
    },
    {
     "data": {
      "application/vnd.jupyter.widget-view+json": {
       "model_id": "",
       "version_major": 2,
       "version_minor": 0
      },
      "text/plain": [
       "Computing the validation metrics:   0%|          | 0/7 [00:00<?, ?it/s]"
      ]
     },
     "metadata": {},
     "output_type": "display_data"
    },
    {
     "data": {
      "application/vnd.jupyter.widget-view+json": {
       "model_id": "",
       "version_major": 2,
       "version_minor": 0
      },
      "text/plain": [
       "Looping over the minibatches:   0%|          | 0/25 [00:00<?, ?it/s]"
      ]
     },
     "metadata": {},
     "output_type": "display_data"
    },
    {
     "data": {
      "application/vnd.jupyter.widget-view+json": {
       "model_id": "",
       "version_major": 2,
       "version_minor": 0
      },
      "text/plain": [
       "Computing the validation metrics:   0%|          | 0/7 [00:00<?, ?it/s]"
      ]
     },
     "metadata": {},
     "output_type": "display_data"
    },
    {
     "data": {
      "application/vnd.jupyter.widget-view+json": {
       "model_id": "",
       "version_major": 2,
       "version_minor": 0
      },
      "text/plain": [
       "Looping over the minibatches:   0%|          | 0/25 [00:00<?, ?it/s]"
      ]
     },
     "metadata": {},
     "output_type": "display_data"
    },
    {
     "data": {
      "application/vnd.jupyter.widget-view+json": {
       "model_id": "",
       "version_major": 2,
       "version_minor": 0
      },
      "text/plain": [
       "Computing the validation metrics:   0%|          | 0/7 [00:00<?, ?it/s]"
      ]
     },
     "metadata": {},
     "output_type": "display_data"
    },
    {
     "data": {
      "application/vnd.jupyter.widget-view+json": {
       "model_id": "",
       "version_major": 2,
       "version_minor": 0
      },
      "text/plain": [
       "Looping over the minibatches:   0%|          | 0/25 [00:00<?, ?it/s]"
      ]
     },
     "metadata": {},
     "output_type": "display_data"
    },
    {
     "data": {
      "application/vnd.jupyter.widget-view+json": {
       "model_id": "",
       "version_major": 2,
       "version_minor": 0
      },
      "text/plain": [
       "Computing the validation metrics:   0%|          | 0/7 [00:00<?, ?it/s]"
      ]
     },
     "metadata": {},
     "output_type": "display_data"
    },
    {
     "data": {
      "application/vnd.jupyter.widget-view+json": {
       "model_id": "",
       "version_major": 2,
       "version_minor": 0
      },
      "text/plain": [
       "Looping over the minibatches:   0%|          | 0/25 [00:00<?, ?it/s]"
      ]
     },
     "metadata": {},
     "output_type": "display_data"
    },
    {
     "data": {
      "application/vnd.jupyter.widget-view+json": {
       "model_id": "",
       "version_major": 2,
       "version_minor": 0
      },
      "text/plain": [
       "Computing the validation metrics:   0%|          | 0/7 [00:00<?, ?it/s]"
      ]
     },
     "metadata": {},
     "output_type": "display_data"
    },
    {
     "data": {
      "application/vnd.jupyter.widget-view+json": {
       "model_id": "",
       "version_major": 2,
       "version_minor": 0
      },
      "text/plain": [
       "Looping over the minibatches:   0%|          | 0/25 [00:00<?, ?it/s]"
      ]
     },
     "metadata": {},
     "output_type": "display_data"
    },
    {
     "data": {
      "application/vnd.jupyter.widget-view+json": {
       "model_id": "",
       "version_major": 2,
       "version_minor": 0
      },
      "text/plain": [
       "Computing the validation metrics:   0%|          | 0/7 [00:00<?, ?it/s]"
      ]
     },
     "metadata": {},
     "output_type": "display_data"
    },
    {
     "data": {
      "application/vnd.jupyter.widget-view+json": {
       "model_id": "",
       "version_major": 2,
       "version_minor": 0
      },
      "text/plain": [
       "Looping over the minibatches:   0%|          | 0/25 [00:00<?, ?it/s]"
      ]
     },
     "metadata": {},
     "output_type": "display_data"
    },
    {
     "data": {
      "application/vnd.jupyter.widget-view+json": {
       "model_id": "",
       "version_major": 2,
       "version_minor": 0
      },
      "text/plain": [
       "Computing the validation metrics:   0%|          | 0/7 [00:00<?, ?it/s]"
      ]
     },
     "metadata": {},
     "output_type": "display_data"
    },
    {
     "data": {
      "application/vnd.jupyter.widget-view+json": {
       "model_id": "",
       "version_major": 2,
       "version_minor": 0
      },
      "text/plain": [
       "Looping over the minibatches:   0%|          | 0/25 [00:00<?, ?it/s]"
      ]
     },
     "metadata": {},
     "output_type": "display_data"
    },
    {
     "data": {
      "application/vnd.jupyter.widget-view+json": {
       "model_id": "",
       "version_major": 2,
       "version_minor": 0
      },
      "text/plain": [
       "Computing the validation metrics:   0%|          | 0/7 [00:00<?, ?it/s]"
      ]
     },
     "metadata": {},
     "output_type": "display_data"
    },
    {
     "data": {
      "application/vnd.jupyter.widget-view+json": {
       "model_id": "",
       "version_major": 2,
       "version_minor": 0
      },
      "text/plain": [
       "Looping over the minibatches:   0%|          | 0/25 [00:00<?, ?it/s]"
      ]
     },
     "metadata": {},
     "output_type": "display_data"
    },
    {
     "data": {
      "application/vnd.jupyter.widget-view+json": {
       "model_id": "",
       "version_major": 2,
       "version_minor": 0
      },
      "text/plain": [
       "Computing the validation metrics:   0%|          | 0/7 [00:00<?, ?it/s]"
      ]
     },
     "metadata": {},
     "output_type": "display_data"
    },
    {
     "data": {
      "application/vnd.jupyter.widget-view+json": {
       "model_id": "",
       "version_major": 2,
       "version_minor": 0
      },
      "text/plain": [
       "Looping over the minibatches:   0%|          | 0/25 [00:00<?, ?it/s]"
      ]
     },
     "metadata": {},
     "output_type": "display_data"
    },
    {
     "data": {
      "application/vnd.jupyter.widget-view+json": {
       "model_id": "",
       "version_major": 2,
       "version_minor": 0
      },
      "text/plain": [
       "Computing the validation metrics:   0%|          | 0/7 [00:00<?, ?it/s]"
      ]
     },
     "metadata": {},
     "output_type": "display_data"
    },
    {
     "data": {
      "application/vnd.jupyter.widget-view+json": {
       "model_id": "",
       "version_major": 2,
       "version_minor": 0
      },
      "text/plain": [
       "Looping over the minibatches:   0%|          | 0/25 [00:00<?, ?it/s]"
      ]
     },
     "metadata": {},
     "output_type": "display_data"
    },
    {
     "data": {
      "application/vnd.jupyter.widget-view+json": {
       "model_id": "",
       "version_major": 2,
       "version_minor": 0
      },
      "text/plain": [
       "Computing the validation metrics:   0%|          | 0/7 [00:00<?, ?it/s]"
      ]
     },
     "metadata": {},
     "output_type": "display_data"
    },
    {
     "data": {
      "application/vnd.jupyter.widget-view+json": {
       "model_id": "",
       "version_major": 2,
       "version_minor": 0
      },
      "text/plain": [
       "Looping over the minibatches:   0%|          | 0/25 [00:00<?, ?it/s]"
      ]
     },
     "metadata": {},
     "output_type": "display_data"
    },
    {
     "data": {
      "application/vnd.jupyter.widget-view+json": {
       "model_id": "",
       "version_major": 2,
       "version_minor": 0
      },
      "text/plain": [
       "Computing the validation metrics:   0%|          | 0/7 [00:00<?, ?it/s]"
      ]
     },
     "metadata": {},
     "output_type": "display_data"
    },
    {
     "data": {
      "application/vnd.jupyter.widget-view+json": {
       "model_id": "",
       "version_major": 2,
       "version_minor": 0
      },
      "text/plain": [
       "Looping over the minibatches:   0%|          | 0/25 [00:00<?, ?it/s]"
      ]
     },
     "metadata": {},
     "output_type": "display_data"
    },
    {
     "data": {
      "application/vnd.jupyter.widget-view+json": {
       "model_id": "",
       "version_major": 2,
       "version_minor": 0
      },
      "text/plain": [
       "Computing the validation metrics:   0%|          | 0/7 [00:00<?, ?it/s]"
      ]
     },
     "metadata": {},
     "output_type": "display_data"
    },
    {
     "data": {
      "application/vnd.jupyter.widget-view+json": {
       "model_id": "",
       "version_major": 2,
       "version_minor": 0
      },
      "text/plain": [
       "Looping over the minibatches:   0%|          | 0/25 [00:00<?, ?it/s]"
      ]
     },
     "metadata": {},
     "output_type": "display_data"
    },
    {
     "data": {
      "application/vnd.jupyter.widget-view+json": {
       "model_id": "",
       "version_major": 2,
       "version_minor": 0
      },
      "text/plain": [
       "Computing the validation metrics:   0%|          | 0/7 [00:00<?, ?it/s]"
      ]
     },
     "metadata": {},
     "output_type": "display_data"
    },
    {
     "data": {
      "application/vnd.jupyter.widget-view+json": {
       "model_id": "",
       "version_major": 2,
       "version_minor": 0
      },
      "text/plain": [
       "Looping over the minibatches:   0%|          | 0/25 [00:00<?, ?it/s]"
      ]
     },
     "metadata": {},
     "output_type": "display_data"
    },
    {
     "data": {
      "application/vnd.jupyter.widget-view+json": {
       "model_id": "",
       "version_major": 2,
       "version_minor": 0
      },
      "text/plain": [
       "Computing the validation metrics:   0%|          | 0/7 [00:00<?, ?it/s]"
      ]
     },
     "metadata": {},
     "output_type": "display_data"
    },
    {
     "data": {
      "application/vnd.jupyter.widget-view+json": {
       "model_id": "",
       "version_major": 2,
       "version_minor": 0
      },
      "text/plain": [
       "Looping over the minibatches:   0%|          | 0/25 [00:00<?, ?it/s]"
      ]
     },
     "metadata": {},
     "output_type": "display_data"
    },
    {
     "data": {
      "application/vnd.jupyter.widget-view+json": {
       "model_id": "",
       "version_major": 2,
       "version_minor": 0
      },
      "text/plain": [
       "Computing the validation metrics:   0%|          | 0/7 [00:00<?, ?it/s]"
      ]
     },
     "metadata": {},
     "output_type": "display_data"
    },
    {
     "data": {
      "application/vnd.jupyter.widget-view+json": {
       "model_id": "",
       "version_major": 2,
       "version_minor": 0
      },
      "text/plain": [
       "Looping over the minibatches:   0%|          | 0/25 [00:00<?, ?it/s]"
      ]
     },
     "metadata": {},
     "output_type": "display_data"
    },
    {
     "data": {
      "application/vnd.jupyter.widget-view+json": {
       "model_id": "",
       "version_major": 2,
       "version_minor": 0
      },
      "text/plain": [
       "Computing the validation metrics:   0%|          | 0/7 [00:00<?, ?it/s]"
      ]
     },
     "metadata": {},
     "output_type": "display_data"
    },
    {
     "data": {
      "application/vnd.jupyter.widget-view+json": {
       "model_id": "",
       "version_major": 2,
       "version_minor": 0
      },
      "text/plain": [
       "Looping over the minibatches:   0%|          | 0/25 [00:00<?, ?it/s]"
      ]
     },
     "metadata": {},
     "output_type": "display_data"
    },
    {
     "data": {
      "application/vnd.jupyter.widget-view+json": {
       "model_id": "",
       "version_major": 2,
       "version_minor": 0
      },
      "text/plain": [
       "Computing the validation metrics:   0%|          | 0/7 [00:00<?, ?it/s]"
      ]
     },
     "metadata": {},
     "output_type": "display_data"
    }
   ],
   "source": [
    "real2ch = Haiku_Classifier()\n",
    "_ = real2ch.train(n_epochs = 50,\n",
    "                  model = NN2CH, \n",
    "                  optimizer = jax.experimental.optimizers.adam(step_size=1e-2),\n",
    "                  train_dataloader = train_dl,\n",
    "                  test_dataloader = test_dl,\n",
    "                  verbose = False)"
   ]
  },
  {
   "cell_type": "markdown",
   "id": "58048c6c",
   "metadata": {},
   "source": [
    "Let's examine the final results:"
   ]
  },
  {
   "cell_type": "code",
   "execution_count": 16,
   "id": "0030fe59",
   "metadata": {},
   "outputs": [
    {
     "data": {
      "text/plain": [
       "<AxesSubplot:xlabel='index', ylabel='train_acc'>"
      ]
     },
     "execution_count": 16,
     "metadata": {},
     "output_type": "execute_result"
    },
    {
     "data": {
      "image/png": "[encoded data removed]",
      "text/plain": [
       "<Figure size 864x360 with 2 Axes>"
      ]
     },
     "metadata": {
      "needs_background": "light"
     },
     "output_type": "display_data"
    }
   ],
   "source": [
    "circular_train = pd.concat([pd.DataFrame(complex_hc.training_history), pd.DataFrame(real2ch.training_history)])\n",
    "circular_train.reset_index(inplace=True)\n",
    "circular_train['label'] = ['cmplx'] * 50 + ['real_2ch'] * 50\n",
    "\n",
    "fig, ax = plt.subplots(1, 2, figsize=(12,5))\n",
    "\n",
    "sns.lineplot(x='index', y='train_loss', hue='label', data=circular_train, ax=ax[0])\n",
    "sns.lineplot(x='index', y='val_loss', hue='label', data=circular_train, ax=ax[0])\n",
    "\n",
    "sns.lineplot(x='index', y='train_acc', hue='label', data=circular_train, ax=ax[1])\n",
    "sns.lineplot(x='index', y='val_acc', hue='label', data=circular_train, ax=ax[1])"
   ]
  },
  {
   "cell_type": "markdown",
   "id": "1273efe1",
   "metadata": {},
   "source": [
    "As we can see, on such a simple problem, both models manage to converge, in the end, reaching very high accuracies on the test set $(>95\\%)$. However, the complex-valued models seems to perform just a bit worse, looking at both the loss and accuracy behaviors across the epochs. In the end the difference among the models is quite negligible, but we will still take into account about it."
   ]
  },
  {
   "cell_type": "markdown",
   "id": "ae65e691",
   "metadata": {},
   "source": [
    "The next step is to check what happens is, instead, we try to distinguish a non-circular complex-valued distributions."
   ]
  },
  {
   "cell_type": "code",
   "execution_count": 17,
   "id": "a628a7fb",
   "metadata": {},
   "outputs": [],
   "source": [
    "noncirc_covmat_1 = np.array([[1., 0.],[0., 1.]])\n",
    "noncirc_covmat_2 = np.array([[1., 0.75],[0.75, 1.]])"
   ]
  },
  {
   "cell_type": "code",
   "execution_count": 100,
   "id": "cef94a33",
   "metadata": {},
   "outputs": [
    {
     "data": {
      "application/vnd.jupyter.widget-view+json": {
       "model_id": "",
       "version_major": 2,
       "version_minor": 0
      },
      "text/plain": [
       "  0%|          | 0/5000 [00:00<?, ?it/s]"
      ]
     },
     "metadata": {},
     "output_type": "display_data"
    },
    {
     "name": "stdout",
     "output_type": "stream",
     "text": [
      "Circularity coefficient: 0.0001+0.0009j\n",
      "Correlation coefficient: 0.0009\n"
     ]
    },
    {
     "data": {
      "application/vnd.jupyter.widget-view+json": {
       "model_id": "",
       "version_major": 2,
       "version_minor": 0
      },
      "text/plain": [
       "  0%|          | 0/5000 [00:00<?, ?it/s]"
      ]
     },
     "metadata": {},
     "output_type": "display_data"
    },
    {
     "name": "stdout",
     "output_type": "stream",
     "text": [
      "Circularity coefficient: -0.0001+0.7498j\n",
      "Correlation coefficient: 0.7498\n"
     ]
    }
   ],
   "source": [
    "noncirc1 = NpyDataset(generate_cmplx_distribution(cov_mat=noncirc_covmat_1, shape=(5000,128)), label=0)\n",
    "noncirc1_rhoz, noncirc1_rho = get_circularity_coeff(noncirc1)\n",
    "print('Circularity coefficient: {:.4f}'.format(noncirc1_rhoz))\n",
    "print('Correlation coefficient: {:.4f}'.format(noncirc1_rho))\n",
    "\n",
    "noncirc2 = NpyDataset(generate_cmplx_distribution(cov_mat=noncirc_covmat_2, shape=(5000,128)), label=1)\n",
    "noncirc2_rhoz, noncirc2_rho = get_circularity_coeff(noncirc2)\n",
    "print('Circularity coefficient: {:.4f}'.format(noncirc2_rhoz))\n",
    "print('Correlation coefficient: {:.4f}'.format(noncirc2_rho))"
   ]
  },
  {
   "cell_type": "code",
   "execution_count": 137,
   "id": "ebadce04",
   "metadata": {},
   "outputs": [
    {
     "data": {
      "text/plain": [
       "Text(0.7, -2.7, '$\\\\Gamma = \\\\begin{bmatrix} 1 & 0.75 \\\\\\\\ 0.75 & 1 \\\\end{bmatrix}$')"
      ]
     },
     "execution_count": 137,
     "metadata": {},
     "output_type": "execute_result"
    },
    {
     "data": {
      "image/png": "[encoded data removed]",
      "text/plain": [
       "<Figure size 1080x360 with 2 Axes>"
      ]
     },
     "metadata": {
      "needs_background": "light"
     },
     "output_type": "display_data"
    }
   ],
   "source": [
    "sample1 = generate_cmplx_distribution(cov_mat=noncirc_covmat_1, shape=(1000,))\n",
    "sample2 = generate_cmplx_distribution(cov_mat=noncirc_covmat_2, shape=(1000,))\n",
    "\n",
    "fig, ax = plt.subplots(1,2,figsize=(15,5))\n",
    "\n",
    "sns.scatterplot(x=sample1.real, y=sample1.imag, ax=ax[0], color='navy')\n",
    "sns.scatterplot(x=sample2.real, y=sample2.imag, ax=ax[1], color='firebrick')\n",
    "\n",
    "ax[0].set_title('Circular complex distributions (label \"0\")', fontsize=18)\n",
    "ax[0].set_xlabel(r'$\\Re(z)$', fontsize=20)\n",
    "ax[0].set_ylabel(r'$\\Im(z)$', fontsize=20)\n",
    "ax[0].text(2., -3., r'$\\Gamma = \\begin{bmatrix} 1 & 0 \\\\ 0 & 1 \\end{bmatrix}$')\n",
    "\n",
    "ax[1].set_title('Non-Circular complex distributions (label \"1\")', fontsize=18)\n",
    "ax[1].set_xlabel(r'$\\Re(z)$', fontsize=20)\n",
    "ax[1].set_ylabel(r'$\\Im(z)$', fontsize=20);\n",
    "ax[1].text(0.7, -2.7, r'$\\Gamma = \\begin{bmatrix} 1 & 0.75 \\\\ 0.75 & 1 \\end{bmatrix}$');"
   ]
  },
  {
   "cell_type": "code",
   "execution_count": 138,
   "id": "2ef896a8",
   "metadata": {},
   "outputs": [],
   "source": [
    "#fig.savefig(\"circ_class_example.pdf\", bbox_inches='tight')"
   ]
  },
  {
   "cell_type": "code",
   "execution_count": null,
   "id": "7a6e57fb",
   "metadata": {},
   "outputs": [],
   "source": [
    "full_ds = torch.utils.data.ConcatDataset([noncirc1, noncirc2])\n",
    "train_ds, test_ds = torch.utils.data.random_split(full_ds, [8000, 2000])\n",
    "train_dl = DataLoader(train_ds, batch_size=320, shuffle=True)\n",
    "test_dl = DataLoader(test_ds, batch_size=320, shuffle=False)"
   ]
  },
  {
   "cell_type": "code",
   "execution_count": null,
   "id": "c904188d",
   "metadata": {},
   "outputs": [],
   "source": [
    "complex_hc_noncirc = Haiku_Classifier()\n",
    "_ = complex_hc_noncirc.train(n_epochs = 50,\n",
    "                             model = CVNN, \n",
    "                             optimizer = cmplx_adam(step_size=1e-2),\n",
    "                             train_dataloader = train_dl,\n",
    "                             test_dataloader = test_dl,\n",
    "                             verbose = False)"
   ]
  },
  {
   "cell_type": "code",
   "execution_count": null,
   "id": "ee2ee563",
   "metadata": {},
   "outputs": [],
   "source": [
    "real2ch_noncirc = Haiku_Classifier()\n",
    "_ = real2ch_noncirc.train(n_epochs = 50,\n",
    "                          model = NN2CH, \n",
    "                          optimizer = jax.experimental.optimizers.adam(step_size=1e-2),\n",
    "                          train_dataloader = train_dl,\n",
    "                          test_dataloader = test_dl,\n",
    "                          verbose = False)"
   ]
  },
  {
   "cell_type": "code",
   "execution_count": null,
   "id": "b50dab56",
   "metadata": {},
   "outputs": [],
   "source": [
    "noncircular_train = pd.concat([pd.DataFrame(complex_hc_noncirc.training_history), pd.DataFrame(real2ch_noncirc.training_history)])\n",
    "noncircular_train.reset_index(inplace=True)\n",
    "noncircular_train['label'] = ['cmplx'] * 50 + ['real_2ch'] * 50\n",
    "\n",
    "fig, ax = plt.subplots(1, 2, figsize=(12,5))\n",
    "\n",
    "sns.lineplot(x='index', y='train_loss', hue='label', data=noncircular_train, ax=ax[0])\n",
    "sns.lineplot(x='index', y='val_loss', hue='label', data=noncircular_train, ax=ax[0])\n",
    "\n",
    "sns.lineplot(x='index', y='train_acc', hue='label', data=noncircular_train, ax=ax[1])\n",
    "sns.lineplot(x='index', y='val_acc', hue='label', data=noncircular_train, ax=ax[1])"
   ]
  },
  {
   "cell_type": "markdown",
   "id": "70c4bad7",
   "metadata": {},
   "source": [
    "This time the situation is completely different: the complex model manage to converge, while the real one barely overfits the training set, completely missing the correctness for the test set. <br>\n",
    "If we manage to quantify this behavior, we could trace down a line over which complex models effectively outperform their real counterparts."
   ]
  },
  {
   "cell_type": "markdown",
   "id": "61acf98f",
   "metadata": {},
   "source": [
    "## Real vs Complex Models at different Circularity levels"
   ]
  },
  {
   "cell_type": "markdown",
   "id": "c6daa5c8",
   "metadata": {},
   "source": [
    "Now we would like to make a quantitative analysis and understand when complex and real models perform better wrt to thei adversarials. We keep the previous task, fixing a distribution $A$ with label 0, made of data circularly distributed with the identity as covariance matrix. The distribuion $B$, instead, with label 1, will be gradually modified in order to stress the responses of the various networks and maybe find some regularity, some relation, with the degrees of circularity (or correlation) of the dataset. <br>\n",
    "Just for remark, the dataset $A$ has:\n",
    "$$\n",
    "\\sigma_x = \\sigma_y = 1. \\qquad \\sigma_{xy}=0. \\qquad\\implies\\qquad \\rho_z = \\rho = 0\n",
    "$$"
   ]
  },
  {
   "cell_type": "markdown",
   "id": "955ba654",
   "metadata": {},
   "source": [
    "### First source of non-circularity: $\\sigma_{xy}\\neq 0$"
   ]
  },
  {
   "cell_type": "markdown",
   "id": "12327061",
   "metadata": {},
   "source": [
    "Let's examine the first source of non-circularity in a distribution, i.e. the same variances for real and imaginary parts. <br>\n",
    "We start fixing $\\sigma_x = \\sigma_y = \\sigma = 1.$ and we leave the covariance $\\sigma_{xy}$ free to space the interval $(-1,1)$ (to keep the covariance matrix positive defined). Then:\n",
    "$$\n",
    "\\rho_z = \\frac{i\\sigma_{xy}}{\\sigma^2}, \\qquad \\rho=\\frac{\\sigma_{xy}}{\\sigma^2} \\qquad\\implies\\qquad |\\rho_z| = |\\rho|\n",
    "$$"
   ]
  },
  {
   "cell_type": "markdown",
   "id": "6e889303",
   "metadata": {},
   "source": [
    "Let's try to understand what happens gradually changing the distributions."
   ]
  },
  {
   "cell_type": "code",
   "execution_count": 21,
   "id": "fa4842b5",
   "metadata": {},
   "outputs": [],
   "source": [
    "# In order to simplify our work, we define a function that automatically creates two datasets, \n",
    "# one circular with the identity as covariance matrix, and the other with the parameters specified\n",
    "# in input, and use them to train a real and a complex model for a \n",
    "# given number of epochs. Furthermore, it returns the final score as the average accuracy for both networks \n",
    "# for the last 10 epochs over the validation set.\n",
    "\n",
    "def test_config(covmat, n_epochs=60):\n",
    "        \n",
    "    # Generate datasets\n",
    "    dist1 = NpyDataset(generate_cmplx_distribution(cov_mat=np.array([[1.,0.],[0., 1.]]), shape=(5000,128)), label=0)\n",
    "    #dist1_rhoz, dist1_rho = get_circularity_coeff(dist1)\n",
    "    #print('Circularity coefficient first distribution: {:.4f}'.format(dist1_rhoz))\n",
    "    #print('Correlation coefficient first distribution {:.4f}'.format(dist1_rho))\n",
    "\n",
    "    dist2 = NpyDataset(generate_cmplx_distribution(cov_mat=covmat, shape=(5000,128)), label=1)\n",
    "    dist2_rhoz, dist2_rho = get_circularity_coeff(dist2)\n",
    "    #print('Circularity coefficient second distribution: {:.4f}'.format(dist2_rhoz))\n",
    "    #print('Correlation coefficient second distribution: {:.4f}'.format(dist2_rho))\n",
    "    \n",
    "    full_ds = torch.utils.data.ConcatDataset([dist1, dist2])\n",
    "    train_ds, test_ds = torch.utils.data.random_split(full_ds, [8000, 2000])\n",
    "    train_dl = DataLoader(train_ds, batch_size=320, shuffle=True)\n",
    "    test_dl = DataLoader(test_ds, batch_size=320, shuffle=False)\n",
    "    \n",
    "    # Train the complex model\n",
    "    complex_hc = Haiku_Classifier()\n",
    "    _ = complex_hc.train(n_epochs = n_epochs,\n",
    "                         model = CVNN, \n",
    "                         optimizer = cmplx_adam(step_size=1e-2),\n",
    "                         train_dataloader = train_dl,\n",
    "                         test_dataloader = test_dl,\n",
    "                         verbose = False)\n",
    "\n",
    "    # Train the real model\n",
    "    real2ch = Haiku_Classifier()\n",
    "    _ = real2ch.train(n_epochs = n_epochs,\n",
    "                      model = NN2CH, \n",
    "                      optimizer = jax.experimental.optimizers.adam(step_size=1e-2),\n",
    "                      train_dataloader = train_dl,\n",
    "                      test_dataloader = test_dl,\n",
    "                      verbose = False)\n",
    "    \n",
    "    cmplx_score = np.mean(complex_hc.training_history['val_acc'][-10:])\n",
    "    real_score = np.mean(real2ch.training_history['val_acc'][-10:])\n",
    "        \n",
    "    return dist2_rhoz, dist2_rho, cmplx_score, real_score"
   ]
  },
  {
   "cell_type": "markdown",
   "id": "af88d85b",
   "metadata": {},
   "source": [
    "So, we will test different distributions, all having $\\sigma_x=\\sigma_y=1.$ and different covariances $\\sigma_{xy}\\in(-1,1)$, looking for some interesting behaviors. <br>\n",
    "Each test will be repeated several times, with different numy seeds, in order to derive a more reliable statistics."
   ]
  },
  {
   "cell_type": "code",
   "execution_count": null,
   "id": "81123744",
   "metadata": {},
   "outputs": [],
   "source": [
    "#seeds = [2351, 521453, 23, 314, 451]\n",
    "#source1_circ = {'seed':[], 'rhoz': [], 'rho': [], 'cmplx_score': [], 'real_score': []}\n",
    "#cov_values = np.random.uniform(-1., 1., 7)\n",
    "\n",
    "#for s in tqdm(seeds, leave=False, desc='Testing different seeds.'):\n",
    "#    np.random.seed(s)\n",
    "#    for sxy in tqdm(cov_values, leave=False, desc='Testing several covariances.'):\n",
    "#        rz, r, cs, rs = test_config(np.array([[1., sxy], [sxy, 1.]]))\n",
    "#        source1_circ['seed'].append(s)\n",
    "#        source1_circ['rhoz'].append(rz)\n",
    "#        source1_circ['rho'].append(r)\n",
    "#        source1_circ['cmplx_score'].append(cs)\n",
    "#        source1_circ['real_score'].append(rs)\n",
    "\n",
    "#with open('notebook_results/source1_circ.pkl', 'wb') as f:\n",
    "#    pickle.dump(source1_circ, f)"
   ]
  },
  {
   "cell_type": "code",
   "execution_count": 139,
   "id": "780912e2",
   "metadata": {},
   "outputs": [],
   "source": [
    "with open('notebook_results/source1_circ.pkl', 'rb') as f:\n",
    "    source1_circ = pickle.load(f)"
   ]
  },
  {
   "cell_type": "markdown",
   "id": "1608bf09",
   "metadata": {},
   "source": [
    "We plot now the relationship among the accuracies obtained for both model with respect to the modulus of the circularity coefficient $\\rho_z$ (in the end, remember that $|\\rho_z|=|\\rho|$)."
   ]
  },
  {
   "cell_type": "code",
   "execution_count": 148,
   "id": "f24d2089",
   "metadata": {},
   "outputs": [],
   "source": [
    "# Apparently seaborn is not compatible with this option, so we need to disable it\n",
    "mpl.rcParams['text.usetex'] = False"
   ]
  },
  {
   "cell_type": "code",
   "execution_count": 170,
   "id": "7ce63d03",
   "metadata": {},
   "outputs": [
    {
     "data": {
      "text/plain": [
       "Text(0, 0.5, 'Performance measure')"
      ]
     },
     "execution_count": 170,
     "metadata": {},
     "output_type": "execute_result"
    },
    {
     "data": {
      "image/png": "[encoded data removed]",
      "text/plain": [
       "<Figure size 576x360 with 1 Axes>"
      ]
     },
     "metadata": {
      "needs_background": "light"
     },
     "output_type": "display_data"
    }
   ],
   "source": [
    "source1_circ = pd.DataFrame(source1_circ)\n",
    "source1_circ['abs_rhoz'] = np.abs(source1_circ['rhoz'])\n",
    "\n",
    "fig, ax = plt.subplots(1, 1, figsize=(8,5))\n",
    "\n",
    "sns.scatterplot(x='abs_rhoz', y='cmplx_score', data=source1_circ, ax=ax)\n",
    "sns.scatterplot(x='abs_rhoz', y='real_score', data=source1_circ, ax=ax)\n",
    "\n",
    "ax.set_title(r'Classification accuracy vs circularity coefficient $(\\sigma_{xy}\\neq 0)$', fontsize=17)\n",
    "ax.set_xlabel(r'$|\\rho_z|$', fontsize=17)\n",
    "ax.set_ylabel('Performance measure', fontsize=17)"
   ]
  },
  {
   "cell_type": "markdown",
   "id": "9158aa39",
   "metadata": {},
   "source": [
    "I made some tests also with different initial values of $\\sigma$, but the general behavior is this: the real model is, at the beginning, slightly better but after a certain point underperform (also by a significative percentage) wrt the complex model."
   ]
  },
  {
   "cell_type": "markdown",
   "id": "ad15348a",
   "metadata": {},
   "source": [
    "### Second Source of non-circularity: $\\sigma_{x}\\neq\\sigma_y$"
   ]
  },
  {
   "cell_type": "markdown",
   "id": "24006a4b",
   "metadata": {},
   "source": [
    "Let's examine now the second main source of circularity in our datasets, i.e. a non-zero covariance. <br>\n",
    "This time we start fixing $\\sigma_{xy}=0$ and assuming, for simplicity, $\\sigma_x=1.$ (in the end it is the shape of the distribution that matters). We leave, instead, $\\sigma_y$ free to move in $(0.1, 3.)$. This time:\n",
    "$$\n",
    "\\rho_z = \\frac{\\sigma_x^2-\\sigma_y^2}{\\sigma_x^2+\\sigma_y^2} \\qquad \\rho=0\n",
    "$$"
   ]
  },
  {
   "cell_type": "code",
   "execution_count": null,
   "id": "efcb8db6",
   "metadata": {},
   "outputs": [],
   "source": [
    "#seeds = [2351, 521453, 23, 314, 451]\n",
    "#source2_circ = {'seed':[], 'rhoz': [], 'rho': [], 'cmplx_score': [], 'real_score': []}\n",
    "#sy_values = np.random.uniform(0., 3., 10)\n",
    "\n",
    "#for s in tqdm(seeds, leave=False, desc='Testing different seeds.'):\n",
    "#    np.random.seed(s)\n",
    "#    for sy in tqdm(sy_values, leave=False, desc='Testing several covariances.'):\n",
    "#        rz, r, cs, rs = test_config(np.array([[1., 0.], [0., sy]]))\n",
    "#        source2_circ['seed'].append(s)\n",
    "#        source2_circ['rhoz'].append(rz)\n",
    "#        source2_circ['rho'].append(r)\n",
    "#        source2_circ['cmplx_score'].append(cs)\n",
    "#        source2_circ['real_score'].append(rs)\n",
    "\n",
    "#with open('notebook_results/source2_circ.pkl', 'wb') as f:\n",
    "#    pickle.dump(source2_circ, f)"
   ]
  },
  {
   "cell_type": "code",
   "execution_count": 157,
   "id": "1a74043a",
   "metadata": {},
   "outputs": [],
   "source": [
    "with open('notebook_results/source2_circ.pkl', 'rb') as f:\n",
    "    source2_circ = pickle.load(f)"
   ]
  },
  {
   "cell_type": "code",
   "execution_count": 169,
   "id": "334d6de3",
   "metadata": {
    "scrolled": false
   },
   "outputs": [
    {
     "data": {
      "text/plain": [
       "Text(0, 0.5, 'Performance measure')"
      ]
     },
     "execution_count": 169,
     "metadata": {},
     "output_type": "execute_result"
    },
    {
     "data": {
      "image/png": "[encoded data removed]",
      "text/plain": [
       "<Figure size 576x360 with 1 Axes>"
      ]
     },
     "metadata": {
      "needs_background": "light"
     },
     "output_type": "display_data"
    }
   ],
   "source": [
    "source2_circ = pd.DataFrame(source2_circ)\n",
    "source2_circ['abs_rhoz'] = np.abs(source2_circ['rhoz'])\n",
    "\n",
    "fig, ax = plt.subplots(1, 1, figsize=(8,5))\n",
    "\n",
    "sns.scatterplot(x='abs_rhoz', y='cmplx_score', data=source2_circ, ax=ax)\n",
    "sns.scatterplot(x='abs_rhoz', y='real_score', data=source2_circ, ax=ax)\n",
    "\n",
    "ax.set_title(r'Classification accuracy vs circularity coefficient $(\\sigma_x\\neq\\sigma_y)$', fontsize=17)\n",
    "ax.set_xlabel(r'$|\\rho_z|$', fontsize=17)\n",
    "ax.set_ylabel('Performance measure', fontsize=17)"
   ]
  },
  {
   "cell_type": "code",
   "execution_count": 173,
   "id": "d12601f0",
   "metadata": {},
   "outputs": [
    {
     "data": {
      "image/png": "[encoded data removed]",
      "text/plain": [
       "<Figure size 1080x360 with 2 Axes>"
      ]
     },
     "metadata": {
      "needs_background": "light"
     },
     "output_type": "display_data"
    }
   ],
   "source": [
    "fig, ax = plt.subplots(1, 2, figsize=(15, 5))\n",
    "\n",
    "sns.scatterplot(x='abs_rhoz', y='cmplx_score', data=source1_circ, ax=ax[0])\n",
    "sns.scatterplot(x='abs_rhoz', y='real_score', data=source1_circ, ax=ax[0])\n",
    "\n",
    "sns.scatterplot(x='abs_rhoz', y='cmplx_score', data=source2_circ, ax=ax[1])\n",
    "sns.scatterplot(x='abs_rhoz', y='real_score', data=source2_circ, ax=ax[1])\n",
    "\n",
    "fig.suptitle('Classification accuracy for different sources of non-circularity', fontsize=17, y=1.05)\n",
    "ax[0].set_title(r'First source $(\\sigma_{xy}\\neq 0)$', fontsize=17)\n",
    "ax[0].set_xlabel(r'$|\\rho_z|$', fontsize=17)\n",
    "ax[0].set_ylabel('Performance measure', fontsize=17)\n",
    "\n",
    "ax[1].set_title(r'Second source $(\\sigma_x\\neq\\sigma_y)$', fontsize=17)\n",
    "ax[1].yaxis.set_label_position(\"right\")\n",
    "ax[1].yaxis.tick_right()\n",
    "ax[1].set_xlabel(r'$|\\rho_z|$', fontsize=17)\n",
    "ax[1].set_ylabel('Performance measure', fontsize=17);"
   ]
  },
  {
   "cell_type": "code",
   "execution_count": null,
   "id": "60930480",
   "metadata": {},
   "outputs": [],
   "source": [
    "#fig.savefig(\"noncirc_results.pdf\", bbox_inches='tight')"
   ]
  },
  {
   "cell_type": "markdown",
   "id": "a0f4b1ba",
   "metadata": {},
   "source": [
    "The behavior of the accuracies is again quite clear and regular, but this time we see the real model performing better than its complex-valued counterpart; however, this advantage is relatively small, and seems to completely vanish as $|\\rho_z|$ approaches 1."
   ]
  },
  {
   "cell_type": "markdown",
   "id": "ded530ed",
   "metadata": {},
   "source": [
    "A possible justification to this behavior stands on the fact that the real and imaginary part of the data are statistically not correlated, since $\\rho=0$. We believe, in fact, that the two independent channels of the real model are probably more adapt to learn such internal structure with respect to the complex-valued architecture, whose parameters still preserve some local correlations, even after the training loop."
   ]
  },
  {
   "cell_type": "markdown",
   "id": "3d24c479",
   "metadata": {},
   "source": [
    "### Complex vs Real networks vs the circularity coefficient $\\rho_z$"
   ]
  },
  {
   "cell_type": "markdown",
   "id": "47d9fa00",
   "metadata": {},
   "source": [
    "We have found some interesting behaviors in the previous sections: there are some situations in which complex networks dominate and some other in which real-valued models perform better. But, is there any general law, or rule, that we can find, in order to understand which characteristics should our data have in order to guarantee nice performances of complex models? "
   ]
  },
  {
   "cell_type": "markdown",
   "id": "3940803f",
   "metadata": {},
   "source": [
    "Let's proceed in the same way as before, fixing a distribution $A$ that is perfectly circular, again with the identity as covariance matrix, and let's try to classify its samples with the ones coming from a second distribution $B$ in which we add some non-circularity from both sources. "
   ]
  },
  {
   "cell_type": "markdown",
   "id": "d92386cb",
   "metadata": {},
   "source": [
    "Let's again, for the second distribution, fix $\\sigma_x=1$ and let free the other two degrees of freedom $\\sigma_y$ and $\\sigma_{xy}$. Let's vary those parameter in order to space all the possible values that $\\rho_z\\in C$ can assume, i.e. all the points in the unitary complex circle."
   ]
  },
  {
   "cell_type": "code",
   "execution_count": null,
   "id": "db5bb694",
   "metadata": {},
   "outputs": [],
   "source": [
    "#final_source_circ = {'rhoz': [], 'rho': [], 'cmplx_score': [], 'real_score': []}\n",
    "\n",
    "#with tqdm(total=30*2) as pbar:\n",
    "#    for sy in np.random.normal(0., 2., 30):\n",
    "#        for sxy in np.random.uniform(-sy, sy, 2):\n",
    "#            # Check if the covariance matrix generated is positive-defined\n",
    "#            rnd_covmat = np.array([[1., sxy],[sxy, sy**2]])\n",
    "#            pbar.update(1)\n",
    "#            try:\n",
    "#                np.linalg.cholesky(rnd_covmat)\n",
    "#            except:\n",
    "#                continue\n",
    "#            \n",
    "#            rz, r, cs, rs = test_config( rnd_covmat )\n",
    "#            final_source_circ['rhoz'].append(rz)\n",
    "#            final_source_circ['rho'].append(r)\n",
    "#            final_source_circ['cmplx_score'].append(cs)\n",
    "#            final_source_circ['real_score'].append(rs)"
   ]
  },
  {
   "cell_type": "code",
   "execution_count": 91,
   "id": "76634f78",
   "metadata": {},
   "outputs": [],
   "source": [
    "#final_source_circ = pd.DataFrame(final_source_circ)\n",
    "#final_source_circ['rhoz_x'] = final_source_circ['rhoz'].apply(lambda x: x.real)\n",
    "#final_source_circ['rhoz_y'] = final_source_circ['rhoz'].apply(lambda x: x.imag)"
   ]
  },
  {
   "cell_type": "code",
   "execution_count": 95,
   "id": "0db46e81",
   "metadata": {},
   "outputs": [],
   "source": [
    "#with open('notebook_results/acc_vs_rhoz.pkl', 'wb') as f:\n",
    "#    pickle.dump(final_source_circ, f)"
   ]
  },
  {
   "cell_type": "code",
   "execution_count": 98,
   "id": "42dc3701",
   "metadata": {},
   "outputs": [],
   "source": [
    "with open('notebook_results/acc_vs_rhoz.pkl', 'rb') as f:\n",
    "    final_source_circ = pickle.load(f)"
   ]
  },
  {
   "cell_type": "code",
   "execution_count": 99,
   "id": "b18a6251",
   "metadata": {},
   "outputs": [
    {
     "data": {
      "text/plain": [
       "(-1.05, 1.05)"
      ]
     },
     "execution_count": 99,
     "metadata": {},
     "output_type": "execute_result"
    },
    {
     "data": {
      "image/png": "[encoded data removed]",
      "text/plain": [
       "<Figure size 1440x360 with 6 Axes>"
      ]
     },
     "metadata": {
      "needs_background": "light"
     },
     "output_type": "display_data"
    }
   ],
   "source": [
    "import matplotlib.tri as tri\n",
    "\n",
    "fig, axs = plt.subplots(1, 3, figsize=(20,5))\n",
    "\n",
    "# Create grid values first.\n",
    "x = final_source_circ['rhoz_x']\n",
    "y = final_source_circ['rhoz_y']\n",
    "xi = np.linspace(-1., 1., 50)\n",
    "yi = np.linspace(-1., 1., 50)\n",
    "\n",
    "# Linearly interpolate the data (x, y) on a grid defined by (xi, yi).\n",
    "triang = tri.Triangulation(x, y)\n",
    "interpolator_c = tri.LinearTriInterpolator(triang, final_source_circ['cmplx_score'])\n",
    "interpolator_r = tri.LinearTriInterpolator(triang, final_source_circ['real_score'])\n",
    "interpolator_cr = tri.LinearTriInterpolator(triang, final_source_circ['cmplx_score']-final_source_circ['real_score'])\n",
    "\n",
    "Xi, Yi = np.meshgrid(xi, yi)\n",
    "zi_c = interpolator_c(Xi, Yi)\n",
    "zi_r = interpolator_r(Xi, Yi)\n",
    "zi_cr = interpolator_cr(Xi, Yi)\n",
    "\n",
    "axs[0].contour(xi, yi, zi_c, levels=14, linewidths=0.5, colors='k')\n",
    "cntr1 = axs[0].contourf(xi, yi, zi_c, levels=14, cmap=\"RdBu_r\")\n",
    "plt.colorbar(cntr1, ax=axs[0])\n",
    "axs[0].plot(x, y, 'ko', ms=3)\n",
    "\n",
    "\n",
    "axs[1].contour(xi, yi, zi_r, levels=14, linewidths=0.5, colors='k')\n",
    "cntr2 = axs[1].contourf(xi, yi, zi_r, levels=14, cmap=\"RdBu_r\")\n",
    "plt.colorbar(cntr2, ax=axs[1])\n",
    "\n",
    "axs[1].plot(x, y, 'ko', ms=3)\n",
    "\n",
    "axs[2].contour(xi, yi, zi_cr, levels=14, linewidths=0.5, colors='k')\n",
    "cntr3 = axs[2].contourf(xi, yi, zi_cr, levels=14, cmap=\"RdBu_r\")\n",
    "plt.colorbar(cntr3, ax=axs[2])\n",
    "\n",
    "axs[2].plot(x, y, 'ko', ms=3)\n",
    "\n",
    "\n",
    "# Add the definition domain of rho_z, i.e. the unitary circle\n",
    "unit_circle = plt.Circle((0., 0.), radius=1., edgecolor='b', facecolor='None')\n",
    "axs[0].add_patch(unit_circle)\n",
    "unit_circle = plt.Circle((0., 0.), radius=1., edgecolor='b', facecolor='None')\n",
    "axs[1].add_patch(unit_circle)\n",
    "unit_circle = plt.Circle((0., 0.), radius=1., edgecolor='b', facecolor='None')\n",
    "axs[2].add_patch(unit_circle)\n",
    "\n",
    "axs[0].set_xlabel(r'$\\Re(\\rho_z)$', fontsize=20)\n",
    "axs[0].set_ylabel(r'$\\Im(\\rho_z)$', fontsize=20)\n",
    "axs[0].set_title('Accuracy of the Complex-Valued NN', fontsize=15)\n",
    "axs[0].set_xlim(-1.05, 1.05)\n",
    "axs[0].set_ylim(-1.05, 1.05)\n",
    "\n",
    "axs[1].set_xlabel(r'$\\Re(\\rho_z)$', fontsize=20)\n",
    "axs[1].set_ylabel(r'$\\Im(\\rho_z)$', fontsize=20)\n",
    "axs[1].set_title('Accuracy of the Real-Valued NN', fontsize=15)\n",
    "axs[1].set_xlim(-1.05, 1.05)\n",
    "axs[1].set_ylim(-1.05, 1.05)"
   ]
  },
  {
   "cell_type": "code",
   "execution_count": null,
   "id": "a26515f7",
   "metadata": {},
   "outputs": [],
   "source": []
  }
 ],
 "metadata": {
  "kernelspec": {
   "display_name": "Python 3 (ipykernel)",
   "language": "python",
   "name": "python3"
  },
  "language_info": {
   "codemirror_mode": {
    "name": "ipython",
    "version": 3
   },
   "file_extension": ".py",
   "mimetype": "text/x-python",
   "name": "python",
   "nbconvert_exporter": "python",
   "pygments_lexer": "ipython3",
   "version": "3.9.7"
  }
 },
 "nbformat": 4,
 "nbformat_minor": 5
}
