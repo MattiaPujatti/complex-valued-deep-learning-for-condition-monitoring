{
 "cells": [
  {
   "cell_type": "markdown",
   "id": "5e412240",
   "metadata": {},
   "source": [
    "# Circularity Measures"
   ]
  },
  {
   "cell_type": "code",
   "execution_count": 1,
   "id": "a31002e1",
   "metadata": {},
   "outputs": [],
   "source": [
    "import numpy as np\n",
    "import pandas as pd\n",
    "import seaborn as sns\n",
    "import matplotlib.pyplot as plt\n",
    "from torch.utils.data import Dataset, DataLoader\n",
    "from tqdm.notebook import tqdm\n",
    "import pickle\n",
    "import torch\n",
    "import jax\n",
    "import jax.numpy as jnp\n",
    "import haiku as hk\n",
    "from torch.utils.data import Dataset, DataLoader\n",
    "sns.set_theme()\n",
    "%matplotlib inline"
   ]
  },
  {
   "cell_type": "code",
   "execution_count": 2,
   "id": "25098dd9",
   "metadata": {},
   "outputs": [],
   "source": [
    "# Enable double precision data with JAX\n",
    "# this only works on startup!\n",
    "from jax.config import config\n",
    "config.update(\"jax_enable_x64\", True)"
   ]
  },
  {
   "cell_type": "code",
   "execution_count": 3,
   "id": "6d2ed90c",
   "metadata": {},
   "outputs": [
    {
     "name": "stderr",
     "output_type": "stream",
     "text": [
      "WARNING:absl:No GPU/TPU found, falling back to CPU. (Set TF_CPP_MIN_LOG_LEVEL=0 and rerun for more info.)\n"
     ]
    }
   ],
   "source": [
    "from complex_nn.layers import Cmplx_Linear, Dropout\n",
    "from complex_nn.activations import cardioid\n",
    "from complex_nn.optimizers import cmplx_adam\n",
    "from complex_nn.Classifier_wrapper import Haiku_Classifier\n",
    "from complex_nn.utils import small_training_summary"
   ]
  },
  {
   "cell_type": "markdown",
   "id": "ed296881",
   "metadata": {},
   "source": [
    "## Circularity in complex analysis"
   ]
  },
  {
   "cell_type": "markdown",
   "id": "adf0d5e3",
   "metadata": {},
   "source": [
    "An important characteristic of a complex random variable is the so-called `circularity` property, or\n",
    "lack of it."
   ]
  },
  {
   "cell_type": "markdown",
   "id": "d63f03a6",
   "metadata": {},
   "source": [
    "Circular random variables have, in fact, vanishing pseudo-variance, index that its real and imaginary parts are statistically uncorrelated. Under this perspective, a [recent work](https://arxiv.org/abs/2009.08340v2) have shown\n",
    "that the circularity property of a dataset can significantly impact on the different performances, obtained using a complex-valued model with respect to its real counterpart. At least in principle, in fact, complex-valued networks seems to benefit more of dataset presenting inherent correlations. <br>\n",
    "Let us denote the vector $u=[X,Y]^T$ as the real vector built by stacking the real and imaginary parts of a complex random variable $Z = X + iY$. The probability density function of $Z$ can be identified with the pdf of $u$. The variance of $Z$ is defined by:\n",
    "\n",
    "$$\n",
    "\\sigma^2_Z = E[|Z - E[Z]|^2] = E[|Z|^2] - |E[Z]|^2 = \\sigma_X^2 + \\sigma_Y^2\n",
    "$$\n",
    "\n",
    "where $\\sigma^2_X$ and $\\sigma^2_Y$ are respectively the variances of $X$ and $Y$."
   ]
  },
  {
   "cell_type": "markdown",
   "id": "058cca25",
   "metadata": {},
   "source": [
    "Also, we denote the $2x2$ real covariance matrix of $u$ by:\n",
    "\n",
    "$$\n",
    "\\Sigma\\triangleq E\\left[\\left(\\begin{matrix} x\\\\ y\\end{matrix}\\right)\\left(\\begin{matrix} x & y\\end{matrix}\\right)\\right] = \\left(\\begin{matrix}\\sigma_x^2 & \\sigma_{xy}\\\\ \\sigma_{xy} & \\sigma_y^2  \\end{matrix}\\right)\n",
    "$$"
   ]
  },
  {
   "cell_type": "markdown",
   "id": "62cb5a83",
   "metadata": {},
   "source": [
    "However, these parameters does not bring any information about the `covariance` of $Z$:\n",
    "\n",
    "$$\n",
    "\\sigma_{XY} \\triangleq E[\\left(X-E[X]\\right)\\left(Y-E[Y]\\right)]\n",
    "$$\n",
    "\n",
    "for which we need to rely on another statistical quantity defined for complex random variables, i.e. the `pseudo-variance`:\n",
    "\n",
    "$$\n",
    "\\tau_Z\\triangleq E[\\left(Z-E[Z]\\right)^2] = \\sigma^2_{X} - \\sigma^2_Y + 2i\\sigma_{XY}\n",
    "$$"
   ]
  },
  {
   "cell_type": "markdown",
   "id": "fed2dc51",
   "metadata": {},
   "source": [
    "Unlike the variance of $Z$, which is always real and positive, the pseudo-variance is in general complex. <br>\n",
    "We define the `circular quotient` $\\rho_Z$ as:\n",
    "\n",
    "$$\n",
    "\\rho_Z = \\frac{\\tau_Z}{\\sigma^2_Z}\n",
    "$$\n",
    "\n",
    "Additionally, we can define also a `correlation coefficient` among real and imaginary parts of $Z$:\n",
    "\n",
    "$$\n",
    "\\rho = \\frac{\\sigma_{XY}}{\\sigma_X\\sigma_Y} \n",
    "$$"
   ]
  },
  {
   "cell_type": "markdown",
   "id": "8b261356",
   "metadata": {},
   "source": [
    "In some papers, the circular quotient is defined as a covariance measure between $Z$ and $\\bar{Z}$, so among a random variable and its complex conjugate, rather than considering real and imaginary parts. We believe that those formulations in the end are equivalent from a practical point of view and so they can be used interchangeably. <br>\n",
    "Another interesting fact is that $\\rho_Z$ possess an intuitive geometrical interpretation since the modulus and phase of its principal square-root are equal to the eccentricity and angle of orientation of the ellipse defined by the covariance matrix of the real and imaginary parts of $Z$."
   ]
  },
  {
   "cell_type": "markdown",
   "id": "9f6731ed",
   "metadata": {},
   "source": [
    "## Classification of circular features"
   ]
  },
  {
   "cell_type": "markdown",
   "id": "83d4c499",
   "metadata": {},
   "source": [
    "The idea behind this analysis is to understand how much complex-valued models can effectively benefit of data with good circularity properties. For this reason we will generate two distinct complex datasets, one with high correlations among real and imaginary components, and one with poor correlations."
   ]
  },
  {
   "cell_type": "markdown",
   "id": "85cb463b",
   "metadata": {},
   "source": [
    "An easy way to generate data with determined circularity is to rely on the `complex normal distribution`, that characterizes complex random variables whose real and imaginary parts are jointly normal. Differently from its real-valued counterpart, such distribution depends on three parameters:\n",
    "* the _location_ $\\mu$;\n",
    "* the _covariance matrix_ $\\Gamma$;\n",
    "* the _location matrix_ $C$.\n",
    "\n",
    "The `standard complex normal` is the univariate distribution with $\\mu=0$, $\\Gamma=1$ and $C=0$."
   ]
  },
  {
   "cell_type": "markdown",
   "id": "feec80ad",
   "metadata": {},
   "source": [
    "A complex random vector $Z$ is called circularly symmetric if for every $\\varphi\\in[-\\pi,\\pi)$ the distribution of $e^{i\\varphi}Z$ is the same of the distribution of $Z$. The PDF then satisfies $f(z)=cg(|z|^2)$ for some non-negative function $g$ and normalizing constant $c$. Hence, the regions of constant contours are circles in the complex plane. Central normal complex random vectors that are circularly symmetric are of particular interest because they are fully specified by the covariance matrix $\\Gamma$."
   ]
  },
  {
   "cell_type": "markdown",
   "id": "d73ae9d7",
   "metadata": {},
   "source": [
    "We can generate circular random complex data simply exploiting the `multivariate_random_normal` distribution, supported by numpy. We just need to generate 2-dimensional data, for the real and imaginary part respectively. Tuning the corresponding covariance matrix we can then regulate the two main sources of circularity:\n",
    "* $\\sigma_x \\neq \\sigma_y$\n",
    "* $\\sigma_{xy} \\neq 0$"
   ]
  },
  {
   "cell_type": "markdown",
   "id": "f573a236",
   "metadata": {},
   "source": [
    "If a random variable $z=x+iy$ has zero-mean, it is circular complex normal if $\\sim N_2(0,\\sigma^2)$, i.e. $x$ and $y$ are iid real variables with variance $\\sigma^2$. Thus, $\\sigma_z^2=2\\sigma^2$ and the pdf becomes:\n",
    "$$\n",
    "f(x,y|\\sigma^2) = f(z|\\sigma_z^2) = \\frac{1}{\\pi\\sigma^2}exp({-|z|^2 /\\sigma_z^2})\n",
    "$$"
   ]
  },
  {
   "cell_type": "code",
   "execution_count": null,
   "id": "4bea3b03",
   "metadata": {},
   "outputs": [],
   "source": [
    "def testfun(z, sigma=1.):\n",
    "    return 1/(np.pi*sigma**2)*np.exp(-np.abs(z)**2/sigma**2)"
   ]
  },
  {
   "cell_type": "code",
   "execution_count": null,
   "id": "11481870",
   "metadata": {},
   "outputs": [],
   "source": [
    "import cplot\n",
    "fig = plt.figure(figsize=(10,8))\n",
    "ax = fig.add_subplot(1,1,1)\n",
    "\n",
    "cplot.plot(testfun, (-3., 3., 100), (-3., 3., 100))\n",
    "ax.set_xlabel(r'$\\Re(z)$', fontsize=20)\n",
    "ax.set_ylabel(r'$\\Im(z)$', fontsize=20)\n",
    "ax.set_title('Standard Complex Normal Distribution', fontsize=22)"
   ]
  },
  {
   "cell_type": "code",
   "execution_count": 4,
   "id": "a607c8d9",
   "metadata": {},
   "outputs": [],
   "source": [
    "def generate_cmplx_distribution(cov_mat, shape):\n",
    "    \"\"\"Generate an array of complex-valued random numbers distributed according to a zero-centered\n",
    "    multivariate normal distribution, given in input the corresponding covariance matrix.\"\"\"    \n",
    "    return np.random.multivariate_normal(np.zeros(2), cov_mat, size=shape).view(np.complex128).squeeze()"
   ]
  },
  {
   "cell_type": "markdown",
   "id": "bd16e984",
   "metadata": {},
   "source": [
    "Before going on, let's define a function that compute the empirical circularity and correlations coefficients. First it quantify how much our data are effectively correlated; second, it acts as a control instruction to check the correctnees of the sample generated."
   ]
  },
  {
   "cell_type": "code",
   "execution_count": 5,
   "id": "eb505b4e",
   "metadata": {},
   "outputs": [],
   "source": [
    "def get_circularity_coeff(dataset, verbose=False):\n",
    "    \n",
    "    cov_mat = 0.\n",
    "    \n",
    "    # Compute the covariance matrix among real and imaginary parts\n",
    "    # of the whole dataset\n",
    "    \n",
    "    for i in tqdm(range(len(dataset)), leave=False):\n",
    "        cov_mat += np.cov(dataset[i][0].real.flatten(), dataset[i][0].imag.flatten()) \n",
    "        \n",
    "    # The covariance matrix will have the following structure:  [[Sx**2, Sxy], [Sxy, Sy**2]]\n",
    "    cov_mat = cov_mat / len(dataset)\n",
    "\n",
    "    # Compute the variance of Z:   Sz**2 = E[ |Z - E[Z]|**2 ] = Sx**2 + Sy**2\n",
    "    Sx2 = cov_mat[0,0]\n",
    "    Sy2 = cov_mat[1,1]\n",
    "    Sz2 = cov_mat.trace() \n",
    "    \n",
    "    # Get the covariance:   Sxy = E[(X-E[X])(Y-E[Y])]\n",
    "    Sxy = cov_mat[0,1]\n",
    "    \n",
    "    # Compute the pseudo-variance:   Tz = E[ (Z-E[Z])**2 ] = Sx**2 - Sy**2 + 2iSxy\n",
    "    Tz = Sx2 - Sy2 + 2.j*Sxy\n",
    "    \n",
    "    # Compute the circularity quotient:  rhoZ = Tz / Sz**2\n",
    "    rhoZ = Tz / Sz2\n",
    "    \n",
    "    # Compute the correlation coefficient:  rho = Sxy / SxSy\n",
    "    rho = Sxy / (np.sqrt(Sx2)*np.sqrt(Sy2))\n",
    "    \n",
    "    if verbose:\n",
    "        return cov_mat, Sz2, Tz, rhoZ, rho\n",
    "    else:\n",
    "        return rhoZ, rho"
   ]
  },
  {
   "cell_type": "markdown",
   "id": "3284c5a5",
   "metadata": {},
   "source": [
    "Define also a Pytorch Dataset object to store such data and allow the training."
   ]
  },
  {
   "cell_type": "code",
   "execution_count": 6,
   "id": "4383f51b",
   "metadata": {},
   "outputs": [],
   "source": [
    "class NpyDataset(Dataset):\n",
    "    \n",
    "    def __init__(self, data, label):\n",
    "        \n",
    "        self.x = data\n",
    "        self.y = np.full(len(data), label)\n",
    "        \n",
    "    def __len__(self):\n",
    "        return len(self.x)\n",
    "    \n",
    "    def __getitem__(self, idx):\n",
    "        x = torch.tensor(self.x[idx].flatten())\n",
    "        one_hot_y = torch.tensor(np.eye(2)[self.y[idx]])\n",
    "        \n",
    "        return (x, one_hot_y)"
   ]
  },
  {
   "cell_type": "markdown",
   "id": "9825d7fe",
   "metadata": {},
   "source": [
    "Let's start generating two simple __circular__ distributions. <br>\n",
    "Conditions: $\\sigma_x = \\sigma_y$ and $\\sigma_{xy}=0$."
   ]
  },
  {
   "cell_type": "code",
   "execution_count": 7,
   "id": "119a5b07",
   "metadata": {
    "scrolled": true
   },
   "outputs": [
    {
     "data": {
      "application/vnd.jupyter.widget-view+json": {
       "model_id": "",
       "version_major": 2,
       "version_minor": 0
      },
      "text/plain": [
       "  0%|          | 0/5000 [00:00<?, ?it/s]"
      ]
     },
     "metadata": {},
     "output_type": "display_data"
    },
    {
     "name": "stdout",
     "output_type": "stream",
     "text": [
      "Circularity coefficient: 0.0011-0.0008j\n",
      "Correlation coefficient: -0.0008\n"
     ]
    },
    {
     "data": {
      "application/vnd.jupyter.widget-view+json": {
       "model_id": "",
       "version_major": 2,
       "version_minor": 0
      },
      "text/plain": [
       "  0%|          | 0/5000 [00:00<?, ?it/s]"
      ]
     },
     "metadata": {},
     "output_type": "display_data"
    },
    {
     "name": "stdout",
     "output_type": "stream",
     "text": [
      "Circularity coefficient: 0.0011+0.0016j\n",
      "Correlation coefficient: 0.0016\n"
     ]
    }
   ],
   "source": [
    "circ1 = NpyDataset(generate_cmplx_distribution(cov_mat=np.array([[1.0, 0.],[0., 1.0]]), shape=(5000,128)), label=0)\n",
    "circ1_rhoz, circ1_rho = get_circularity_coeff(circ1)\n",
    "print('Circularity coefficient: {:.4f}'.format(circ1_rhoz))\n",
    "print('Correlation coefficient: {:.4f}'.format(circ1_rho))\n",
    "\n",
    "circ2 = NpyDataset(generate_cmplx_distribution(cov_mat=np.array([[3.0, 0.],[0., 3.0]]), shape=(5000,128)), label=1)\n",
    "circ2_rhoz, circ2_rho = get_circularity_coeff(circ2)\n",
    "print('Circularity coefficient: {:.4f}'.format(circ2_rhoz))\n",
    "print('Correlation coefficient: {:.4f}'.format(circ2_rho))"
   ]
  },
  {
   "cell_type": "markdown",
   "id": "40765cf7",
   "metadata": {},
   "source": [
    "More specifically, we will try to distinguish a perfectly circular standard normal distribution, with the identity as covariance matrix, from another one, with different parameters."
   ]
  },
  {
   "cell_type": "markdown",
   "id": "d4bdfcb7",
   "metadata": {},
   "source": [
    "Plot an example of such samples."
   ]
  },
  {
   "cell_type": "code",
   "execution_count": 8,
   "id": "b4f92184",
   "metadata": {},
   "outputs": [
    {
     "data": {
      "image/png": "[encoded data removed]",
      "text/plain": [
       "<Figure size 576x360 with 1 Axes>"
      ]
     },
     "metadata": {
      "needs_background": "light"
     },
     "output_type": "display_data"
    }
   ],
   "source": [
    "sample1 = generate_cmplx_distribution(cov_mat=np.array([[1.0, 0.],[0., 1.0]]), shape=(1000,))\n",
    "sample2 = generate_cmplx_distribution(cov_mat=np.array([[3.0, 0.],[0., 3.0]]), shape=(1000,))\n",
    "\n",
    "fig, ax = plt.subplots(1,1,figsize=(8,5))\n",
    "sns.scatterplot(x=sample1.real, y=sample1.imag, ax=ax, label=r'$\\sigma = 1.$')\n",
    "sns.scatterplot(x=sample2.real, y=sample2.imag, ax=ax, label=r'$\\sigma = 3.$')\n",
    "\n",
    "ax.set_title(r'Circular complex distributions $(\\sigma_{xy}=0)$', fontsize=20)\n",
    "ax.set_xlabel(r'$\\Re(z)$', fontsize=18)\n",
    "ax.set_ylabel(r'$\\Im(z)$', fontsize=18)\n",
    "ax.legend(title='Variances:', fontsize=13);"
   ]
  },
  {
   "cell_type": "markdown",
   "id": "f7a4a5ec",
   "metadata": {},
   "source": [
    "To summarize: we have generated, for each distribution, 5000 samples, each of them constituted by 128 complex values normally distributed according to some pre-determined parameters. Now its time to reorganize them for the training process."
   ]
  },
  {
   "cell_type": "markdown",
   "id": "aed8e9f9",
   "metadata": {},
   "source": [
    "_It is important to note that the distinction between the classes is entirely contained in the relationship between the real and imaginary parts. This means that removing, for example, the imaginary part of the dataset will result in both classes being statistically identical, and therefore, making the classification impossible._"
   ]
  },
  {
   "cell_type": "code",
   "execution_count": 9,
   "id": "2268c3ef",
   "metadata": {},
   "outputs": [],
   "source": [
    "full_ds = torch.utils.data.ConcatDataset([circ1, circ2])\n",
    "train_ds, test_ds = torch.utils.data.random_split(full_ds, [8000, 2000])\n",
    "train_dl = DataLoader(train_ds, batch_size=320, shuffle=True)\n",
    "test_dl = DataLoader(test_ds, batch_size=320, shuffle=False)"
   ]
  },
  {
   "cell_type": "markdown",
   "id": "3460cc31",
   "metadata": {},
   "source": [
    "It's time to train our network. Let's first define a complex-valued model."
   ]
  },
  {
   "cell_type": "code",
   "execution_count": 10,
   "id": "3764c0f4",
   "metadata": {},
   "outputs": [],
   "source": [
    "class CVNN(hk.Module):\n",
    "\n",
    "    def __init__(self):\n",
    "\n",
    "        super().__init__()\n",
    "        self.fc1 = Cmplx_Linear(64)\n",
    "        self.fc2 = Cmplx_Linear(16)\n",
    "        self.fc3 = Cmplx_Linear(2)\n",
    "\n",
    "        self.dropout = Dropout(0.2)\n",
    "        self.act = cardioid\n",
    "\n",
    "    def __call__(self, z, is_training):\n",
    "        \n",
    "        z = self.act(self.fc1(z))\n",
    "        z = self.dropout(z, is_training)\n",
    "        z = self.act(self.fc2(z))\n",
    "        z = self.fc3(z)\n",
    "        \n",
    "        return z"
   ]
  },
  {
   "cell_type": "code",
   "execution_count": null,
   "id": "1a2b08a0",
   "metadata": {},
   "outputs": [],
   "source": [
    "complex_hc = Haiku_Classifier()\n",
    "_ = complex_hc.train(n_epochs = 50,\n",
    "                     model = CVNN, \n",
    "                     optimizer = cmplx_adam(step_size=1e-2),\n",
    "                     train_dataloader = train_dl,\n",
    "                     test_dataloader = test_dl,\n",
    "                     verbose = False)"
   ]
  },
  {
   "cell_type": "markdown",
   "id": "524fef0c",
   "metadata": {},
   "source": [
    "We want to compare the performances of an equivalent real-valued network with two independent channels."
   ]
  },
  {
   "cell_type": "code",
   "execution_count": 11,
   "id": "65f2a204",
   "metadata": {},
   "outputs": [],
   "source": [
    "class NN2CH(hk.Module):\n",
    "\n",
    "    def __init__(self):\n",
    "\n",
    "        super().__init__()\n",
    "        self.real_fc1 = hk.Linear(64)\n",
    "        self.real_fc2 = hk.Linear(16)\n",
    "        \n",
    "        self.imag_fc1 = hk.Linear(64)\n",
    "        self.imag_fc2 = hk.Linear(16)\n",
    "        \n",
    "        self.out = hk.Linear(2)\n",
    "        \n",
    "        self.dropout = Dropout(0.2)\n",
    "        self.act = jax.nn.relu\n",
    "\n",
    "    def __call__(self, z, is_training):\n",
    "        \n",
    "        x = z.real\n",
    "        y = z.imag\n",
    "\n",
    "        x = self.act(self.real_fc1(x))\n",
    "        x = self.dropout(x, is_training)\n",
    "        x = self.act(self.real_fc2(x))\n",
    "        \n",
    "        y = self.act(self.imag_fc1(y))\n",
    "        y = self.dropout(y, is_training)\n",
    "        y = self.act(self.imag_fc2(y))\n",
    "        \n",
    "        xy = jnp.concatenate([x,y], axis=-1)\n",
    "        out = self.out(xy)\n",
    "\n",
    "        return out"
   ]
  },
  {
   "cell_type": "code",
   "execution_count": null,
   "id": "bcbc9d65",
   "metadata": {},
   "outputs": [],
   "source": [
    "real2ch = Haiku_Classifier()\n",
    "_ = real2ch.train(n_epochs = 50,\n",
    "                  model = NN2CH, \n",
    "                  optimizer = jax.experimental.optimizers.adam(step_size=1e-2),\n",
    "                  train_dataloader = train_dl,\n",
    "                  test_dataloader = test_dl,\n",
    "                  verbose = False)"
   ]
  },
  {
   "cell_type": "markdown",
   "id": "58048c6c",
   "metadata": {},
   "source": [
    "Let's examine the final results:"
   ]
  },
  {
   "cell_type": "code",
   "execution_count": null,
   "id": "0030fe59",
   "metadata": {},
   "outputs": [],
   "source": [
    "circular_train = pd.concat([pd.DataFrame(complex_hc.training_history), pd.DataFrame(real2ch.training_history)])\n",
    "circular_train.reset_index(inplace=True)\n",
    "circular_train['label'] = ['cmplx'] * 50 + ['real_2ch'] * 50\n",
    "\n",
    "fig, ax = plt.subplots(1, 2, figsize=(12,5))\n",
    "\n",
    "sns.lineplot(x='index', y='train_loss', hue='label', data=circular_train, ax=ax[0])\n",
    "sns.lineplot(x='index', y='val_loss', hue='label', data=circular_train, ax=ax[0])\n",
    "\n",
    "sns.lineplot(x='index', y='train_acc', hue='label', data=circular_train, ax=ax[1])\n",
    "sns.lineplot(x='index', y='val_acc', hue='label', data=circular_train, ax=ax[1])"
   ]
  },
  {
   "cell_type": "markdown",
   "id": "1273efe1",
   "metadata": {},
   "source": [
    "As we can see, on such a simple problem, both models manage to converge, in the end, reaching very high accuracies on the test set $(>95\\%)$. However, the complex-valued models seems to perform just a bit worse, looking at both the loss and accuracy behaviors across the epochs. In the end the difference among the models is quite negligible, but we will still take into account about it."
   ]
  },
  {
   "cell_type": "markdown",
   "id": "ae65e691",
   "metadata": {},
   "source": [
    "The next step is to check what happens is, instead, we try to distinguish a non-circular complex-valued distributions."
   ]
  },
  {
   "cell_type": "code",
   "execution_count": null,
   "id": "a628a7fb",
   "metadata": {},
   "outputs": [],
   "source": [
    "noncirc_covmat_1 = np.array([[1., 0.],[0., 1.]])\n",
    "noncirc_covmat_2 = np.array([[1., 0.75],[0.75, 1.]])"
   ]
  },
  {
   "cell_type": "code",
   "execution_count": null,
   "id": "cef94a33",
   "metadata": {},
   "outputs": [],
   "source": [
    "noncirc1 = NpyDataset(generate_cmplx_distribution(cov_mat=noncirc_covmat_1, shape=(5000,128)), label=0)\n",
    "noncirc1_rhoz, noncirc1_rho = get_circularity_coeff(noncirc1)\n",
    "print('Circularity coefficient: {:.4f}'.format(noncirc1_rhoz))\n",
    "print('Correlation coefficient: {:.4f}'.format(noncirc1_rho))\n",
    "\n",
    "noncirc2 = NpyDataset(generate_cmplx_distribution(cov_mat=noncirc_covmat_2, shape=(5000,128)), label=1)\n",
    "noncirc2_rhoz, noncirc2_rho = get_circularity_coeff(noncirc2)\n",
    "print('Circularity coefficient: {:.4f}'.format(noncirc2_rhoz))\n",
    "print('Correlation coefficient: {:.4f}'.format(noncirc2_rho))"
   ]
  },
  {
   "cell_type": "code",
   "execution_count": null,
   "id": "701c73cd",
   "metadata": {},
   "outputs": [],
   "source": [
    "sample1 = generate_cmplx_distribution(cov_mat=noncirc_covmat_1, shape=(1000,))\n",
    "sample2 = generate_cmplx_distribution(cov_mat=noncirc_covmat_2, shape=(1000,))\n",
    "\n",
    "fig, ax = plt.subplots(1,1,figsize=(8,5))\n",
    "sns.scatterplot(x=sample1.real, y=sample1.imag, ax=ax, label=r'$\\sigma_{xy} = 0.$')\n",
    "sns.scatterplot(x=sample2.real, y=sample2.imag, ax=ax, label=r'$\\sigma_{xy} = 0.75$')\n",
    "\n",
    "ax.set_title(r'Circular complex distributions $(\\sigma=1.)$', fontsize=20)\n",
    "ax.set_xlabel(r'$\\Re(z)$', fontsize=18)\n",
    "ax.set_ylabel(r'$\\Im(z)$', fontsize=18)\n",
    "ax.legend(title='Covariances:', fontsize=13);"
   ]
  },
  {
   "cell_type": "code",
   "execution_count": null,
   "id": "7a6e57fb",
   "metadata": {},
   "outputs": [],
   "source": [
    "full_ds = torch.utils.data.ConcatDataset([noncirc1, noncirc2])\n",
    "train_ds, test_ds = torch.utils.data.random_split(full_ds, [8000, 2000])\n",
    "train_dl = DataLoader(train_ds, batch_size=320, shuffle=True)\n",
    "test_dl = DataLoader(test_ds, batch_size=320, shuffle=False)"
   ]
  },
  {
   "cell_type": "code",
   "execution_count": null,
   "id": "c904188d",
   "metadata": {},
   "outputs": [],
   "source": [
    "complex_hc_noncirc = Haiku_Classifier()\n",
    "_ = complex_hc_noncirc.train(n_epochs = 50,\n",
    "                             model = CVNN, \n",
    "                             optimizer = cmplx_adam(step_size=1e-2),\n",
    "                             train_dataloader = train_dl,\n",
    "                             test_dataloader = test_dl,\n",
    "                             verbose = False)"
   ]
  },
  {
   "cell_type": "code",
   "execution_count": null,
   "id": "ee2ee563",
   "metadata": {},
   "outputs": [],
   "source": [
    "real2ch_noncirc = Haiku_Classifier()\n",
    "_ = real2ch_noncirc.train(n_epochs = 50,\n",
    "                          model = NN2CH, \n",
    "                          optimizer = jax.experimental.optimizers.adam(step_size=1e-2),\n",
    "                          train_dataloader = train_dl,\n",
    "                          test_dataloader = test_dl,\n",
    "                          verbose = False)"
   ]
  },
  {
   "cell_type": "code",
   "execution_count": null,
   "id": "b50dab56",
   "metadata": {},
   "outputs": [],
   "source": [
    "noncircular_train = pd.concat([pd.DataFrame(complex_hc_noncirc.training_history), pd.DataFrame(real2ch_noncirc.training_history)])\n",
    "noncircular_train.reset_index(inplace=True)\n",
    "noncircular_train['label'] = ['cmplx'] * 50 + ['real_2ch'] * 50\n",
    "\n",
    "fig, ax = plt.subplots(1, 2, figsize=(12,5))\n",
    "\n",
    "sns.lineplot(x='index', y='train_loss', hue='label', data=noncircular_train, ax=ax[0])\n",
    "sns.lineplot(x='index', y='val_loss', hue='label', data=noncircular_train, ax=ax[0])\n",
    "\n",
    "sns.lineplot(x='index', y='train_acc', hue='label', data=noncircular_train, ax=ax[1])\n",
    "sns.lineplot(x='index', y='val_acc', hue='label', data=noncircular_train, ax=ax[1])"
   ]
  },
  {
   "cell_type": "markdown",
   "id": "70c4bad7",
   "metadata": {},
   "source": [
    "This time the situation is completely different: the complex model manage to converge, while the real one barely overfits the training set, completely missing the correctness for the test set. <br>\n",
    "If we manage to quantify this behavior, we could trace down a line over which complex models effectively outperform their real counterparts."
   ]
  },
  {
   "cell_type": "markdown",
   "id": "61acf98f",
   "metadata": {},
   "source": [
    "## Real vs Complex Models at different Circularity levels"
   ]
  },
  {
   "cell_type": "markdown",
   "id": "c6daa5c8",
   "metadata": {},
   "source": [
    "Now we would like to make a quantitative analysis and understand when complex and real models perform better wrt to thei adversarials. We keep the previous task, fixing a distribution $A$ with label 0, made of data circularly distributed with the identity as covariance matrix. The distribuion $B$, instead, with label 1, will be gradually modified in order to stress the responses of the various networks and maybe find some regularity, some relation, with the degrees of circularity (or correlation) of the dataset. <br>\n",
    "Just for remark, the dataset $A$ has:\n",
    "$$\n",
    "\\sigma_x = \\sigma_y = 1. \\qquad \\sigma_{xy}=0. \\qquad\\implies\\qquad \\rho_z = \\rho = 0\n",
    "$$"
   ]
  },
  {
   "cell_type": "markdown",
   "id": "955ba654",
   "metadata": {},
   "source": [
    "### First source of circularity: $\\sigma_x = \\sigma_y$"
   ]
  },
  {
   "cell_type": "markdown",
   "id": "12327061",
   "metadata": {},
   "source": [
    "Let's examine the first source of circularity in a distribution, i.e. the same variances for real and imaginary parts. <br>\n",
    "We start fixing $\\sigma_x = \\sigma_y = \\sigma = 1.$ and we leave the covariance $\\sigma_{xy}$ free to space the interval $(-1,1)$ (to keep the covariance matrix positive defined). Then:\n",
    "$$\n",
    "\\rho_z = \\frac{i\\sigma_{xy}}{\\sigma^2}, \\qquad \\rho=\\frac{\\sigma_{xy}}{\\sigma^2} \\qquad\\implies\\qquad |\\rho_z| = |\\rho|\n",
    "$$"
   ]
  },
  {
   "cell_type": "markdown",
   "id": "6e889303",
   "metadata": {},
   "source": [
    "Let's try to understand what happens gradually changing the distributions."
   ]
  },
  {
   "cell_type": "code",
   "execution_count": 12,
   "id": "fa4842b5",
   "metadata": {},
   "outputs": [],
   "source": [
    "# In order to simplify our work, we define a function that automatically creates two datasets, \n",
    "# one circular with the identity as covariance matrix, and the other with the parameters specified\n",
    "# in input, and use them to train a real and a complex model for a \n",
    "# given number of epochs. Furthermore, it returns the final score as the average accuracy for both networks \n",
    "# for the last 10 epochs over the validation set.\n",
    "\n",
    "def test_config(covmat, n_epochs=60):\n",
    "        \n",
    "    # Generate datasets\n",
    "    dist1 = NpyDataset(generate_cmplx_distribution(cov_mat=np.array([[1.,0.],[0., 1.]]), shape=(5000,128)), label=0)\n",
    "    #dist1_rhoz, dist1_rho = get_circularity_coeff(dist1)\n",
    "    #print('Circularity coefficient first distribution: {:.4f}'.format(dist1_rhoz))\n",
    "    #print('Correlation coefficient first distribution {:.4f}'.format(dist1_rho))\n",
    "\n",
    "    dist2 = NpyDataset(generate_cmplx_distribution(cov_mat=covmat, shape=(5000,128)), label=1)\n",
    "    dist2_rhoz, dist2_rho = get_circularity_coeff(dist2)\n",
    "    #print('Circularity coefficient second distribution: {:.4f}'.format(dist2_rhoz))\n",
    "    #print('Correlation coefficient second distribution: {:.4f}'.format(dist2_rho))\n",
    "    \n",
    "    full_ds = torch.utils.data.ConcatDataset([dist1, dist2])\n",
    "    train_ds, test_ds = torch.utils.data.random_split(full_ds, [8000, 2000])\n",
    "    train_dl = DataLoader(train_ds, batch_size=320, shuffle=True)\n",
    "    test_dl = DataLoader(test_ds, batch_size=320, shuffle=False)\n",
    "    \n",
    "    # Train the complex model\n",
    "    complex_hc = Haiku_Classifier()\n",
    "    _ = complex_hc.train(n_epochs = 50,\n",
    "                         model = CVNN, \n",
    "                         optimizer = cmplx_adam(step_size=1e-2),\n",
    "                         train_dataloader = train_dl,\n",
    "                         test_dataloader = test_dl,\n",
    "                         verbose = False)\n",
    "\n",
    "    # Train the real model\n",
    "    real2ch = Haiku_Classifier()\n",
    "    _ = real2ch.train(n_epochs = 50,\n",
    "                      model = NN2CH, \n",
    "                      optimizer = jax.experimental.optimizers.adam(step_size=1e-2),\n",
    "                      train_dataloader = train_dl,\n",
    "                      test_dataloader = test_dl,\n",
    "                      verbose = False)\n",
    "    \n",
    "    cmplx_score = np.mean(complex_hc.training_history['val_acc'][-10:])\n",
    "    real_score = np.mean(real2ch.training_history['val_acc'][-10:])\n",
    "        \n",
    "    return dist2_rhoz, dist2_rho, cmplx_score, real_score"
   ]
  },
  {
   "cell_type": "markdown",
   "id": "af88d85b",
   "metadata": {},
   "source": [
    "So, we will test different distributions, all having $\\sigma_x=\\sigma_y=1.$ and different covariances $\\sigma_{xy}\\in(-1,1)$, looking for some interesting behaviors. <br>\n",
    "Each test will be repeated several times, with different numy seeds, in order to derive a more reliable statistics."
   ]
  },
  {
   "cell_type": "code",
   "execution_count": 14,
   "id": "81123744",
   "metadata": {},
   "outputs": [],
   "source": [
    "#seeds = [2351, 521453, 23, 314, 451]\n",
    "#source1_circ = {'seed':[], 'rhoz': [], 'rho': [], 'cmplx_score': [], 'real_score': []}\n",
    "#cov_values = np.random.uniform(-1., 1., 7)\n",
    "\n",
    "#for s in tqdm(seeds, leave=False, desc='Testing different seeds.'):\n",
    "#    np.random.seed(s)\n",
    "#    for sxy in tqdm(cov_values, leave=False, desc='Testing several covariances.'):\n",
    "#        rz, r, cs, rs = test_config(np.array([[1., sxy], [sxy, 1.]]))\n",
    "#        source1_circ['seed'].append(s)\n",
    "#        source1_circ['rhoz'].append(rz)\n",
    "#        source1_circ['rho'].append(r)\n",
    "#        source1_circ['cmplx_score'].append(cs)\n",
    "#        source1_circ['real_score'].append(rs)\n",
    "\n",
    "#with open('source1_circ.pkl', 'wb') as f:\n",
    "#    pickle.dump(source1_circ, f)"
   ]
  },
  {
   "cell_type": "code",
   "execution_count": 15,
   "id": "780912e2",
   "metadata": {},
   "outputs": [],
   "source": [
    "with open('source1_circ.pkl', 'rb') as f:\n",
    "    source1_circ = pickle.load(f)"
   ]
  },
  {
   "cell_type": "markdown",
   "id": "1608bf09",
   "metadata": {},
   "source": [
    "We plot now the relationship among the accuracies obtained for both model with respect to the modulus of the circularity coefficient $\\rho_z$ (in the end, remember that $|\\rho_z|=|\\rho|$)."
   ]
  },
  {
   "cell_type": "code",
   "execution_count": 45,
   "id": "7ce63d03",
   "metadata": {},
   "outputs": [
    {
     "data": {
      "text/plain": [
       "<AxesSubplot:xlabel='abs_rhoz', ylabel='cmplx_score'>"
      ]
     },
     "execution_count": 45,
     "metadata": {},
     "output_type": "execute_result"
    },
    {
     "data": {
      "image/png": "[encoded data removed]",
      "text/plain": [
       "<Figure size 576x360 with 1 Axes>"
      ]
     },
     "metadata": {
      "needs_background": "light"
     },
     "output_type": "display_data"
    }
   ],
   "source": [
    "source1_circ = pd.DataFrame(source1_circ)\n",
    "source1_circ['abs_rhoz'] = np.abs(source1_circ['rhoz'])\n",
    "\n",
    "fig, ax = plt.subplots(1, 1, figsize=(8,5))\n",
    "\n",
    "sns.scatterplot(x='abs_rhoz', y='cmplx_score', data=source1_circ, ax=ax)\n",
    "sns.scatterplot(x='abs_rhoz', y='real_score', data=source1_circ, ax=ax)"
   ]
  },
  {
   "cell_type": "code",
   "execution_count": null,
   "id": "e76b241f",
   "metadata": {},
   "outputs": [],
   "source": []
  },
  {
   "cell_type": "markdown",
   "id": "ad15348a",
   "metadata": {},
   "source": [
    "### Second Source of Circularity: $\\sigma_{x}\\neq\\sigma_y$"
   ]
  },
  {
   "cell_type": "markdown",
   "id": "24006a4b",
   "metadata": {},
   "source": [
    "Let's examine now the second main source of circularity in our datasets, i.e. a different variance for the real and imaginary parts. <br>\n",
    "This time we start fixing $\\sigma_{xy}=0$ and assuming, for simplicity, $\\sigma_x=1.$ (in the end it is the shape of the distribution that matters). We leave, instead, $\\sigma_y$ free to move in $(0.1, 3.)$. This time:\n",
    "$$\n",
    "rho_z = \\frac{\\sigma_x^2-\\sigma_y^2}{\\sigma_x^2+\\sigma_y^2} \\qquad \\rho=0\n",
    "$$"
   ]
  },
  {
   "cell_type": "code",
   "execution_count": 68,
   "id": "efcb8db6",
   "metadata": {},
   "outputs": [],
   "source": [
    "#seeds = [2351, 521453, 23, 314, 451]\n",
    "#source2_circ = {'seed':[], 'rhoz': [], 'rho': [], 'cmplx_score': [], 'real_score': []}\n",
    "#sy_values = np.random.uniform(0., 3., 10)\n",
    "\n",
    "#for s in tqdm(seeds, leave=False, desc='Testing different seeds.'):\n",
    "#    np.random.seed(s)\n",
    "#    for sy in tqdm(sy_values, leave=False, desc='Testing several covariances.'):\n",
    "#        rz, r, cs, rs = test_config(np.array([[1., 0.], [0., sy]]))\n",
    "#        source2_circ['seed'].append(s)\n",
    "#        source2_circ['rhoz'].append(rz)\n",
    "#        source2_circ['rho'].append(r)\n",
    "#        source2_circ['cmplx_score'].append(cs)\n",
    "#        source2_circ['real_score'].append(rs)\n",
    "\n",
    "#with open('source2_circ.pkl', 'wb') as f:\n",
    "#    pickle.dump(source2_circ, f)"
   ]
  },
  {
   "cell_type": "code",
   "execution_count": 69,
   "id": "1a74043a",
   "metadata": {},
   "outputs": [],
   "source": [
    "with open('source2_circ.pkl', 'rb') as f:\n",
    "    source2_circ = pickle.load(f)"
   ]
  },
  {
   "cell_type": "code",
   "execution_count": 70,
   "id": "334d6de3",
   "metadata": {
    "scrolled": false
   },
   "outputs": [
    {
     "data": {
      "text/plain": [
       "<AxesSubplot:xlabel='abs_rhoz', ylabel='cmplx_score'>"
      ]
     },
     "execution_count": 70,
     "metadata": {},
     "output_type": "execute_result"
    },
    {
     "data": {
      "image/png": "[encoded data removed]",
      "text/plain": [
       "<Figure size 576x360 with 1 Axes>"
      ]
     },
     "metadata": {
      "needs_background": "light"
     },
     "output_type": "display_data"
    }
   ],
   "source": [
    "source2_circ = pd.DataFrame(source2_circ)\n",
    "source2_circ['abs_rhoz'] = np.abs(source2_circ['rhoz'])\n",
    "\n",
    "fig, ax = plt.subplots(1, 1, figsize=(8,5))\n",
    "\n",
    "sns.scatterplot(x='abs_rhoz', y='cmplx_score', data=source2_circ, ax=ax)\n",
    "sns.scatterplot(x='abs_rhoz', y='real_score', data=source2_circ, ax=ax)"
   ]
  },
  {
   "cell_type": "code",
   "execution_count": null,
   "id": "de94e05f",
   "metadata": {},
   "outputs": [],
   "source": []
  },
  {
   "cell_type": "markdown",
   "id": "3d24c479",
   "metadata": {},
   "source": [
    "### Complex vs Real networks vs the circularity coefficient $\\rho_z$"
   ]
  },
  {
   "cell_type": "markdown",
   "id": "47d9fa00",
   "metadata": {},
   "source": [
    "We have found some interesting behaviors in the previous sections: there are some situations in which complex networks dominate and some other in which real-valued models perform better. But, is there any general law, or rule, that we can find, in order to understand which characteristics should our data have in order to guarantee nice performances of complex models? "
   ]
  },
  {
   "cell_type": "markdown",
   "id": "3940803f",
   "metadata": {},
   "source": [
    "Let's proceed in the same way as before, fixing a distribution $A$ that is perfectly circular, again with the identity as covariance matrix, and let's try to classify its samples with the ones coming from a second distribution $B$ in which we add some non-circularity from both sources. "
   ]
  },
  {
   "cell_type": "markdown",
   "id": "d92386cb",
   "metadata": {},
   "source": [
    "Let's again, for the second distribution, fix $\\sigma_x=1$ and let free the other two degrees of freedom $\\sigma_y$ and $\\sigma_{xy}$. Let's vary those parameter in order to space all the possible values that $\\rho_z\\in C$ can assume, i.e. all the points in the unitary complex circle."
   ]
  },
  {
   "cell_type": "code",
   "execution_count": 73,
   "id": "2edfbf48",
   "metadata": {
    "scrolled": true
   },
   "outputs": [],
   "source": [
    "final_source_circ = {'rhoz': [], 'rho': [], 'cmplx_score': [], 'real_score': []}\n",
    "\n",
    "for sx in np.random.uniform(0., 3., 5):\n",
    "    for sy in np.random.uniform(0., 3., 5):\n",
    "        for sxy in np.random.uniform(-min(sx,sy), max(sx,sy), 5):\n",
    "            \n",
    "            # Check if the covariance matrix generated is positive-defined\n",
    "            rnd_covmat = np.array([[sx**2, sxy],[sxy, sy**2]])\n",
    "            try:\n",
    "                np.linalg.cholesky(rnd_covmat)\n",
    "            except:\n",
    "                continue\n",
    "                \n",
    "            rz, r, cs, rs = test_config( rnd_covmat )\n",
    "            final_source_circ['rhoz'].append(rz)\n",
    "            final_source_circ['rho'].append(r)\n",
    "            final_source_circ['cmplx_score'].append(cs)\n",
    "            final_source_circ['real_score'].append(rs)\n",
    "        \n",
    "#with open('final_source_circ.pkl', 'wb') as f:\n",
    "#    pickle.dump(final_source_circ, f)"
   ]
  },
  {
   "cell_type": "code",
   "execution_count": null,
   "id": "d00492f0",
   "metadata": {},
   "outputs": [],
   "source": [
    "# To add points\n",
    "with open('final_source_circ.pkl', 'rb') as f:\n",
    "    a = pickle.load(f)\n",
    "    \n",
    "b = pd.concat([final_source_circ, a])\n",
    "with open('final_source_circ.pkl', 'rb') as f:\n",
    "    pickle.dump(b)"
   ]
  },
  {
   "cell_type": "code",
   "execution_count": 74,
   "id": "c6750278",
   "metadata": {},
   "outputs": [],
   "source": [
    "#with open('final_source_circ.pkl', 'rb') as f:\n",
    "#    final_source_circ = pickle.load(f)"
   ]
  },
  {
   "cell_type": "code",
   "execution_count": 75,
   "id": "55f1e5f9",
   "metadata": {
    "collapsed": true
   },
   "outputs": [
    {
     "data": {
      "text/html": [
       "<div>\n",
       "<style scoped>\n",
       "    .dataframe tbody tr th:only-of-type {\n",
       "        vertical-align: middle;\n",
       "    }\n",
       "\n",
       "    .dataframe tbody tr th {\n",
       "        vertical-align: top;\n",
       "    }\n",
       "\n",
       "    .dataframe thead th {\n",
       "        text-align: right;\n",
       "    }\n",
       "</style>\n",
       "<table border=\"1\" class=\"dataframe\">\n",
       "  <thead>\n",
       "    <tr style=\"text-align: right;\">\n",
       "      <th></th>\n",
       "      <th>rhoz</th>\n",
       "      <th>cmplx_net</th>\n",
       "      <th>real_net</th>\n",
       "      <th>rhoz_x</th>\n",
       "      <th>rhoz_y</th>\n",
       "    </tr>\n",
       "  </thead>\n",
       "  <tbody>\n",
       "    <tr>\n",
       "      <th>0</th>\n",
       "      <td>0.980088+0.000548j</td>\n",
       "      <td>0.998705</td>\n",
       "      <td>0.999911</td>\n",
       "      <td>0.980088</td>\n",
       "      <td>0.000548</td>\n",
       "    </tr>\n",
       "    <tr>\n",
       "      <th>1</th>\n",
       "      <td>0.980201+0.049507j</td>\n",
       "      <td>0.998437</td>\n",
       "      <td>0.999911</td>\n",
       "      <td>0.980201</td>\n",
       "      <td>0.049507</td>\n",
       "    </tr>\n",
       "    <tr>\n",
       "      <th>2</th>\n",
       "      <td>0.980206+0.098740j</td>\n",
       "      <td>0.998036</td>\n",
       "      <td>1.000000</td>\n",
       "      <td>0.980206</td>\n",
       "      <td>0.098740</td>\n",
       "    </tr>\n",
       "    <tr>\n",
       "      <th>3</th>\n",
       "      <td>0.980226+0.148295j</td>\n",
       "      <td>0.997054</td>\n",
       "      <td>1.000000</td>\n",
       "      <td>0.980226</td>\n",
       "      <td>0.148295</td>\n",
       "    </tr>\n",
       "    <tr>\n",
       "      <th>4</th>\n",
       "      <td>0.980198+0.198020j</td>\n",
       "      <td>0.998795</td>\n",
       "      <td>1.000000</td>\n",
       "      <td>0.980198</td>\n",
       "      <td>0.198020</td>\n",
       "    </tr>\n",
       "    <tr>\n",
       "      <th>5</th>\n",
       "      <td>0.190001+0.001082j</td>\n",
       "      <td>0.582634</td>\n",
       "      <td>0.742946</td>\n",
       "      <td>0.190001</td>\n",
       "      <td>0.001082</td>\n",
       "    </tr>\n",
       "    <tr>\n",
       "      <th>6</th>\n",
       "      <td>0.187942+0.245175j</td>\n",
       "      <td>0.697634</td>\n",
       "      <td>0.733973</td>\n",
       "      <td>0.187942</td>\n",
       "      <td>0.245175</td>\n",
       "    </tr>\n",
       "    <tr>\n",
       "      <th>7</th>\n",
       "      <td>0.191498+0.492995j</td>\n",
       "      <td>0.891429</td>\n",
       "      <td>0.729777</td>\n",
       "      <td>0.191498</td>\n",
       "      <td>0.492995</td>\n",
       "    </tr>\n",
       "    <tr>\n",
       "      <th>8</th>\n",
       "      <td>0.190415+0.736246j</td>\n",
       "      <td>0.979821</td>\n",
       "      <td>0.719375</td>\n",
       "      <td>0.190415</td>\n",
       "      <td>0.736246</td>\n",
       "    </tr>\n",
       "    <tr>\n",
       "      <th>9</th>\n",
       "      <td>0.190033+0.981778j</td>\n",
       "      <td>0.998348</td>\n",
       "      <td>0.815402</td>\n",
       "      <td>0.190033</td>\n",
       "      <td>0.981778</td>\n",
       "    </tr>\n",
       "    <tr>\n",
       "      <th>10</th>\n",
       "      <td>-0.412474-0.000514j</td>\n",
       "      <td>0.882054</td>\n",
       "      <td>0.938705</td>\n",
       "      <td>-0.412474</td>\n",
       "      <td>-0.000514</td>\n",
       "    </tr>\n",
       "    <tr>\n",
       "      <th>11</th>\n",
       "      <td>-0.410733+0.226690j</td>\n",
       "      <td>0.911920</td>\n",
       "      <td>0.936652</td>\n",
       "      <td>-0.410733</td>\n",
       "      <td>0.226690</td>\n",
       "    </tr>\n",
       "    <tr>\n",
       "      <th>12</th>\n",
       "      <td>-0.412792+0.456180j</td>\n",
       "      <td>0.962098</td>\n",
       "      <td>0.948482</td>\n",
       "      <td>-0.412792</td>\n",
       "      <td>0.456180</td>\n",
       "    </tr>\n",
       "    <tr>\n",
       "      <th>13</th>\n",
       "      <td>-0.412205+0.683057j</td>\n",
       "      <td>0.979643</td>\n",
       "      <td>0.939063</td>\n",
       "      <td>-0.412205</td>\n",
       "      <td>0.683057</td>\n",
       "    </tr>\n",
       "    <tr>\n",
       "      <th>14</th>\n",
       "      <td>-0.412197+0.911095j</td>\n",
       "      <td>0.993795</td>\n",
       "      <td>0.936071</td>\n",
       "      <td>-0.412197</td>\n",
       "      <td>0.911095</td>\n",
       "    </tr>\n",
       "    <tr>\n",
       "      <th>15</th>\n",
       "      <td>-0.675851-0.001474j</td>\n",
       "      <td>0.989777</td>\n",
       "      <td>0.994643</td>\n",
       "      <td>-0.675851</td>\n",
       "      <td>-0.001474</td>\n",
       "    </tr>\n",
       "    <tr>\n",
       "      <th>16</th>\n",
       "      <td>-0.676519+0.183758j</td>\n",
       "      <td>0.991786</td>\n",
       "      <td>0.994107</td>\n",
       "      <td>-0.676519</td>\n",
       "      <td>0.183758</td>\n",
       "    </tr>\n",
       "    <tr>\n",
       "      <th>17</th>\n",
       "      <td>-0.675722+0.368393j</td>\n",
       "      <td>0.994464</td>\n",
       "      <td>0.994286</td>\n",
       "      <td>-0.675722</td>\n",
       "      <td>0.368393</td>\n",
       "    </tr>\n",
       "    <tr>\n",
       "      <th>18</th>\n",
       "      <td>-0.675885+0.552700j</td>\n",
       "      <td>0.993437</td>\n",
       "      <td>0.996027</td>\n",
       "      <td>-0.675885</td>\n",
       "      <td>0.552700</td>\n",
       "    </tr>\n",
       "    <tr>\n",
       "      <th>19</th>\n",
       "      <td>-0.676146+0.736768j</td>\n",
       "      <td>0.996830</td>\n",
       "      <td>0.995804</td>\n",
       "      <td>-0.676146</td>\n",
       "      <td>0.736768</td>\n",
       "    </tr>\n",
       "    <tr>\n",
       "      <th>20</th>\n",
       "      <td>-0.800396+0.001562j</td>\n",
       "      <td>0.996429</td>\n",
       "      <td>0.997946</td>\n",
       "      <td>-0.800396</td>\n",
       "      <td>0.001562</td>\n",
       "    </tr>\n",
       "    <tr>\n",
       "      <th>21</th>\n",
       "      <td>-0.799990+0.150660j</td>\n",
       "      <td>0.998616</td>\n",
       "      <td>0.999062</td>\n",
       "      <td>-0.799990</td>\n",
       "      <td>0.150660</td>\n",
       "    </tr>\n",
       "    <tr>\n",
       "      <th>22</th>\n",
       "      <td>-0.800080+0.299619j</td>\n",
       "      <td>0.997455</td>\n",
       "      <td>0.998259</td>\n",
       "      <td>-0.800080</td>\n",
       "      <td>0.299619</td>\n",
       "    </tr>\n",
       "    <tr>\n",
       "      <th>23</th>\n",
       "      <td>-0.800251+0.450647j</td>\n",
       "      <td>0.999152</td>\n",
       "      <td>0.997634</td>\n",
       "      <td>-0.800251</td>\n",
       "      <td>0.450647</td>\n",
       "    </tr>\n",
       "    <tr>\n",
       "      <th>24</th>\n",
       "      <td>-0.800000+0.600000j</td>\n",
       "      <td>0.998036</td>\n",
       "      <td>0.999241</td>\n",
       "      <td>-0.800000</td>\n",
       "      <td>0.600000</td>\n",
       "    </tr>\n",
       "    <tr>\n",
       "      <th>25</th>\n",
       "      <td>0.301811+0.661731j</td>\n",
       "      <td>0.981696</td>\n",
       "      <td>0.853750</td>\n",
       "      <td>0.301811</td>\n",
       "      <td>0.661731</td>\n",
       "    </tr>\n",
       "    <tr>\n",
       "      <th>26</th>\n",
       "      <td>0.300663-0.194245j</td>\n",
       "      <td>0.813661</td>\n",
       "      <td>0.859420</td>\n",
       "      <td>0.300663</td>\n",
       "      <td>-0.194245</td>\n",
       "    </tr>\n",
       "    <tr>\n",
       "      <th>27</th>\n",
       "      <td>0.302202-0.953001j</td>\n",
       "      <td>0.998839</td>\n",
       "      <td>0.878929</td>\n",
       "      <td>0.302202</td>\n",
       "      <td>-0.953001</td>\n",
       "    </tr>\n",
       "    <tr>\n",
       "      <th>28</th>\n",
       "      <td>0.301808-0.849238j</td>\n",
       "      <td>0.997679</td>\n",
       "      <td>0.871696</td>\n",
       "      <td>0.301808</td>\n",
       "      <td>-0.849238</td>\n",
       "    </tr>\n",
       "    <tr>\n",
       "      <th>29</th>\n",
       "      <td>0.302021+0.827449j</td>\n",
       "      <td>0.995670</td>\n",
       "      <td>0.864955</td>\n",
       "      <td>0.302021</td>\n",
       "      <td>0.827449</td>\n",
       "    </tr>\n",
       "    <tr>\n",
       "      <th>30</th>\n",
       "      <td>0.953911-0.281121j</td>\n",
       "      <td>0.998973</td>\n",
       "      <td>1.000000</td>\n",
       "      <td>0.953911</td>\n",
       "      <td>-0.281121</td>\n",
       "    </tr>\n",
       "    <tr>\n",
       "      <th>31</th>\n",
       "      <td>0.954011-0.158894j</td>\n",
       "      <td>0.997946</td>\n",
       "      <td>0.999955</td>\n",
       "      <td>0.954011</td>\n",
       "      <td>-0.158894</td>\n",
       "    </tr>\n",
       "    <tr>\n",
       "      <th>32</th>\n",
       "      <td>0.954067-0.020405j</td>\n",
       "      <td>0.998036</td>\n",
       "      <td>0.999375</td>\n",
       "      <td>0.954067</td>\n",
       "      <td>-0.020405</td>\n",
       "    </tr>\n",
       "    <tr>\n",
       "      <th>33</th>\n",
       "      <td>0.954029-0.241245j</td>\n",
       "      <td>0.999152</td>\n",
       "      <td>0.999955</td>\n",
       "      <td>0.954029</td>\n",
       "      <td>-0.241245</td>\n",
       "    </tr>\n",
       "    <tr>\n",
       "      <th>34</th>\n",
       "      <td>0.953909+0.053851j</td>\n",
       "      <td>0.998482</td>\n",
       "      <td>0.999509</td>\n",
       "      <td>0.953909</td>\n",
       "      <td>0.053851</td>\n",
       "    </tr>\n",
       "    <tr>\n",
       "      <th>35</th>\n",
       "      <td>0.515120+0.410498j</td>\n",
       "      <td>0.982411</td>\n",
       "      <td>0.978482</td>\n",
       "      <td>0.515120</td>\n",
       "      <td>0.410498</td>\n",
       "    </tr>\n",
       "    <tr>\n",
       "      <th>36</th>\n",
       "      <td>0.514376-0.063633j</td>\n",
       "      <td>0.938393</td>\n",
       "      <td>0.975982</td>\n",
       "      <td>0.514376</td>\n",
       "      <td>-0.063633</td>\n",
       "    </tr>\n",
       "    <tr>\n",
       "      <th>37</th>\n",
       "      <td>0.515138+0.497905j</td>\n",
       "      <td>0.984821</td>\n",
       "      <td>0.974955</td>\n",
       "      <td>0.515138</td>\n",
       "      <td>0.497905</td>\n",
       "    </tr>\n",
       "    <tr>\n",
       "      <th>38</th>\n",
       "      <td>0.514527-0.323738j</td>\n",
       "      <td>0.968125</td>\n",
       "      <td>0.978527</td>\n",
       "      <td>0.514527</td>\n",
       "      <td>-0.323738</td>\n",
       "    </tr>\n",
       "    <tr>\n",
       "      <th>39</th>\n",
       "      <td>0.515349-0.466844j</td>\n",
       "      <td>0.983839</td>\n",
       "      <td>0.982723</td>\n",
       "      <td>0.515349</td>\n",
       "      <td>-0.466844</td>\n",
       "    </tr>\n",
       "    <tr>\n",
       "      <th>40</th>\n",
       "      <td>-0.660341-0.276334j</td>\n",
       "      <td>0.990357</td>\n",
       "      <td>0.995045</td>\n",
       "      <td>-0.660341</td>\n",
       "      <td>-0.276334</td>\n",
       "    </tr>\n",
       "    <tr>\n",
       "      <th>41</th>\n",
       "      <td>-0.661211-0.240390j</td>\n",
       "      <td>0.992277</td>\n",
       "      <td>0.994330</td>\n",
       "      <td>-0.661211</td>\n",
       "      <td>-0.240390</td>\n",
       "    </tr>\n",
       "    <tr>\n",
       "      <th>42</th>\n",
       "      <td>-0.660961+0.632252j</td>\n",
       "      <td>0.996205</td>\n",
       "      <td>0.994107</td>\n",
       "      <td>-0.660961</td>\n",
       "      <td>0.632252</td>\n",
       "    </tr>\n",
       "    <tr>\n",
       "      <th>43</th>\n",
       "      <td>-0.660860-0.550292j</td>\n",
       "      <td>0.992277</td>\n",
       "      <td>0.990179</td>\n",
       "      <td>-0.660860</td>\n",
       "      <td>-0.550292</td>\n",
       "    </tr>\n",
       "    <tr>\n",
       "      <th>44</th>\n",
       "      <td>-0.660870-0.460380j</td>\n",
       "      <td>0.993125</td>\n",
       "      <td>0.995045</td>\n",
       "      <td>-0.660870</td>\n",
       "      <td>-0.460380</td>\n",
       "    </tr>\n",
       "    <tr>\n",
       "      <th>45</th>\n",
       "      <td>-0.264963-0.696577j</td>\n",
       "      <td>0.965268</td>\n",
       "      <td>0.839464</td>\n",
       "      <td>-0.264963</td>\n",
       "      <td>-0.696577</td>\n",
       "    </tr>\n",
       "    <tr>\n",
       "      <th>46</th>\n",
       "      <td>-0.264423+0.216351j</td>\n",
       "      <td>0.757009</td>\n",
       "      <td>0.837500</td>\n",
       "      <td>-0.264423</td>\n",
       "      <td>0.216351</td>\n",
       "    </tr>\n",
       "    <tr>\n",
       "      <th>47</th>\n",
       "      <td>-0.267718+0.530435j</td>\n",
       "      <td>0.907634</td>\n",
       "      <td>0.822545</td>\n",
       "      <td>-0.267718</td>\n",
       "      <td>0.530435</td>\n",
       "    </tr>\n",
       "    <tr>\n",
       "      <th>48</th>\n",
       "      <td>-0.265453-0.797467j</td>\n",
       "      <td>0.982991</td>\n",
       "      <td>0.819241</td>\n",
       "      <td>-0.265453</td>\n",
       "      <td>-0.797467</td>\n",
       "    </tr>\n",
       "    <tr>\n",
       "      <th>49</th>\n",
       "      <td>-0.267523+0.502282j</td>\n",
       "      <td>0.894286</td>\n",
       "      <td>0.827857</td>\n",
       "      <td>-0.267523</td>\n",
       "      <td>0.502282</td>\n",
       "    </tr>\n",
       "  </tbody>\n",
       "</table>\n",
       "</div>"
      ],
      "text/plain": [
       "                  rhoz  cmplx_net  real_net    rhoz_x    rhoz_y\n",
       "0   0.980088+0.000548j   0.998705  0.999911  0.980088  0.000548\n",
       "1   0.980201+0.049507j   0.998437  0.999911  0.980201  0.049507\n",
       "2   0.980206+0.098740j   0.998036  1.000000  0.980206  0.098740\n",
       "3   0.980226+0.148295j   0.997054  1.000000  0.980226  0.148295\n",
       "4   0.980198+0.198020j   0.998795  1.000000  0.980198  0.198020\n",
       "5   0.190001+0.001082j   0.582634  0.742946  0.190001  0.001082\n",
       "6   0.187942+0.245175j   0.697634  0.733973  0.187942  0.245175\n",
       "7   0.191498+0.492995j   0.891429  0.729777  0.191498  0.492995\n",
       "8   0.190415+0.736246j   0.979821  0.719375  0.190415  0.736246\n",
       "9   0.190033+0.981778j   0.998348  0.815402  0.190033  0.981778\n",
       "10 -0.412474-0.000514j   0.882054  0.938705 -0.412474 -0.000514\n",
       "11 -0.410733+0.226690j   0.911920  0.936652 -0.410733  0.226690\n",
       "12 -0.412792+0.456180j   0.962098  0.948482 -0.412792  0.456180\n",
       "13 -0.412205+0.683057j   0.979643  0.939063 -0.412205  0.683057\n",
       "14 -0.412197+0.911095j   0.993795  0.936071 -0.412197  0.911095\n",
       "15 -0.675851-0.001474j   0.989777  0.994643 -0.675851 -0.001474\n",
       "16 -0.676519+0.183758j   0.991786  0.994107 -0.676519  0.183758\n",
       "17 -0.675722+0.368393j   0.994464  0.994286 -0.675722  0.368393\n",
       "18 -0.675885+0.552700j   0.993437  0.996027 -0.675885  0.552700\n",
       "19 -0.676146+0.736768j   0.996830  0.995804 -0.676146  0.736768\n",
       "20 -0.800396+0.001562j   0.996429  0.997946 -0.800396  0.001562\n",
       "21 -0.799990+0.150660j   0.998616  0.999062 -0.799990  0.150660\n",
       "22 -0.800080+0.299619j   0.997455  0.998259 -0.800080  0.299619\n",
       "23 -0.800251+0.450647j   0.999152  0.997634 -0.800251  0.450647\n",
       "24 -0.800000+0.600000j   0.998036  0.999241 -0.800000  0.600000\n",
       "25  0.301811+0.661731j   0.981696  0.853750  0.301811  0.661731\n",
       "26  0.300663-0.194245j   0.813661  0.859420  0.300663 -0.194245\n",
       "27  0.302202-0.953001j   0.998839  0.878929  0.302202 -0.953001\n",
       "28  0.301808-0.849238j   0.997679  0.871696  0.301808 -0.849238\n",
       "29  0.302021+0.827449j   0.995670  0.864955  0.302021  0.827449\n",
       "30  0.953911-0.281121j   0.998973  1.000000  0.953911 -0.281121\n",
       "31  0.954011-0.158894j   0.997946  0.999955  0.954011 -0.158894\n",
       "32  0.954067-0.020405j   0.998036  0.999375  0.954067 -0.020405\n",
       "33  0.954029-0.241245j   0.999152  0.999955  0.954029 -0.241245\n",
       "34  0.953909+0.053851j   0.998482  0.999509  0.953909  0.053851\n",
       "35  0.515120+0.410498j   0.982411  0.978482  0.515120  0.410498\n",
       "36  0.514376-0.063633j   0.938393  0.975982  0.514376 -0.063633\n",
       "37  0.515138+0.497905j   0.984821  0.974955  0.515138  0.497905\n",
       "38  0.514527-0.323738j   0.968125  0.978527  0.514527 -0.323738\n",
       "39  0.515349-0.466844j   0.983839  0.982723  0.515349 -0.466844\n",
       "40 -0.660341-0.276334j   0.990357  0.995045 -0.660341 -0.276334\n",
       "41 -0.661211-0.240390j   0.992277  0.994330 -0.661211 -0.240390\n",
       "42 -0.660961+0.632252j   0.996205  0.994107 -0.660961  0.632252\n",
       "43 -0.660860-0.550292j   0.992277  0.990179 -0.660860 -0.550292\n",
       "44 -0.660870-0.460380j   0.993125  0.995045 -0.660870 -0.460380\n",
       "45 -0.264963-0.696577j   0.965268  0.839464 -0.264963 -0.696577\n",
       "46 -0.264423+0.216351j   0.757009  0.837500 -0.264423  0.216351\n",
       "47 -0.267718+0.530435j   0.907634  0.822545 -0.267718  0.530435\n",
       "48 -0.265453-0.797467j   0.982991  0.819241 -0.265453 -0.797467\n",
       "49 -0.267523+0.502282j   0.894286  0.827857 -0.267523  0.502282"
      ]
     },
     "execution_count": 75,
     "metadata": {},
     "output_type": "execute_result"
    }
   ],
   "source": [
    "final_source_circ = pd.DataFrame(final_source_circ)\n",
    "final_source_circ['rhoz_x'] = final_source_circ['rhoz'].apply(lambda x: x.real)\n",
    "final_source_circ['rhoz_y'] = final_source_circ['rhoz'].apply(lambda x: x.imag)\n",
    "final_source_circ"
   ]
  },
  {
   "cell_type": "code",
   "execution_count": 88,
   "id": "b18a6251",
   "metadata": {},
   "outputs": [
    {
     "data": {
      "text/plain": [
       "(-1.05, 1.05)"
      ]
     },
     "execution_count": 88,
     "metadata": {},
     "output_type": "execute_result"
    },
    {
     "data": {
      "image/png": "[encoded data removed]",
      "text/plain": [
       "<Figure size 1080x360 with 4 Axes>"
      ]
     },
     "metadata": {
      "needs_background": "light"
     },
     "output_type": "display_data"
    }
   ],
   "source": [
    "import matplotlib.tri as tri\n",
    "\n",
    "fig, axs = plt.subplots(1, 2, figsize=(15,5))\n",
    "\n",
    "# Create grid values first.\n",
    "x = final_source_circ['rhoz_x']\n",
    "y = final_source_circ['rhoz_y']\n",
    "xi = np.linspace(-1., 1., 50)\n",
    "yi = np.linspace(-1., 1., 50)\n",
    "\n",
    "# Linearly interpolate the data (x, y) on a grid defined by (xi, yi).\n",
    "triang = tri.Triangulation(x, y)\n",
    "interpolator_c = tri.LinearTriInterpolator(triang, final_source_circ['cmplx_net'])\n",
    "interpolator_r = tri.LinearTriInterpolator(triang, final_source_circ['real_net'])\n",
    "\n",
    "Xi, Yi = np.meshgrid(xi, yi)\n",
    "zi_c = interpolator_c(Xi, Yi)\n",
    "zi_r = interpolator_r(Xi, Yi)\n",
    "\n",
    "axs[0].contour(xi, yi, zi_c, levels=14, linewidths=0.5, colors='k')\n",
    "cntr1 = axs[0].contourf(xi, yi, zi_c, levels=14, cmap=\"RdBu_r\")\n",
    "plt.colorbar(cntr1, ax=axs[0])\n",
    "axs[0].plot(x, y, 'ko', ms=3)\n",
    "\n",
    "\n",
    "axs[1].contour(xi, yi, zi_r, levels=14, linewidths=0.5, colors='k')\n",
    "cntr2 = axs[1].contourf(xi, yi, zi_r, levels=14, cmap=\"RdBu_r\")\n",
    "plt.colorbar(cntr2, ax=axs[1])\n",
    "\n",
    "axs[1].plot(x, y, 'ko', ms=3)\n",
    "\n",
    "\n",
    "# Add the definition domain of rho_z, i.e. the unitary circle\n",
    "unit_circle = plt.Circle((0., 0.), radius=1., edgecolor='b', facecolor='None')\n",
    "axs[0].add_patch(unit_circle)\n",
    "unit_circle = plt.Circle((0., 0.), radius=1., edgecolor='b', facecolor='None')\n",
    "axs[1].add_patch(unit_circle)\n",
    "\n",
    "axs[0].set_xlabel(r'$\\Re(\\rho_z)$', fontsize=20)\n",
    "axs[0].set_ylabel(r'$\\Im(\\rho_z)$', fontsize=20)\n",
    "axs[0].set_title('Accuracy of the Complex-Valued NN', fontsize=15)\n",
    "axs[0].set_xlim(-1.05, 1.05)\n",
    "axs[0].set_ylim(-1.05, 1.05)\n",
    "\n",
    "axs[1].set_xlabel(r'$\\Re(\\rho_z)$', fontsize=20)\n",
    "axs[1].set_ylabel(r'$\\Im(\\rho_z)$', fontsize=20)\n",
    "axs[1].set_title('Accuracy of the Real-Valued NN', fontsize=15)\n",
    "axs[1].set_xlim(-1.05, 1.05)\n",
    "axs[1].set_ylim(-1.05, 1.05)"
   ]
  },
  {
   "cell_type": "code",
   "execution_count": null,
   "id": "a26515f7",
   "metadata": {},
   "outputs": [],
   "source": []
  }
 ],
 "metadata": {
  "kernelspec": {
   "display_name": "Python 3 (ipykernel)",
   "language": "python",
   "name": "python3"
  },
  "language_info": {
   "codemirror_mode": {
    "name": "ipython",
    "version": 3
   },
   "file_extension": ".py",
   "mimetype": "text/x-python",
   "name": "python",
   "nbconvert_exporter": "python",
   "pygments_lexer": "ipython3",
   "version": "3.9.7"
  }
 },
 "nbformat": 4,
 "nbformat_minor": 5
}
