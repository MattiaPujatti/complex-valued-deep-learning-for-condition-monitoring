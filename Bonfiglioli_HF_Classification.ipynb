{
 "cells": [
  {
   "cell_type": "markdown",
   "id": "aabc72a8",
   "metadata": {},
   "source": [
    "# HF Classification of Bonfiglioli's Vibration Signals"
   ]
  },
  {
   "cell_type": "markdown",
   "id": "18ead110",
   "metadata": {},
   "source": [
    "Introduction"
   ]
  },
  {
   "cell_type": "code",
   "execution_count": null,
   "id": "be3e50bd",
   "metadata": {},
   "outputs": [],
   "source": [
    "# Dependencies"
   ]
  },
  {
   "cell_type": "markdown",
   "id": "6a2de998",
   "metadata": {},
   "source": [
    "### Get Data"
   ]
  },
  {
   "cell_type": "markdown",
   "id": "a27195e5",
   "metadata": {},
   "source": [
    "Define first a pytorch dataset able to load numpy files: remember that, because of the function `load_hf`, the preprocessed data are stored in 6 _.npy_ files called `x_train`, `x_val`, `x_test`, `y_train`, `y_val`, `y_test`."
   ]
  },
  {
   "cell_type": "code",
   "execution_count": null,
   "id": "02d64cc8",
   "metadata": {},
   "outputs": [],
   "source": [
    "class NpyDataset(Dataset):\n",
    "    \n",
    "    def __init__(self, x_path, y_path, transform=None):\n",
    "        \n",
    "        self.x = np.load(x_path)\n",
    "        self.y = np.load(y_path)\n",
    "        self.transform = transform\n",
    "        \n",
    "    def __len__(self):\n",
    "        return len(self.x)\n",
    "    \n",
    "    def __getitem__(self, idx):\n",
    "        \n",
    "        sample = (self.x[idx], self.y[idx])\n",
    "        \n",
    "        if self.transform is not None:\n",
    "            sample = self.transform(sample)\n",
    "        \n",
    "        return sample"
   ]
  },
  {
   "cell_type": "code",
   "execution_count": null,
   "id": "6c9bd48f",
   "metadata": {},
   "outputs": [],
   "source": [
    "class ToTensor_onehot(object):\n",
    "    \"\"\"Convert sample to Tensors.\"\"\"\n",
    "    def __call__(self, sample):\n",
    "        x, y = sample\n",
    "        # One-hot encoding\n",
    "        y = np.eye(2)[y]\n",
    "        return ( torch.from_numpy(x), torch.tensor([y]) )\n",
    "    \n",
    "class Squeeze(object):\n",
    "    \"\"\"Remove the extra dimensions of the tensors.\"\"\"\n",
    "    def __init__(self, squeeze_x=True, squeeze_y=True):\n",
    "        self.squeeze_x = squeeze_x\n",
    "        self.squeeze_y = squeeze_y\n",
    "    \n",
    "    def __call__(self, sample):\n",
    "        x, y = sample\n",
    "        if self.squeeze_x:\n",
    "            x = torch.squeeze(x)\n",
    "        if self.squeeze_y:\n",
    "            y = torch.squeeze(y)\n",
    "        return ( x, y )\n",
    "    \n",
    "class Standardize_Frame(object):\n",
    "    \"\"\"Since each row of a sample correspond to a single frame of the spectrum,\n",
    "    it is possible to standardize them in order to have features centered around 0\n",
    "    with unitary variance.\"\"\"\n",
    "    def __call__(self, sample):\n",
    "        x, y = sample\n",
    "        std, mean = torch.std_mean(x, dim=0, unbiased=True, keepdim=True)\n",
    "        x = (x - mean) / std\n",
    "        return (x, y)\n",
    "    \n",
    "class Normalize(object):\n",
    "    def __call__(self, sample):\n",
    "        x, y = sample\n",
    "        x_norm = np.abs(x)\n",
    "        x_min, x_max = x_norm.min(), x_norm.max()\n",
    "        x = (x - x_min) / (x_max - x_min)\n",
    "        return (x, y)\n",
    "    \n",
    "class SwapAxes(object):\n",
    "    def __call__(self, sample):\n",
    "        x, y = sample\n",
    "        return (torch.swapaxes(x, 0, 1), torch.squeeze(y))\n",
    "    "
   ]
  },
  {
   "cell_type": "code",
   "execution_count": null,
   "id": "1974537d",
   "metadata": {},
   "outputs": [],
   "source": []
  },
  {
   "cell_type": "code",
   "execution_count": null,
   "id": "f5db2c14",
   "metadata": {},
   "outputs": [],
   "source": []
  },
  {
   "cell_type": "code",
   "execution_count": null,
   "id": "7c084b60",
   "metadata": {},
   "outputs": [],
   "source": []
  },
  {
   "cell_type": "code",
   "execution_count": null,
   "id": "dc4e40d7",
   "metadata": {},
   "outputs": [],
   "source": []
  }
 ],
 "metadata": {
  "kernelspec": {
   "display_name": "Python 3 (ipykernel)",
   "language": "python",
   "name": "python3"
  },
  "language_info": {
   "codemirror_mode": {
    "name": "ipython",
    "version": 3
   },
   "file_extension": ".py",
   "mimetype": "text/x-python",
   "name": "python",
   "nbconvert_exporter": "python",
   "pygments_lexer": "ipython3",
   "version": "3.9.7"
  }
 },
 "nbformat": 4,
 "nbformat_minor": 5
}
