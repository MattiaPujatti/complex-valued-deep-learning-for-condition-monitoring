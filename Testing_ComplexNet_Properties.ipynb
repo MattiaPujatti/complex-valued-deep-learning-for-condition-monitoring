{
 "cells": [
  {
   "cell_type": "code",
   "execution_count": 1,
   "id": "3ffc4c93",
   "metadata": {},
   "outputs": [],
   "source": [
    "import haiku as hk\n",
    "import matplotlib.pyplot as plt\n",
    "import numpy as np\n",
    "from importlib import reload"
   ]
  },
  {
   "cell_type": "markdown",
   "id": "0f8c535a",
   "metadata": {},
   "source": [
    "## Get Data"
   ]
  },
  {
   "cell_type": "code",
   "execution_count": 2,
   "id": "00cc9d84",
   "metadata": {},
   "outputs": [],
   "source": [
    "import torch \n",
    "import torchvision\n",
    "from torchvision import transforms\n",
    "import torchaudio\n",
    "from pathlib import Path\n",
    "from torch.utils.data import Dataset, DataLoader\n",
    "from tqdm.notebook import tqdm"
   ]
  },
  {
   "cell_type": "code",
   "execution_count": 3,
   "id": "37b8bf4b",
   "metadata": {},
   "outputs": [],
   "source": [
    "def generate_PhaseMNIST(mnist_path):\n",
    "    \n",
    "    mnist_train_ds = torchvision.datasets.MNIST(root=mnist_path, train=True, download=False)\n",
    "    mnist_test_ds = torchvision.datasets.MNIST(root=mnist_path, train=False, download=False)\n",
    "    \n",
    "    phasemnist_data = []\n",
    "    phasemnist_labels = []\n",
    "    \n",
    "    for dataset in [mnist_train_ds, mnist_test_ds]:\n",
    "        \n",
    "        for label in tqdm(range(10)):\n",
    "            \n",
    "            # Get targets pairs (such that real_target + imag_target = 9)\n",
    "            real_targets_idxs = (dataset.targets == label)\n",
    "            imag_targets_idxs = (dataset.targets == (9-label))\n",
    "    \n",
    "            real_samples = dataset.data[real_targets_idxs]\n",
    "            imag_samples = dataset.data[imag_targets_idxs]\n",
    "            \n",
    "            # Get len(real) random samples from the imaginary dataset\n",
    "            imag_mask = np.random.randint(low=0, high=len(imag_samples), size=len(real_samples))\n",
    "    \n",
    "            # Construct the PhaseMNIST samples\n",
    "            phasemnist_samples = np.asarray(real_samples) / 255. + 1.j*np.array(imag_samples[imag_mask]) / 255.\n",
    "            \n",
    "            phasemnist_data.append(phasemnist_samples)\n",
    "            phasemnist_labels.append(np.full(len(phasemnist_samples), label))\n",
    "\n",
    "    phasemnist_data_array = np.concatenate(phasemnist_data)\n",
    "    phasemnist_labels_array = np.concatenate(phasemnist_labels)\n",
    "    \n",
    "    # Shuffle the two arrays\n",
    "    perm = np.random.permutation(len(phasemnist_labels_array))\n",
    "    phasemnist_data_array = phasemnist_data_array[perm]\n",
    "    phasemnist_labels_array = phasemnist_labels_array[perm]\n",
    "        \n",
    "    with open(mnist_path + 'PhaseMNIST/data.npy', 'wb') as f:\n",
    "        np.save(f, phasemnist_data_array)\n",
    "    \n",
    "    with open(mnist_path + 'PhaseMNIST/labels.npy', 'wb') as f:\n",
    "        np.save(f, phasemnist_labels_array)\n",
    "            \n",
    "    return phasemnist_data_array, phasemnist_labels_array"
   ]
  },
  {
   "cell_type": "code",
   "execution_count": 4,
   "id": "74159ab3",
   "metadata": {},
   "outputs": [],
   "source": [
    "class PhaseMNIST(Dataset):\n",
    "    \n",
    "    def __init__(self, path, transform=None):\n",
    "        \n",
    "        with open(path + 'data.npy', 'rb') as f:\n",
    "            self.data = np.load(f)\n",
    "            \n",
    "        with open(path + 'labels.npy', 'rb') as f:\n",
    "            self.labels = np.load(f)\n",
    "        \n",
    "        self.length = len(self.labels)\n",
    "        self.transform = transform\n",
    "        \n",
    "    def __len__(self):\n",
    "        return self.length\n",
    "    \n",
    "    def __getitem__(self, index):\n",
    "        \n",
    "        sample = (self.data[index], self.labels[index])\n",
    "        \n",
    "        if self.transform is not None:\n",
    "            sample = self.transform(sample)\n",
    "        \n",
    "        return sample"
   ]
  },
  {
   "cell_type": "code",
   "execution_count": 9,
   "id": "e4c8d5dc",
   "metadata": {},
   "outputs": [
    {
     "data": {
      "text/plain": [
       "<matplotlib.image.AxesImage at 0x7f5cd0938d60>"
      ]
     },
     "execution_count": 9,
     "metadata": {},
     "output_type": "execute_result"
    },
    {
     "data": {
      "image/png": "[encoded data removed]",
      "text/plain": [
       "<Figure size 864x360 with 2 Axes>"
      ]
     },
     "metadata": {
      "needs_background": "light"
     },
     "output_type": "display_data"
    }
   ],
   "source": [
    "fig, ax = plt.subplots(1, 2, figsize=(12,5))\n",
    "ax[0].imshow(PhaseMNIST('data/PhaseMNIST/')[0][0].real)\n",
    "ax[1].imshow(PhaseMNIST('data/PhaseMNIST/')[0][0].imag)"
   ]
  },
  {
   "cell_type": "code",
   "execution_count": 5,
   "id": "ae3fa156",
   "metadata": {},
   "outputs": [],
   "source": [
    "class ToTensor_onehot(object):\n",
    "    \"\"\"Convert sample to Tensors and one-hot encode the labels.\"\"\"\n",
    "    def __init__(self, n_classes=2):\n",
    "        self.n_classes = n_classes\n",
    "\n",
    "    def __call__(self, sample):\n",
    "        x, y = sample\n",
    "        # One-hot encoding\n",
    "        y = np.eye(self.n_classes)[y]\n",
    "        return ( torch.from_numpy(x), torch.tensor([y]) )\n",
    "    \n",
    "class Squeeze(object):\n",
    "    \"\"\"Remove the extra dimensions of the tensors.\"\"\"\n",
    "    def __init__(self, squeeze_x=True, squeeze_y=True):\n",
    "        self.squeeze_x = squeeze_x\n",
    "        self.squeeze_y = squeeze_y\n",
    "    \n",
    "    def __call__(self, sample):\n",
    "        x, y = sample\n",
    "        if self.squeeze_x:\n",
    "            x = torch.squeeze(x)\n",
    "        if self.squeeze_y:\n",
    "            y = torch.squeeze(y)\n",
    "        return ( x, y )"
   ]
  },
  {
   "cell_type": "code",
   "execution_count": 6,
   "id": "89250788",
   "metadata": {},
   "outputs": [],
   "source": [
    "def build_dataloaders(data_dir, composed_transform, drop_length=0, batch_size=32):\n",
    "    \n",
    "    full_dataset = PhaseMNIST(path=data_dir, transform=composed_transform)\n",
    "    \n",
    "    train_len = int(0.75 * (len(full_dataset)-drop_length))\n",
    "    test_len = len(full_dataset) - train_len - drop_length\n",
    "    train_ds, test_ds, _ = torch.utils.data.random_split(full_dataset, [train_len, test_len, drop_length])\n",
    "    \n",
    "    train_dataloader = DataLoader(train_ds, batch_size=batch_size, shuffle=True)\n",
    "\n",
    "    test_dataloader = DataLoader(test_ds, batch_size=batch_size, shuffle=True)\n",
    "    \n",
    "    return train_dataloader, test_dataloader"
   ]
  },
  {
   "cell_type": "code",
   "execution_count": 32,
   "id": "d8de4c45",
   "metadata": {},
   "outputs": [],
   "source": [
    "mnist_path = 'data/PhaseMNIST/'\n",
    "batch_size = 64\n",
    "drop_length = 50000\n",
    "data_transform = transforms.Compose([ToTensor_onehot(n_classes=10), Squeeze(squeeze_x=False)])"
   ]
  },
  {
   "cell_type": "code",
   "execution_count": 33,
   "id": "40cd90d0",
   "metadata": {
    "scrolled": true
   },
   "outputs": [
    {
     "name": "stdout",
     "output_type": "stream",
     "text": [
      "Data shapes:\n",
      " x-> torch.Size([64, 28, 28]) y-> torch.Size([64, 10])\n",
      "\n",
      "Number of samples in the datasets: \n",
      "  Training set: 15040 \n",
      "  Test set: 5056\n"
     ]
    }
   ],
   "source": [
    "train_dl, test_dl = build_dataloaders(mnist_path, data_transform, drop_length, batch_size=batch_size)\n",
    "\n",
    "batch_sample = next(iter(test_dl))\n",
    "print('Data shapes:\\n x-> {} y-> {}'.format(batch_sample[0].shape, batch_sample[1].shape))\n",
    "print('\\nNumber of samples in the datasets: \\n  Training set: {0} \\n  Test set: {1}'.format(len(train_dl)*batch_size, len(test_dl)*batch_size))"
   ]
  },
  {
   "cell_type": "code",
   "execution_count": null,
   "id": "e696193b",
   "metadata": {},
   "outputs": [],
   "source": []
  },
  {
   "cell_type": "code",
   "execution_count": 1,
   "id": "3b62710e",
   "metadata": {},
   "outputs": [
    {
     "ename": "NameError",
     "evalue": "name 'Dataset' is not defined",
     "output_type": "error",
     "traceback": [
      "\u001b[0;31m---------------------------------------------------------------------------\u001b[0m",
      "\u001b[0;31mNameError\u001b[0m                                 Traceback (most recent call last)",
      "\u001b[0;32m/tmp/ipykernel_543576/1855582845.py\u001b[0m in \u001b[0;36m<module>\u001b[0;34m\u001b[0m\n\u001b[0;32m----> 1\u001b[0;31m \u001b[0;32mclass\u001b[0m \u001b[0mESC10_DataGenerator\u001b[0m\u001b[0;34m(\u001b[0m\u001b[0mDataset\u001b[0m\u001b[0;34m)\u001b[0m\u001b[0;34m:\u001b[0m\u001b[0;34m\u001b[0m\u001b[0;34m\u001b[0m\u001b[0m\n\u001b[0m\u001b[1;32m      2\u001b[0m \u001b[0;34m\u001b[0m\u001b[0m\n\u001b[1;32m      3\u001b[0m     \u001b[0;32mdef\u001b[0m \u001b[0m__init__\u001b[0m\u001b[0;34m(\u001b[0m\u001b[0mself\u001b[0m\u001b[0;34m,\u001b[0m \u001b[0mpath\u001b[0m\u001b[0;34m,\u001b[0m \u001b[0mkind\u001b[0m\u001b[0;34m=\u001b[0m\u001b[0;34m'train'\u001b[0m\u001b[0;34m,\u001b[0m \u001b[0mtransform\u001b[0m\u001b[0;34m=\u001b[0m\u001b[0;32mNone\u001b[0m\u001b[0;34m)\u001b[0m\u001b[0;34m:\u001b[0m\u001b[0;34m\u001b[0m\u001b[0;34m\u001b[0m\u001b[0m\n\u001b[1;32m      4\u001b[0m \u001b[0;34m\u001b[0m\u001b[0m\n\u001b[1;32m      5\u001b[0m         \u001b[0;32mif\u001b[0m \u001b[0mkind\u001b[0m\u001b[0;34m==\u001b[0m\u001b[0;34m'train'\u001b[0m\u001b[0;34m:\u001b[0m\u001b[0;34m\u001b[0m\u001b[0;34m\u001b[0m\u001b[0m\n",
      "\u001b[0;31mNameError\u001b[0m: name 'Dataset' is not defined"
     ]
    }
   ],
   "source": [
    "class ESC10_DataGenerator(Dataset):\n",
    "    \n",
    "    def __init__(self, path, kind='train', transform=None):\n",
    "        \n",
    "        if kind=='train':\n",
    "            files = Path(path).glob('[1-4]-*')\n",
    "        if kind=='test':\n",
    "            files = Path(path).glob('[5]-*')\n",
    "        \n",
    "        self.items = [(str(file), file.name.split('-')[-1].replace('.wav', '')) for file in files]\n",
    "        self.length = len(self.items)\n",
    "        self.transform = transform\n",
    "        \n",
    "    def __len__(self):\n",
    "        return self.length\n",
    "    \n",
    "    def __getitem__(self, index):\n",
    "        filename, label = self.items[index]\n",
    "        data_tensor, rate = torchaudio.load(filename)\n",
    "        \n",
    "        sample = (data_tensor.numpy(), int(label))\n",
    "        if self.transform is not None:\n",
    "            sample = self.transform(sample)\n",
    "        \n",
    "        return sample"
   ]
  },
  {
   "cell_type": "code",
   "execution_count": null,
   "id": "0246094b",
   "metadata": {},
   "outputs": [],
   "source": [
    "class ToTensor_onehot(object):\n",
    "    \"\"\"Convert sample to Tensors.\"\"\"\n",
    "    def __init__(self, n_classes=2):\n",
    "        self.n_classes = n_classes\n",
    "\n",
    "    def __call__(self, sample):\n",
    "        x, y = sample\n",
    "        # Convert from ESC50 to ESC10\n",
    "        y = y // 5\n",
    "        # One-hot encoding\n",
    "        y = np.eye(self.n_classes)[y]\n",
    "        return ( torch.from_numpy(x), torch.tensor([y]) )\n",
    "    \n",
    "class Compute_FFT(object):\n",
    "    def __call__(self, sample):\n",
    "        x, y = sample\n",
    "        fft = torch.fft.fft(x.flatten(), norm='forward')\n",
    "        return (fft, y)"
   ]
  },
  {
   "cell_type": "code",
   "execution_count": null,
   "id": "c735f641",
   "metadata": {},
   "outputs": [],
   "source": [
    "fig, ax = plt.subplots(1,2,figsize=(12,5))\n",
    "\n",
    "esc_path = 'data/ESC-50-master/audio/'\n",
    "\n",
    "wave = torch.tensor(ESC10_DataGenerator(path = esc_path, kind = 'train')[0][0])\n",
    "ax[0].plot(wave.flatten())\n",
    "ax[1].plot(torch.nn.functional.avg_pool1d(wave.unsqueeze(0), kernel_size=3, stride=8).flatten())"
   ]
  },
  {
   "cell_type": "code",
   "execution_count": null,
   "id": "80838306",
   "metadata": {},
   "outputs": [],
   "source": [
    "def build_dataloaders(data_dir, composed_transform, batch_size=32):\n",
    "    \n",
    "    train_dataloader = DataLoader(ESC10_DataGenerator(path = data_dir,\n",
    "                                                      kind = 'train',\n",
    "                                                      transform=composed_transform),\n",
    "                                  batch_size=batch_size, shuffle=True)\n",
    "\n",
    "    test_dataloader = DataLoader(ESC10_DataGenerator(path = data_dir,\n",
    "                                                      kind = 'test',\n",
    "                                                      transform=composed_transform),\n",
    "                                  batch_size=batch_size, shuffle=True)\n",
    "    \n",
    "    return train_dataloader, test_dataloader"
   ]
  },
  {
   "cell_type": "code",
   "execution_count": null,
   "id": "2e015078",
   "metadata": {},
   "outputs": [],
   "source": [
    "esc_path = 'data/ESC-50-master/audio/'\n",
    "batch_size = 64\n",
    "data_transform = transforms.Compose([ToTensor_onehot(n_classes=10), Squeeze(), Compute_FFT()])"
   ]
  },
  {
   "cell_type": "code",
   "execution_count": null,
   "id": "c5449def",
   "metadata": {},
   "outputs": [],
   "source": [
    "train_dl, test_dl = build_dataloaders(esc_path, data_transform, batch_size=batch_size)\n",
    "\n",
    "batch_sample = next(iter(train_dl))\n",
    "print('Data shapes:\\n x-> {} y-> {}'.format(batch_sample[0].shape, batch_sample[1].shape))\n",
    "print('\\nNumber of samples in the datasets: \\n  Training set: {0} \\n  Test set: {1}'.format(len(train_dl)*batch_size, len(test_dl)*batch_size))"
   ]
  },
  {
   "cell_type": "code",
   "execution_count": null,
   "id": "76ac8c79",
   "metadata": {},
   "outputs": [],
   "source": []
  },
  {
   "cell_type": "code",
   "execution_count": null,
   "id": "38232b62",
   "metadata": {},
   "outputs": [],
   "source": []
  },
  {
   "cell_type": "code",
   "execution_count": 54,
   "id": "b516d0c0",
   "metadata": {},
   "outputs": [],
   "source": [
    "from complex_nn.dummy import CmplxBatchNorm\n",
    "from complex_nn.layers import Cmplx_Normalization"
   ]
  },
  {
   "cell_type": "code",
   "execution_count": 61,
   "id": "5c4df66e",
   "metadata": {},
   "outputs": [],
   "source": [
    "class ComplexMLP(hk.Module):\n",
    "    \n",
    "    def __init__(self):\n",
    "        super().__init__()\n",
    "        self.fc1 = Cmplx_Linear(64)\n",
    "        self.fc2 = Cmplx_Linear(32)\n",
    "        self.fc3 = Cmplx_Linear(10)\n",
    "        \n",
    "        self.batchnorm_2D = hk.BatchNorm(create_scale=True, create_offset=True, decay_rate=0.9, data_format='NCHW')\n",
    "        self.batchnorm_1D = hk.BatchNorm(create_scale=True, create_offset=True, decay_rate=0.5, data_format='NC')\n",
    "        self.norm = Cmplx_Normalization()\n",
    "        self.dropout = Dropout(0.3)\n",
    "        self.flatten = hk.Flatten()\n",
    "        \n",
    "        \n",
    "        self.act = cardioid\n",
    "        \n",
    "    def __call__(self, z, is_training):\n",
    "        z = self.flatten(z)\n",
    "        z = self.act(self.fc1(z))\n",
    "        z = self.norm(z)\n",
    "        z = self.dropout(z)\n",
    "        z = self.act(self.fc2(z))\n",
    "        z = self.fc3(z)\n",
    "        return z"
   ]
  },
  {
   "cell_type": "code",
   "execution_count": 56,
   "id": "484a899a",
   "metadata": {},
   "outputs": [],
   "source": [
    "from complex_nn.optimizers import cmplx_adam\n",
    "from complex_nn.layers import Cmplx_Linear, Dropout\n",
    "from complex_nn.activations import cardioid"
   ]
  },
  {
   "cell_type": "code",
   "execution_count": 57,
   "id": "adbeb874",
   "metadata": {},
   "outputs": [],
   "source": [
    "from complex_nn import Classifier_wrapper \n",
    "reload(Classifier_wrapper)\n",
    "from complex_nn.Classifier_wrapper import Haiku_Classifier\n",
    "from complex_nn.utils import small_training_summary"
   ]
  },
  {
   "cell_type": "code",
   "execution_count": 118,
   "id": "e08477d2",
   "metadata": {},
   "outputs": [],
   "source": [
    "from complex_nn import layers\n",
    "reload(layers)\n",
    "from complex_nn.layers import Cmplx_Normalization"
   ]
  },
  {
   "cell_type": "code",
   "execution_count": 119,
   "id": "92fd92bc",
   "metadata": {},
   "outputs": [
    {
     "data": {
      "application/vnd.jupyter.widget-view+json": {
       "model_id": "",
       "version_major": 2,
       "version_minor": 0
      },
      "text/plain": [
       "Training for several epochs:   0%|          | 0/50 [00:00<?, ?it/s]"
      ]
     },
     "metadata": {},
     "output_type": "display_data"
    },
    {
     "data": {
      "application/vnd.jupyter.widget-view+json": {
       "model_id": "",
       "version_major": 2,
       "version_minor": 0
      },
      "text/plain": [
       "Looping over the minibatches:   0%|          | 0/235 [00:00<?, ?it/s]"
      ]
     },
     "metadata": {},
     "output_type": "display_data"
    },
    {
     "data": {
      "application/vnd.jupyter.widget-view+json": {
       "model_id": "",
       "version_major": 2,
       "version_minor": 0
      },
      "text/plain": [
       "Computing the validation metrics:   0%|          | 0/79 [00:00<?, ?it/s]"
      ]
     },
     "metadata": {},
     "output_type": "display_data"
    },
    {
     "data": {
      "application/vnd.jupyter.widget-view+json": {
       "model_id": "",
       "version_major": 2,
       "version_minor": 0
      },
      "text/plain": [
       "Looping over the minibatches:   0%|          | 0/235 [00:00<?, ?it/s]"
      ]
     },
     "metadata": {},
     "output_type": "display_data"
    },
    {
     "data": {
      "application/vnd.jupyter.widget-view+json": {
       "model_id": "",
       "version_major": 2,
       "version_minor": 0
      },
      "text/plain": [
       "Computing the validation metrics:   0%|          | 0/79 [00:00<?, ?it/s]"
      ]
     },
     "metadata": {},
     "output_type": "display_data"
    },
    {
     "data": {
      "application/vnd.jupyter.widget-view+json": {
       "model_id": "",
       "version_major": 2,
       "version_minor": 0
      },
      "text/plain": [
       "Looping over the minibatches:   0%|          | 0/235 [00:00<?, ?it/s]"
      ]
     },
     "metadata": {},
     "output_type": "display_data"
    },
    {
     "data": {
      "application/vnd.jupyter.widget-view+json": {
       "model_id": "",
       "version_major": 2,
       "version_minor": 0
      },
      "text/plain": [
       "Computing the validation metrics:   0%|          | 0/79 [00:00<?, ?it/s]"
      ]
     },
     "metadata": {},
     "output_type": "display_data"
    },
    {
     "data": {
      "application/vnd.jupyter.widget-view+json": {
       "model_id": "",
       "version_major": 2,
       "version_minor": 0
      },
      "text/plain": [
       "Looping over the minibatches:   0%|          | 0/235 [00:00<?, ?it/s]"
      ]
     },
     "metadata": {},
     "output_type": "display_data"
    },
    {
     "data": {
      "application/vnd.jupyter.widget-view+json": {
       "model_id": "",
       "version_major": 2,
       "version_minor": 0
      },
      "text/plain": [
       "Computing the validation metrics:   0%|          | 0/79 [00:00<?, ?it/s]"
      ]
     },
     "metadata": {},
     "output_type": "display_data"
    },
    {
     "data": {
      "application/vnd.jupyter.widget-view+json": {
       "model_id": "",
       "version_major": 2,
       "version_minor": 0
      },
      "text/plain": [
       "Looping over the minibatches:   0%|          | 0/235 [00:00<?, ?it/s]"
      ]
     },
     "metadata": {},
     "output_type": "display_data"
    },
    {
     "data": {
      "application/vnd.jupyter.widget-view+json": {
       "model_id": "",
       "version_major": 2,
       "version_minor": 0
      },
      "text/plain": [
       "Computing the validation metrics:   0%|          | 0/79 [00:00<?, ?it/s]"
      ]
     },
     "metadata": {},
     "output_type": "display_data"
    },
    {
     "data": {
      "application/vnd.jupyter.widget-view+json": {
       "model_id": "",
       "version_major": 2,
       "version_minor": 0
      },
      "text/plain": [
       "Looping over the minibatches:   0%|          | 0/235 [00:00<?, ?it/s]"
      ]
     },
     "metadata": {},
     "output_type": "display_data"
    },
    {
     "data": {
      "application/vnd.jupyter.widget-view+json": {
       "model_id": "",
       "version_major": 2,
       "version_minor": 0
      },
      "text/plain": [
       "Computing the validation metrics:   0%|          | 0/79 [00:00<?, ?it/s]"
      ]
     },
     "metadata": {},
     "output_type": "display_data"
    },
    {
     "data": {
      "application/vnd.jupyter.widget-view+json": {
       "model_id": "",
       "version_major": 2,
       "version_minor": 0
      },
      "text/plain": [
       "Looping over the minibatches:   0%|          | 0/235 [00:00<?, ?it/s]"
      ]
     },
     "metadata": {},
     "output_type": "display_data"
    },
    {
     "data": {
      "application/vnd.jupyter.widget-view+json": {
       "model_id": "",
       "version_major": 2,
       "version_minor": 0
      },
      "text/plain": [
       "Computing the validation metrics:   0%|          | 0/79 [00:00<?, ?it/s]"
      ]
     },
     "metadata": {},
     "output_type": "display_data"
    },
    {
     "data": {
      "application/vnd.jupyter.widget-view+json": {
       "model_id": "",
       "version_major": 2,
       "version_minor": 0
      },
      "text/plain": [
       "Looping over the minibatches:   0%|          | 0/235 [00:00<?, ?it/s]"
      ]
     },
     "metadata": {},
     "output_type": "display_data"
    },
    {
     "data": {
      "application/vnd.jupyter.widget-view+json": {
       "model_id": "",
       "version_major": 2,
       "version_minor": 0
      },
      "text/plain": [
       "Computing the validation metrics:   0%|          | 0/79 [00:00<?, ?it/s]"
      ]
     },
     "metadata": {},
     "output_type": "display_data"
    },
    {
     "data": {
      "application/vnd.jupyter.widget-view+json": {
       "model_id": "",
       "version_major": 2,
       "version_minor": 0
      },
      "text/plain": [
       "Looping over the minibatches:   0%|          | 0/235 [00:00<?, ?it/s]"
      ]
     },
     "metadata": {},
     "output_type": "display_data"
    },
    {
     "data": {
      "application/vnd.jupyter.widget-view+json": {
       "model_id": "",
       "version_major": 2,
       "version_minor": 0
      },
      "text/plain": [
       "Computing the validation metrics:   0%|          | 0/79 [00:00<?, ?it/s]"
      ]
     },
     "metadata": {},
     "output_type": "display_data"
    },
    {
     "data": {
      "application/vnd.jupyter.widget-view+json": {
       "model_id": "",
       "version_major": 2,
       "version_minor": 0
      },
      "text/plain": [
       "Looping over the minibatches:   0%|          | 0/235 [00:00<?, ?it/s]"
      ]
     },
     "metadata": {},
     "output_type": "display_data"
    },
    {
     "data": {
      "application/vnd.jupyter.widget-view+json": {
       "model_id": "",
       "version_major": 2,
       "version_minor": 0
      },
      "text/plain": [
       "Computing the validation metrics:   0%|          | 0/79 [00:00<?, ?it/s]"
      ]
     },
     "metadata": {},
     "output_type": "display_data"
    },
    {
     "data": {
      "application/vnd.jupyter.widget-view+json": {
       "model_id": "",
       "version_major": 2,
       "version_minor": 0
      },
      "text/plain": [
       "Looping over the minibatches:   0%|          | 0/235 [00:00<?, ?it/s]"
      ]
     },
     "metadata": {},
     "output_type": "display_data"
    },
    {
     "data": {
      "application/vnd.jupyter.widget-view+json": {
       "model_id": "",
       "version_major": 2,
       "version_minor": 0
      },
      "text/plain": [
       "Computing the validation metrics:   0%|          | 0/79 [00:00<?, ?it/s]"
      ]
     },
     "metadata": {},
     "output_type": "display_data"
    },
    {
     "data": {
      "application/vnd.jupyter.widget-view+json": {
       "model_id": "",
       "version_major": 2,
       "version_minor": 0
      },
      "text/plain": [
       "Looping over the minibatches:   0%|          | 0/235 [00:00<?, ?it/s]"
      ]
     },
     "metadata": {},
     "output_type": "display_data"
    },
    {
     "data": {
      "application/vnd.jupyter.widget-view+json": {
       "model_id": "",
       "version_major": 2,
       "version_minor": 0
      },
      "text/plain": [
       "Computing the validation metrics:   0%|          | 0/79 [00:00<?, ?it/s]"
      ]
     },
     "metadata": {},
     "output_type": "display_data"
    },
    {
     "data": {
      "application/vnd.jupyter.widget-view+json": {
       "model_id": "",
       "version_major": 2,
       "version_minor": 0
      },
      "text/plain": [
       "Looping over the minibatches:   0%|          | 0/235 [00:00<?, ?it/s]"
      ]
     },
     "metadata": {},
     "output_type": "display_data"
    },
    {
     "data": {
      "application/vnd.jupyter.widget-view+json": {
       "model_id": "",
       "version_major": 2,
       "version_minor": 0
      },
      "text/plain": [
       "Computing the validation metrics:   0%|          | 0/79 [00:00<?, ?it/s]"
      ]
     },
     "metadata": {},
     "output_type": "display_data"
    },
    {
     "data": {
      "application/vnd.jupyter.widget-view+json": {
       "model_id": "",
       "version_major": 2,
       "version_minor": 0
      },
      "text/plain": [
       "Looping over the minibatches:   0%|          | 0/235 [00:00<?, ?it/s]"
      ]
     },
     "metadata": {},
     "output_type": "display_data"
    },
    {
     "data": {
      "application/vnd.jupyter.widget-view+json": {
       "model_id": "",
       "version_major": 2,
       "version_minor": 0
      },
      "text/plain": [
       "Computing the validation metrics:   0%|          | 0/79 [00:00<?, ?it/s]"
      ]
     },
     "metadata": {},
     "output_type": "display_data"
    },
    {
     "data": {
      "application/vnd.jupyter.widget-view+json": {
       "model_id": "",
       "version_major": 2,
       "version_minor": 0
      },
      "text/plain": [
       "Looping over the minibatches:   0%|          | 0/235 [00:00<?, ?it/s]"
      ]
     },
     "metadata": {},
     "output_type": "display_data"
    },
    {
     "data": {
      "application/vnd.jupyter.widget-view+json": {
       "model_id": "",
       "version_major": 2,
       "version_minor": 0
      },
      "text/plain": [
       "Computing the validation metrics:   0%|          | 0/79 [00:00<?, ?it/s]"
      ]
     },
     "metadata": {},
     "output_type": "display_data"
    },
    {
     "data": {
      "application/vnd.jupyter.widget-view+json": {
       "model_id": "",
       "version_major": 2,
       "version_minor": 0
      },
      "text/plain": [
       "Looping over the minibatches:   0%|          | 0/235 [00:00<?, ?it/s]"
      ]
     },
     "metadata": {},
     "output_type": "display_data"
    },
    {
     "data": {
      "application/vnd.jupyter.widget-view+json": {
       "model_id": "",
       "version_major": 2,
       "version_minor": 0
      },
      "text/plain": [
       "Computing the validation metrics:   0%|          | 0/79 [00:00<?, ?it/s]"
      ]
     },
     "metadata": {},
     "output_type": "display_data"
    },
    {
     "data": {
      "application/vnd.jupyter.widget-view+json": {
       "model_id": "",
       "version_major": 2,
       "version_minor": 0
      },
      "text/plain": [
       "Looping over the minibatches:   0%|          | 0/235 [00:00<?, ?it/s]"
      ]
     },
     "metadata": {},
     "output_type": "display_data"
    },
    {
     "data": {
      "application/vnd.jupyter.widget-view+json": {
       "model_id": "",
       "version_major": 2,
       "version_minor": 0
      },
      "text/plain": [
       "Computing the validation metrics:   0%|          | 0/79 [00:00<?, ?it/s]"
      ]
     },
     "metadata": {},
     "output_type": "display_data"
    },
    {
     "data": {
      "application/vnd.jupyter.widget-view+json": {
       "model_id": "",
       "version_major": 2,
       "version_minor": 0
      },
      "text/plain": [
       "Looping over the minibatches:   0%|          | 0/235 [00:00<?, ?it/s]"
      ]
     },
     "metadata": {},
     "output_type": "display_data"
    },
    {
     "data": {
      "application/vnd.jupyter.widget-view+json": {
       "model_id": "",
       "version_major": 2,
       "version_minor": 0
      },
      "text/plain": [
       "Computing the validation metrics:   0%|          | 0/79 [00:00<?, ?it/s]"
      ]
     },
     "metadata": {},
     "output_type": "display_data"
    },
    {
     "data": {
      "application/vnd.jupyter.widget-view+json": {
       "model_id": "",
       "version_major": 2,
       "version_minor": 0
      },
      "text/plain": [
       "Looping over the minibatches:   0%|          | 0/235 [00:00<?, ?it/s]"
      ]
     },
     "metadata": {},
     "output_type": "display_data"
    },
    {
     "data": {
      "application/vnd.jupyter.widget-view+json": {
       "model_id": "",
       "version_major": 2,
       "version_minor": 0
      },
      "text/plain": [
       "Computing the validation metrics:   0%|          | 0/79 [00:00<?, ?it/s]"
      ]
     },
     "metadata": {},
     "output_type": "display_data"
    },
    {
     "data": {
      "application/vnd.jupyter.widget-view+json": {
       "model_id": "",
       "version_major": 2,
       "version_minor": 0
      },
      "text/plain": [
       "Looping over the minibatches:   0%|          | 0/235 [00:00<?, ?it/s]"
      ]
     },
     "metadata": {},
     "output_type": "display_data"
    },
    {
     "data": {
      "application/vnd.jupyter.widget-view+json": {
       "model_id": "",
       "version_major": 2,
       "version_minor": 0
      },
      "text/plain": [
       "Computing the validation metrics:   0%|          | 0/79 [00:00<?, ?it/s]"
      ]
     },
     "metadata": {},
     "output_type": "display_data"
    },
    {
     "data": {
      "application/vnd.jupyter.widget-view+json": {
       "model_id": "",
       "version_major": 2,
       "version_minor": 0
      },
      "text/plain": [
       "Looping over the minibatches:   0%|          | 0/235 [00:00<?, ?it/s]"
      ]
     },
     "metadata": {},
     "output_type": "display_data"
    },
    {
     "data": {
      "application/vnd.jupyter.widget-view+json": {
       "model_id": "",
       "version_major": 2,
       "version_minor": 0
      },
      "text/plain": [
       "Computing the validation metrics:   0%|          | 0/79 [00:00<?, ?it/s]"
      ]
     },
     "metadata": {},
     "output_type": "display_data"
    },
    {
     "data": {
      "application/vnd.jupyter.widget-view+json": {
       "model_id": "",
       "version_major": 2,
       "version_minor": 0
      },
      "text/plain": [
       "Looping over the minibatches:   0%|          | 0/235 [00:00<?, ?it/s]"
      ]
     },
     "metadata": {},
     "output_type": "display_data"
    },
    {
     "data": {
      "application/vnd.jupyter.widget-view+json": {
       "model_id": "",
       "version_major": 2,
       "version_minor": 0
      },
      "text/plain": [
       "Computing the validation metrics:   0%|          | 0/79 [00:00<?, ?it/s]"
      ]
     },
     "metadata": {},
     "output_type": "display_data"
    },
    {
     "data": {
      "application/vnd.jupyter.widget-view+json": {
       "model_id": "",
       "version_major": 2,
       "version_minor": 0
      },
      "text/plain": [
       "Looping over the minibatches:   0%|          | 0/235 [00:00<?, ?it/s]"
      ]
     },
     "metadata": {},
     "output_type": "display_data"
    },
    {
     "data": {
      "application/vnd.jupyter.widget-view+json": {
       "model_id": "",
       "version_major": 2,
       "version_minor": 0
      },
      "text/plain": [
       "Computing the validation metrics:   0%|          | 0/79 [00:00<?, ?it/s]"
      ]
     },
     "metadata": {},
     "output_type": "display_data"
    },
    {
     "data": {
      "application/vnd.jupyter.widget-view+json": {
       "model_id": "",
       "version_major": 2,
       "version_minor": 0
      },
      "text/plain": [
       "Looping over the minibatches:   0%|          | 0/235 [00:00<?, ?it/s]"
      ]
     },
     "metadata": {},
     "output_type": "display_data"
    },
    {
     "data": {
      "application/vnd.jupyter.widget-view+json": {
       "model_id": "",
       "version_major": 2,
       "version_minor": 0
      },
      "text/plain": [
       "Computing the validation metrics:   0%|          | 0/79 [00:00<?, ?it/s]"
      ]
     },
     "metadata": {},
     "output_type": "display_data"
    },
    {
     "data": {
      "application/vnd.jupyter.widget-view+json": {
       "model_id": "",
       "version_major": 2,
       "version_minor": 0
      },
      "text/plain": [
       "Looping over the minibatches:   0%|          | 0/235 [00:00<?, ?it/s]"
      ]
     },
     "metadata": {},
     "output_type": "display_data"
    },
    {
     "data": {
      "application/vnd.jupyter.widget-view+json": {
       "model_id": "",
       "version_major": 2,
       "version_minor": 0
      },
      "text/plain": [
       "Computing the validation metrics:   0%|          | 0/79 [00:00<?, ?it/s]"
      ]
     },
     "metadata": {},
     "output_type": "display_data"
    },
    {
     "data": {
      "application/vnd.jupyter.widget-view+json": {
       "model_id": "",
       "version_major": 2,
       "version_minor": 0
      },
      "text/plain": [
       "Looping over the minibatches:   0%|          | 0/235 [00:00<?, ?it/s]"
      ]
     },
     "metadata": {},
     "output_type": "display_data"
    },
    {
     "data": {
      "application/vnd.jupyter.widget-view+json": {
       "model_id": "",
       "version_major": 2,
       "version_minor": 0
      },
      "text/plain": [
       "Computing the validation metrics:   0%|          | 0/79 [00:00<?, ?it/s]"
      ]
     },
     "metadata": {},
     "output_type": "display_data"
    },
    {
     "data": {
      "application/vnd.jupyter.widget-view+json": {
       "model_id": "",
       "version_major": 2,
       "version_minor": 0
      },
      "text/plain": [
       "Looping over the minibatches:   0%|          | 0/235 [00:00<?, ?it/s]"
      ]
     },
     "metadata": {},
     "output_type": "display_data"
    },
    {
     "data": {
      "application/vnd.jupyter.widget-view+json": {
       "model_id": "",
       "version_major": 2,
       "version_minor": 0
      },
      "text/plain": [
       "Computing the validation metrics:   0%|          | 0/79 [00:00<?, ?it/s]"
      ]
     },
     "metadata": {},
     "output_type": "display_data"
    },
    {
     "data": {
      "application/vnd.jupyter.widget-view+json": {
       "model_id": "",
       "version_major": 2,
       "version_minor": 0
      },
      "text/plain": [
       "Looping over the minibatches:   0%|          | 0/235 [00:00<?, ?it/s]"
      ]
     },
     "metadata": {},
     "output_type": "display_data"
    },
    {
     "data": {
      "application/vnd.jupyter.widget-view+json": {
       "model_id": "",
       "version_major": 2,
       "version_minor": 0
      },
      "text/plain": [
       "Computing the validation metrics:   0%|          | 0/79 [00:00<?, ?it/s]"
      ]
     },
     "metadata": {},
     "output_type": "display_data"
    },
    {
     "data": {
      "application/vnd.jupyter.widget-view+json": {
       "model_id": "",
       "version_major": 2,
       "version_minor": 0
      },
      "text/plain": [
       "Looping over the minibatches:   0%|          | 0/235 [00:00<?, ?it/s]"
      ]
     },
     "metadata": {},
     "output_type": "display_data"
    },
    {
     "data": {
      "application/vnd.jupyter.widget-view+json": {
       "model_id": "",
       "version_major": 2,
       "version_minor": 0
      },
      "text/plain": [
       "Computing the validation metrics:   0%|          | 0/79 [00:00<?, ?it/s]"
      ]
     },
     "metadata": {},
     "output_type": "display_data"
    },
    {
     "data": {
      "application/vnd.jupyter.widget-view+json": {
       "model_id": "",
       "version_major": 2,
       "version_minor": 0
      },
      "text/plain": [
       "Looping over the minibatches:   0%|          | 0/235 [00:00<?, ?it/s]"
      ]
     },
     "metadata": {},
     "output_type": "display_data"
    },
    {
     "data": {
      "application/vnd.jupyter.widget-view+json": {
       "model_id": "",
       "version_major": 2,
       "version_minor": 0
      },
      "text/plain": [
       "Computing the validation metrics:   0%|          | 0/79 [00:00<?, ?it/s]"
      ]
     },
     "metadata": {},
     "output_type": "display_data"
    },
    {
     "data": {
      "application/vnd.jupyter.widget-view+json": {
       "model_id": "",
       "version_major": 2,
       "version_minor": 0
      },
      "text/plain": [
       "Looping over the minibatches:   0%|          | 0/235 [00:00<?, ?it/s]"
      ]
     },
     "metadata": {},
     "output_type": "display_data"
    },
    {
     "data": {
      "application/vnd.jupyter.widget-view+json": {
       "model_id": "",
       "version_major": 2,
       "version_minor": 0
      },
      "text/plain": [
       "Computing the validation metrics:   0%|          | 0/79 [00:00<?, ?it/s]"
      ]
     },
     "metadata": {},
     "output_type": "display_data"
    },
    {
     "data": {
      "application/vnd.jupyter.widget-view+json": {
       "model_id": "",
       "version_major": 2,
       "version_minor": 0
      },
      "text/plain": [
       "Looping over the minibatches:   0%|          | 0/235 [00:00<?, ?it/s]"
      ]
     },
     "metadata": {},
     "output_type": "display_data"
    },
    {
     "data": {
      "application/vnd.jupyter.widget-view+json": {
       "model_id": "",
       "version_major": 2,
       "version_minor": 0
      },
      "text/plain": [
       "Computing the validation metrics:   0%|          | 0/79 [00:00<?, ?it/s]"
      ]
     },
     "metadata": {},
     "output_type": "display_data"
    },
    {
     "data": {
      "application/vnd.jupyter.widget-view+json": {
       "model_id": "",
       "version_major": 2,
       "version_minor": 0
      },
      "text/plain": [
       "Looping over the minibatches:   0%|          | 0/235 [00:00<?, ?it/s]"
      ]
     },
     "metadata": {},
     "output_type": "display_data"
    },
    {
     "data": {
      "application/vnd.jupyter.widget-view+json": {
       "model_id": "",
       "version_major": 2,
       "version_minor": 0
      },
      "text/plain": [
       "Computing the validation metrics:   0%|          | 0/79 [00:00<?, ?it/s]"
      ]
     },
     "metadata": {},
     "output_type": "display_data"
    },
    {
     "data": {
      "application/vnd.jupyter.widget-view+json": {
       "model_id": "",
       "version_major": 2,
       "version_minor": 0
      },
      "text/plain": [
       "Looping over the minibatches:   0%|          | 0/235 [00:00<?, ?it/s]"
      ]
     },
     "metadata": {},
     "output_type": "display_data"
    },
    {
     "data": {
      "application/vnd.jupyter.widget-view+json": {
       "model_id": "",
       "version_major": 2,
       "version_minor": 0
      },
      "text/plain": [
       "Computing the validation metrics:   0%|          | 0/79 [00:00<?, ?it/s]"
      ]
     },
     "metadata": {},
     "output_type": "display_data"
    },
    {
     "data": {
      "application/vnd.jupyter.widget-view+json": {
       "model_id": "",
       "version_major": 2,
       "version_minor": 0
      },
      "text/plain": [
       "Looping over the minibatches:   0%|          | 0/235 [00:00<?, ?it/s]"
      ]
     },
     "metadata": {},
     "output_type": "display_data"
    },
    {
     "data": {
      "application/vnd.jupyter.widget-view+json": {
       "model_id": "",
       "version_major": 2,
       "version_minor": 0
      },
      "text/plain": [
       "Computing the validation metrics:   0%|          | 0/79 [00:00<?, ?it/s]"
      ]
     },
     "metadata": {},
     "output_type": "display_data"
    },
    {
     "data": {
      "application/vnd.jupyter.widget-view+json": {
       "model_id": "",
       "version_major": 2,
       "version_minor": 0
      },
      "text/plain": [
       "Looping over the minibatches:   0%|          | 0/235 [00:00<?, ?it/s]"
      ]
     },
     "metadata": {},
     "output_type": "display_data"
    },
    {
     "data": {
      "application/vnd.jupyter.widget-view+json": {
       "model_id": "",
       "version_major": 2,
       "version_minor": 0
      },
      "text/plain": [
       "Computing the validation metrics:   0%|          | 0/79 [00:00<?, ?it/s]"
      ]
     },
     "metadata": {},
     "output_type": "display_data"
    },
    {
     "data": {
      "application/vnd.jupyter.widget-view+json": {
       "model_id": "",
       "version_major": 2,
       "version_minor": 0
      },
      "text/plain": [
       "Looping over the minibatches:   0%|          | 0/235 [00:00<?, ?it/s]"
      ]
     },
     "metadata": {},
     "output_type": "display_data"
    },
    {
     "data": {
      "application/vnd.jupyter.widget-view+json": {
       "model_id": "",
       "version_major": 2,
       "version_minor": 0
      },
      "text/plain": [
       "Computing the validation metrics:   0%|          | 0/79 [00:00<?, ?it/s]"
      ]
     },
     "metadata": {},
     "output_type": "display_data"
    },
    {
     "data": {
      "application/vnd.jupyter.widget-view+json": {
       "model_id": "",
       "version_major": 2,
       "version_minor": 0
      },
      "text/plain": [
       "Looping over the minibatches:   0%|          | 0/235 [00:00<?, ?it/s]"
      ]
     },
     "metadata": {},
     "output_type": "display_data"
    },
    {
     "data": {
      "application/vnd.jupyter.widget-view+json": {
       "model_id": "",
       "version_major": 2,
       "version_minor": 0
      },
      "text/plain": [
       "Computing the validation metrics:   0%|          | 0/79 [00:00<?, ?it/s]"
      ]
     },
     "metadata": {},
     "output_type": "display_data"
    },
    {
     "data": {
      "application/vnd.jupyter.widget-view+json": {
       "model_id": "",
       "version_major": 2,
       "version_minor": 0
      },
      "text/plain": [
       "Looping over the minibatches:   0%|          | 0/235 [00:00<?, ?it/s]"
      ]
     },
     "metadata": {},
     "output_type": "display_data"
    },
    {
     "data": {
      "application/vnd.jupyter.widget-view+json": {
       "model_id": "",
       "version_major": 2,
       "version_minor": 0
      },
      "text/plain": [
       "Computing the validation metrics:   0%|          | 0/79 [00:00<?, ?it/s]"
      ]
     },
     "metadata": {},
     "output_type": "display_data"
    },
    {
     "data": {
      "application/vnd.jupyter.widget-view+json": {
       "model_id": "",
       "version_major": 2,
       "version_minor": 0
      },
      "text/plain": [
       "Looping over the minibatches:   0%|          | 0/235 [00:00<?, ?it/s]"
      ]
     },
     "metadata": {},
     "output_type": "display_data"
    },
    {
     "data": {
      "application/vnd.jupyter.widget-view+json": {
       "model_id": "",
       "version_major": 2,
       "version_minor": 0
      },
      "text/plain": [
       "Computing the validation metrics:   0%|          | 0/79 [00:00<?, ?it/s]"
      ]
     },
     "metadata": {},
     "output_type": "display_data"
    },
    {
     "data": {
      "application/vnd.jupyter.widget-view+json": {
       "model_id": "",
       "version_major": 2,
       "version_minor": 0
      },
      "text/plain": [
       "Looping over the minibatches:   0%|          | 0/235 [00:00<?, ?it/s]"
      ]
     },
     "metadata": {},
     "output_type": "display_data"
    },
    {
     "data": {
      "application/vnd.jupyter.widget-view+json": {
       "model_id": "",
       "version_major": 2,
       "version_minor": 0
      },
      "text/plain": [
       "Computing the validation metrics:   0%|          | 0/79 [00:00<?, ?it/s]"
      ]
     },
     "metadata": {},
     "output_type": "display_data"
    },
    {
     "data": {
      "application/vnd.jupyter.widget-view+json": {
       "model_id": "",
       "version_major": 2,
       "version_minor": 0
      },
      "text/plain": [
       "Looping over the minibatches:   0%|          | 0/235 [00:00<?, ?it/s]"
      ]
     },
     "metadata": {},
     "output_type": "display_data"
    },
    {
     "data": {
      "application/vnd.jupyter.widget-view+json": {
       "model_id": "",
       "version_major": 2,
       "version_minor": 0
      },
      "text/plain": [
       "Computing the validation metrics:   0%|          | 0/79 [00:00<?, ?it/s]"
      ]
     },
     "metadata": {},
     "output_type": "display_data"
    },
    {
     "data": {
      "application/vnd.jupyter.widget-view+json": {
       "model_id": "",
       "version_major": 2,
       "version_minor": 0
      },
      "text/plain": [
       "Looping over the minibatches:   0%|          | 0/235 [00:00<?, ?it/s]"
      ]
     },
     "metadata": {},
     "output_type": "display_data"
    },
    {
     "data": {
      "application/vnd.jupyter.widget-view+json": {
       "model_id": "",
       "version_major": 2,
       "version_minor": 0
      },
      "text/plain": [
       "Computing the validation metrics:   0%|          | 0/79 [00:00<?, ?it/s]"
      ]
     },
     "metadata": {},
     "output_type": "display_data"
    },
    {
     "data": {
      "application/vnd.jupyter.widget-view+json": {
       "model_id": "",
       "version_major": 2,
       "version_minor": 0
      },
      "text/plain": [
       "Looping over the minibatches:   0%|          | 0/235 [00:00<?, ?it/s]"
      ]
     },
     "metadata": {},
     "output_type": "display_data"
    },
    {
     "data": {
      "application/vnd.jupyter.widget-view+json": {
       "model_id": "",
       "version_major": 2,
       "version_minor": 0
      },
      "text/plain": [
       "Computing the validation metrics:   0%|          | 0/79 [00:00<?, ?it/s]"
      ]
     },
     "metadata": {},
     "output_type": "display_data"
    },
    {
     "data": {
      "application/vnd.jupyter.widget-view+json": {
       "model_id": "",
       "version_major": 2,
       "version_minor": 0
      },
      "text/plain": [
       "Looping over the minibatches:   0%|          | 0/235 [00:00<?, ?it/s]"
      ]
     },
     "metadata": {},
     "output_type": "display_data"
    },
    {
     "data": {
      "application/vnd.jupyter.widget-view+json": {
       "model_id": "",
       "version_major": 2,
       "version_minor": 0
      },
      "text/plain": [
       "Computing the validation metrics:   0%|          | 0/79 [00:00<?, ?it/s]"
      ]
     },
     "metadata": {},
     "output_type": "display_data"
    },
    {
     "data": {
      "application/vnd.jupyter.widget-view+json": {
       "model_id": "",
       "version_major": 2,
       "version_minor": 0
      },
      "text/plain": [
       "Looping over the minibatches:   0%|          | 0/235 [00:00<?, ?it/s]"
      ]
     },
     "metadata": {},
     "output_type": "display_data"
    },
    {
     "data": {
      "application/vnd.jupyter.widget-view+json": {
       "model_id": "",
       "version_major": 2,
       "version_minor": 0
      },
      "text/plain": [
       "Computing the validation metrics:   0%|          | 0/79 [00:00<?, ?it/s]"
      ]
     },
     "metadata": {},
     "output_type": "display_data"
    },
    {
     "data": {
      "application/vnd.jupyter.widget-view+json": {
       "model_id": "",
       "version_major": 2,
       "version_minor": 0
      },
      "text/plain": [
       "Looping over the minibatches:   0%|          | 0/235 [00:00<?, ?it/s]"
      ]
     },
     "metadata": {},
     "output_type": "display_data"
    },
    {
     "data": {
      "application/vnd.jupyter.widget-view+json": {
       "model_id": "",
       "version_major": 2,
       "version_minor": 0
      },
      "text/plain": [
       "Computing the validation metrics:   0%|          | 0/79 [00:00<?, ?it/s]"
      ]
     },
     "metadata": {},
     "output_type": "display_data"
    },
    {
     "data": {
      "application/vnd.jupyter.widget-view+json": {
       "model_id": "",
       "version_major": 2,
       "version_minor": 0
      },
      "text/plain": [
       "Looping over the minibatches:   0%|          | 0/235 [00:00<?, ?it/s]"
      ]
     },
     "metadata": {},
     "output_type": "display_data"
    },
    {
     "data": {
      "application/vnd.jupyter.widget-view+json": {
       "model_id": "",
       "version_major": 2,
       "version_minor": 0
      },
      "text/plain": [
       "Computing the validation metrics:   0%|          | 0/79 [00:00<?, ?it/s]"
      ]
     },
     "metadata": {},
     "output_type": "display_data"
    },
    {
     "data": {
      "application/vnd.jupyter.widget-view+json": {
       "model_id": "",
       "version_major": 2,
       "version_minor": 0
      },
      "text/plain": [
       "Looping over the minibatches:   0%|          | 0/235 [00:00<?, ?it/s]"
      ]
     },
     "metadata": {},
     "output_type": "display_data"
    },
    {
     "data": {
      "application/vnd.jupyter.widget-view+json": {
       "model_id": "",
       "version_major": 2,
       "version_minor": 0
      },
      "text/plain": [
       "Computing the validation metrics:   0%|          | 0/79 [00:00<?, ?it/s]"
      ]
     },
     "metadata": {},
     "output_type": "display_data"
    },
    {
     "data": {
      "application/vnd.jupyter.widget-view+json": {
       "model_id": "",
       "version_major": 2,
       "version_minor": 0
      },
      "text/plain": [
       "Looping over the minibatches:   0%|          | 0/235 [00:00<?, ?it/s]"
      ]
     },
     "metadata": {},
     "output_type": "display_data"
    },
    {
     "data": {
      "application/vnd.jupyter.widget-view+json": {
       "model_id": "",
       "version_major": 2,
       "version_minor": 0
      },
      "text/plain": [
       "Computing the validation metrics:   0%|          | 0/79 [00:00<?, ?it/s]"
      ]
     },
     "metadata": {},
     "output_type": "display_data"
    }
   ],
   "source": [
    "HC = Haiku_Classifier()\n",
    "_ = HC.train(n_epochs = 50, \n",
    "             model = ComplexMLP, \n",
    "             optimizer = cmplx_adam(step_size=1e-2),  \n",
    "             train_dataloader = train_dl,\n",
    "             test_dataloader = test_dl,\n",
    "             verbose = False\n",
    "            )         "
   ]
  },
  {
   "cell_type": "code",
   "execution_count": 120,
   "id": "c3183cc0",
   "metadata": {},
   "outputs": [
    {
     "data": {
      "image/png": "[encoded data removed]",
      "text/plain": [
       "<Figure size 1152x360 with 3 Axes>"
      ]
     },
     "metadata": {
      "needs_background": "light"
     },
     "output_type": "display_data"
    }
   ],
   "source": [
    "small_training_summary(HC.training_history)"
   ]
  },
  {
   "cell_type": "code",
   "execution_count": 38,
   "id": "9a0c90d8",
   "metadata": {},
   "outputs": [
    {
     "data": {
      "image/png": "[encoded data removed]",
      "text/plain": [
       "<Figure size 1152x360 with 3 Axes>"
      ]
     },
     "metadata": {
      "needs_background": "light"
     },
     "output_type": "display_data"
    }
   ],
   "source": [
    "small_training_summary(HC.training_history)"
   ]
  },
  {
   "cell_type": "code",
   "execution_count": null,
   "id": "84d38e77",
   "metadata": {},
   "outputs": [],
   "source": []
  },
  {
   "cell_type": "code",
   "execution_count": null,
   "id": "de95f167",
   "metadata": {
    "scrolled": true
   },
   "outputs": [],
   "source": [
    "from complex_nn.layers import Cmplx_Linear, Dropout\n",
    "from complex_nn.activations import cardioid\n",
    "from complex_nn.haiku_ml_utils import initialize_cmplx_haiku_model\n",
    "from complex_nn.initializers import Cmplx_Xavier_Init, Cmplx_He_Init\n",
    "from complex_nn.utils import small_training_summary\n",
    "from complex_nn.metrics import categorical_accuracy"
   ]
  },
  {
   "cell_type": "code",
   "execution_count": null,
   "id": "e2cee248",
   "metadata": {},
   "outputs": [],
   "source": [
    "from complex_nn import metrics\n",
    "reload(metrics)\n",
    "from complex_nn.metrics import categorical_accuracy"
   ]
  },
  {
   "cell_type": "code",
   "execution_count": 3,
   "id": "ec07df37",
   "metadata": {},
   "outputs": [],
   "source": [
    "from complex_nn.Classifier_wrapper import Haiku_Classifier\n",
    "from complex_nn.optimizers import cmplx_adam\n",
    "import jax\n",
    "import jax.numpy as jnp"
   ]
  },
  {
   "cell_type": "code",
   "execution_count": 4,
   "id": "18cc42e5",
   "metadata": {},
   "outputs": [
    {
     "ename": "NameError",
     "evalue": "name 'initialize_cmplx_haiku_model' is not defined",
     "output_type": "error",
     "traceback": [
      "\u001b[0;31m---------------------------------------------------------------------------\u001b[0m",
      "\u001b[0;31mNameError\u001b[0m                                 Traceback (most recent call last)",
      "\u001b[0;32m/tmp/ipykernel_543576/1079094548.py\u001b[0m in \u001b[0;36m<module>\u001b[0;34m\u001b[0m\n\u001b[0;32m----> 1\u001b[0;31m \u001b[0mmodel\u001b[0m\u001b[0;34m,\u001b[0m \u001b[0mparams\u001b[0m\u001b[0;34m,\u001b[0m \u001b[0mstate\u001b[0m \u001b[0;34m=\u001b[0m \u001b[0minitialize_cmplx_haiku_model\u001b[0m\u001b[0;34m(\u001b[0m\u001b[0mComplexMLP\u001b[0m\u001b[0;34m,\u001b[0m \u001b[0minit_shape\u001b[0m\u001b[0;34m=\u001b[0m\u001b[0;34m(\u001b[0m\u001b[0;36m64\u001b[0m\u001b[0;34m,\u001b[0m\u001b[0;36m784\u001b[0m\u001b[0;34m)\u001b[0m\u001b[0;34m)\u001b[0m\u001b[0;34m\u001b[0m\u001b[0;34m\u001b[0m\u001b[0m\n\u001b[0m",
      "\u001b[0;31mNameError\u001b[0m: name 'initialize_cmplx_haiku_model' is not defined"
     ]
    }
   ],
   "source": [
    "model, params, state = initialize_cmplx_haiku_model(ComplexMLP, init_shape=(64,784))"
   ]
  },
  {
   "cell_type": "code",
   "execution_count": null,
   "id": "b978d8d7",
   "metadata": {},
   "outputs": [],
   "source": [
    "dummy_batch = next(iter(test_dl))"
   ]
  },
  {
   "cell_type": "code",
   "execution_count": null,
   "id": "6589c573",
   "metadata": {},
   "outputs": [],
   "source": [
    "categorical_accuracy(model, params, dummy_batch[0][0].unsqueeze(0).numpy(), dummy_batch[1][0].reshape(1,-1).numpy(), jax.random.PRNGKey(0), state)"
   ]
  },
  {
   "cell_type": "code",
   "execution_count": null,
   "id": "126f0c8d",
   "metadata": {},
   "outputs": [],
   "source": [
    "hc = Haiku_Classifier(rng_seed=42, with_state=True)\n",
    "_ = hc.train(n_epochs = 2, \n",
    "             model = ComplexMLP, \n",
    "             optimizer = cmplx_adam(step_size=1e-3),  \n",
    "             train_dataloader = train_dl,\n",
    "             test_dataloader = test_dl,\n",
    "             verbose = False)\n",
    "\n",
    "small_training_summary(hc.training_history)"
   ]
  },
  {
   "cell_type": "code",
   "execution_count": null,
   "id": "0c5d3d71",
   "metadata": {},
   "outputs": [],
   "source": [
    "class TwoCH_MLP(hk.Module):\n",
    "    \n",
    "    def __init__(self):\n",
    "        super().__init__()\n",
    "        self.fc1_r = hk.Linear(5)\n",
    "        self.fc2_r = hk.Linear(16)\n",
    "        \n",
    "        self.fc1_i = hk.Linear(5)\n",
    "        self.fc2_i = hk.Linear(16)\n",
    "        \n",
    "        self.fc3 = hk.Linear(10)\n",
    "        \n",
    "        self.dropout = Dropout(0.3)\n",
    "        self.flatten = hk.Flatten()\n",
    "        \n",
    "        self.act = jax.nn.relu\n",
    "        \n",
    "    def __call__(self, z, is_training):\n",
    "        \n",
    "        z = self.flatten(z)\n",
    "        x = z.real\n",
    "        y = z.imag\n",
    "        \n",
    "        x = self.act(self.fc1_r(x))\n",
    "        x = self.dropout(x)\n",
    "        #x = self.act(self.fc2_r(x))\n",
    "        \n",
    "        y = self.act(self.fc1_i(y))\n",
    "        y = self.dropout(y)\n",
    "        #y = self.act(self.fc2_i(y))\n",
    "        \n",
    "        xy = jnp.concatenate([x,y], axis=-1)\n",
    "        out = self.fc3(xy)\n",
    "        \n",
    "        return out"
   ]
  },
  {
   "cell_type": "code",
   "execution_count": null,
   "id": "5886aee2",
   "metadata": {},
   "outputs": [],
   "source": [
    "hc2ch = Haiku_Classifier(rng_seed=42, with_state=True)\n",
    "_ = hc2ch.train(n_epochs = 1000, \n",
    "             model = TwoCH_MLP, \n",
    "             optimizer = cmplx_adam(step_size=1e-2),  \n",
    "             train_dataloader = train_dl,\n",
    "             test_dataloader = test_dl,\n",
    "             verbose = False)\n",
    "\n",
    "small_training_summary(hc2ch.training_history)"
   ]
  },
  {
   "cell_type": "code",
   "execution_count": null,
   "id": "420ba8dd",
   "metadata": {},
   "outputs": [],
   "source": [
    "import complex_nn\n",
    "reload(complex_nn)\n",
    "from complex_nn.utils import small_training_summary"
   ]
  },
  {
   "cell_type": "code",
   "execution_count": null,
   "id": "ebb0ebc7",
   "metadata": {},
   "outputs": [],
   "source": []
  },
  {
   "cell_type": "markdown",
   "id": "d7e54522",
   "metadata": {},
   "source": [
    "Test to do:\n",
    "* different weights initializations\n",
    "* real vs complex vs 2-channels\n",
    "* real vs complex with and without regularization\n",
    "* test different activations"
   ]
  }
 ],
 "metadata": {
  "kernelspec": {
   "display_name": "Python 3 (ipykernel)",
   "language": "python",
   "name": "python3"
  },
  "language_info": {
   "codemirror_mode": {
    "name": "ipython",
    "version": 3
   },
   "file_extension": ".py",
   "mimetype": "text/x-python",
   "name": "python",
   "nbconvert_exporter": "python",
   "pygments_lexer": "ipython3",
   "version": "3.9.7"
  }
 },
 "nbformat": 4,
 "nbformat_minor": 5
}
